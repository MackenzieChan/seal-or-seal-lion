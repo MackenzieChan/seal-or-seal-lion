{
  "nbformat": 4,
  "nbformat_minor": 0,
  "metadata": {
    "colab": {
      "provenance": [],
      "collapsed_sections": []
    },
    "kernelspec": {
      "name": "python3",
      "display_name": "Python 3"
    },
    "language_info": {
      "name": "python"
    },
    "widgets": {
      "application/vnd.jupyter.widget-state+json": {
        "c3f6749eb2ad41acb8a2d684e0bc2571": {
          "model_module": "@jupyter-widgets/controls",
          "model_name": "VBoxModel",
          "model_module_version": "1.5.0",
          "state": {
            "_dom_classes": [],
            "_model_module": "@jupyter-widgets/controls",
            "_model_module_version": "1.5.0",
            "_model_name": "VBoxModel",
            "_view_count": null,
            "_view_module": "@jupyter-widgets/controls",
            "_view_module_version": "1.5.0",
            "_view_name": "VBoxView",
            "box_style": "",
            "children": [
              "IPY_MODEL_a1e99a9756b54e249bb090c57ac415c1",
              "IPY_MODEL_1705357ed7154265a751206875bed385",
              "IPY_MODEL_756275d07e4b435dbbd9a09528f3b344",
              "IPY_MODEL_5152fc174cdb41deabcc862636141bb7",
              "IPY_MODEL_f9d2cc8eead646569209d7b13ddbaba5",
              "IPY_MODEL_19c11ace38374eedba80bceaf638c83d"
            ],
            "layout": "IPY_MODEL_8cd9f8bf55fd453aafb5efa75e64d7ab"
          }
        },
        "a1e99a9756b54e249bb090c57ac415c1": {
          "model_module": "@jupyter-widgets/controls",
          "model_name": "LabelModel",
          "model_module_version": "1.5.0",
          "state": {
            "_dom_classes": [],
            "_model_module": "@jupyter-widgets/controls",
            "_model_module_version": "1.5.0",
            "_model_name": "LabelModel",
            "_view_count": null,
            "_view_module": "@jupyter-widgets/controls",
            "_view_module_version": "1.5.0",
            "_view_name": "LabelView",
            "description": "",
            "description_tooltip": null,
            "layout": "IPY_MODEL_237238dba43c4965b220a5a90ab97475",
            "placeholder": "​",
            "style": "IPY_MODEL_a4fb25524de14bec9536fb31877bb0d0",
            "value": "Upload a photo of either a sea lion or a seal!"
          }
        },
        "1705357ed7154265a751206875bed385": {
          "model_module": "@jupyter-widgets/controls",
          "model_name": "FileUploadModel",
          "model_module_version": "1.5.0",
          "state": {
            "_counter": 2,
            "_dom_classes": [],
            "_model_module": "@jupyter-widgets/controls",
            "_model_module_version": "1.5.0",
            "_model_name": "FileUploadModel",
            "_view_count": null,
            "_view_module": "@jupyter-widgets/controls",
            "_view_module_version": "1.5.0",
            "_view_name": "FileUploadView",
            "accept": "",
            "button_style": "",
            "data": [
              null
            ],
            "description": "Upload",
            "description_tooltip": null,
            "disabled": false,
            "error": "",
            "icon": "upload",
            "layout": "IPY_MODEL_8d7c3b2f6fe5431ba7e341a72c088ec9",
            "metadata": [
              {
                "name": "Screenshot 2022-11-04 135809.png",
                "type": "image/png",
                "size": 46660,
                "lastModified": 1667595493217
              }
            ],
            "multiple": false,
            "style": "IPY_MODEL_be02e0e1a8594909816f66d6c1cbab4e"
          }
        },
        "756275d07e4b435dbbd9a09528f3b344": {
          "model_module": "@jupyter-widgets/controls",
          "model_name": "ButtonModel",
          "model_module_version": "1.5.0",
          "state": {
            "_dom_classes": [],
            "_model_module": "@jupyter-widgets/controls",
            "_model_module_version": "1.5.0",
            "_model_name": "ButtonModel",
            "_view_count": null,
            "_view_module": "@jupyter-widgets/controls",
            "_view_module_version": "1.5.0",
            "_view_name": "ButtonView",
            "button_style": "",
            "description": "Classify",
            "disabled": false,
            "icon": "",
            "layout": "IPY_MODEL_b7827972a9f1461cb295c02589be987b",
            "style": "IPY_MODEL_51c4cacc7b644f72b062533d9205b92b",
            "tooltip": ""
          }
        },
        "5152fc174cdb41deabcc862636141bb7": {
          "model_module": "@jupyter-widgets/output",
          "model_name": "OutputModel",
          "model_module_version": "1.0.0",
          "state": {
            "_dom_classes": [],
            "_model_module": "@jupyter-widgets/output",
            "_model_module_version": "1.0.0",
            "_model_name": "OutputModel",
            "_view_count": null,
            "_view_module": "@jupyter-widgets/output",
            "_view_module_version": "1.0.0",
            "_view_name": "OutputView",
            "layout": "IPY_MODEL_fec2666ecdbf441fbcb6d8b6e357d445",
            "msg_id": "",
            "outputs": [
              {
                "output_type": "display_data",
                "data": {
                  "text/plain": "<PIL.Image.Image image mode=RGB size=128x82>",
                  "image/png": "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\n"
                },
                "metadata": {}
              }
            ]
          }
        },
        "f9d2cc8eead646569209d7b13ddbaba5": {
          "model_module": "@jupyter-widgets/controls",
          "model_name": "LabelModel",
          "model_module_version": "1.5.0",
          "state": {
            "_dom_classes": [],
            "_model_module": "@jupyter-widgets/controls",
            "_model_module_version": "1.5.0",
            "_model_name": "LabelModel",
            "_view_count": null,
            "_view_module": "@jupyter-widgets/controls",
            "_view_module_version": "1.5.0",
            "_view_name": "LabelView",
            "description": "",
            "description_tooltip": null,
            "layout": "IPY_MODEL_92a4977f123c4747906c29c6bef77023",
            "placeholder": "​",
            "style": "IPY_MODEL_359ce2e1aed943c6a90efd28ae5e0f89",
            "value": "Prediction: California sea lion; Probability: 0.6907"
          }
        },
        "19c11ace38374eedba80bceaf638c83d": {
          "model_module": "@jupyter-widgets/controls",
          "model_name": "LabelModel",
          "model_module_version": "1.5.0",
          "state": {
            "_dom_classes": [],
            "_model_module": "@jupyter-widgets/controls",
            "_model_module_version": "1.5.0",
            "_model_name": "LabelModel",
            "_view_count": null,
            "_view_module": "@jupyter-widgets/controls",
            "_view_module_version": "1.5.0",
            "_view_name": "LabelView",
            "description": "",
            "description_tooltip": null,
            "layout": "IPY_MODEL_43b9d312a795404fac867f2c7643381e",
            "placeholder": "​",
            "style": "IPY_MODEL_48599b0c494945d5a0a96859347bdfdb",
            "value": "Prediction: Harbor seal; Probability: 0.0218"
          }
        },
        "8cd9f8bf55fd453aafb5efa75e64d7ab": {
          "model_module": "@jupyter-widgets/base",
          "model_name": "LayoutModel",
          "model_module_version": "1.2.0",
          "state": {
            "_model_module": "@jupyter-widgets/base",
            "_model_module_version": "1.2.0",
            "_model_name": "LayoutModel",
            "_view_count": null,
            "_view_module": "@jupyter-widgets/base",
            "_view_module_version": "1.2.0",
            "_view_name": "LayoutView",
            "align_content": null,
            "align_items": null,
            "align_self": null,
            "border": null,
            "bottom": null,
            "display": null,
            "flex": null,
            "flex_flow": null,
            "grid_area": null,
            "grid_auto_columns": null,
            "grid_auto_flow": null,
            "grid_auto_rows": null,
            "grid_column": null,
            "grid_gap": null,
            "grid_row": null,
            "grid_template_areas": null,
            "grid_template_columns": null,
            "grid_template_rows": null,
            "height": null,
            "justify_content": null,
            "justify_items": null,
            "left": null,
            "margin": null,
            "max_height": null,
            "max_width": null,
            "min_height": null,
            "min_width": null,
            "object_fit": null,
            "object_position": null,
            "order": null,
            "overflow": null,
            "overflow_x": null,
            "overflow_y": null,
            "padding": null,
            "right": null,
            "top": null,
            "visibility": null,
            "width": null
          }
        },
        "237238dba43c4965b220a5a90ab97475": {
          "model_module": "@jupyter-widgets/base",
          "model_name": "LayoutModel",
          "model_module_version": "1.2.0",
          "state": {
            "_model_module": "@jupyter-widgets/base",
            "_model_module_version": "1.2.0",
            "_model_name": "LayoutModel",
            "_view_count": null,
            "_view_module": "@jupyter-widgets/base",
            "_view_module_version": "1.2.0",
            "_view_name": "LayoutView",
            "align_content": null,
            "align_items": null,
            "align_self": null,
            "border": null,
            "bottom": null,
            "display": null,
            "flex": null,
            "flex_flow": null,
            "grid_area": null,
            "grid_auto_columns": null,
            "grid_auto_flow": null,
            "grid_auto_rows": null,
            "grid_column": null,
            "grid_gap": null,
            "grid_row": null,
            "grid_template_areas": null,
            "grid_template_columns": null,
            "grid_template_rows": null,
            "height": null,
            "justify_content": null,
            "justify_items": null,
            "left": null,
            "margin": null,
            "max_height": null,
            "max_width": null,
            "min_height": null,
            "min_width": null,
            "object_fit": null,
            "object_position": null,
            "order": null,
            "overflow": null,
            "overflow_x": null,
            "overflow_y": null,
            "padding": null,
            "right": null,
            "top": null,
            "visibility": null,
            "width": null
          }
        },
        "a4fb25524de14bec9536fb31877bb0d0": {
          "model_module": "@jupyter-widgets/controls",
          "model_name": "DescriptionStyleModel",
          "model_module_version": "1.5.0",
          "state": {
            "_model_module": "@jupyter-widgets/controls",
            "_model_module_version": "1.5.0",
            "_model_name": "DescriptionStyleModel",
            "_view_count": null,
            "_view_module": "@jupyter-widgets/base",
            "_view_module_version": "1.2.0",
            "_view_name": "StyleView",
            "description_width": ""
          }
        },
        "8d7c3b2f6fe5431ba7e341a72c088ec9": {
          "model_module": "@jupyter-widgets/base",
          "model_name": "LayoutModel",
          "model_module_version": "1.2.0",
          "state": {
            "_model_module": "@jupyter-widgets/base",
            "_model_module_version": "1.2.0",
            "_model_name": "LayoutModel",
            "_view_count": null,
            "_view_module": "@jupyter-widgets/base",
            "_view_module_version": "1.2.0",
            "_view_name": "LayoutView",
            "align_content": null,
            "align_items": null,
            "align_self": null,
            "border": null,
            "bottom": null,
            "display": null,
            "flex": null,
            "flex_flow": null,
            "grid_area": null,
            "grid_auto_columns": null,
            "grid_auto_flow": null,
            "grid_auto_rows": null,
            "grid_column": null,
            "grid_gap": null,
            "grid_row": null,
            "grid_template_areas": null,
            "grid_template_columns": null,
            "grid_template_rows": null,
            "height": null,
            "justify_content": null,
            "justify_items": null,
            "left": null,
            "margin": null,
            "max_height": null,
            "max_width": null,
            "min_height": null,
            "min_width": null,
            "object_fit": null,
            "object_position": null,
            "order": null,
            "overflow": null,
            "overflow_x": null,
            "overflow_y": null,
            "padding": null,
            "right": null,
            "top": null,
            "visibility": null,
            "width": null
          }
        },
        "be02e0e1a8594909816f66d6c1cbab4e": {
          "model_module": "@jupyter-widgets/controls",
          "model_name": "ButtonStyleModel",
          "model_module_version": "1.5.0",
          "state": {
            "_model_module": "@jupyter-widgets/controls",
            "_model_module_version": "1.5.0",
            "_model_name": "ButtonStyleModel",
            "_view_count": null,
            "_view_module": "@jupyter-widgets/base",
            "_view_module_version": "1.2.0",
            "_view_name": "StyleView",
            "button_color": null,
            "font_weight": ""
          }
        },
        "b7827972a9f1461cb295c02589be987b": {
          "model_module": "@jupyter-widgets/base",
          "model_name": "LayoutModel",
          "model_module_version": "1.2.0",
          "state": {
            "_model_module": "@jupyter-widgets/base",
            "_model_module_version": "1.2.0",
            "_model_name": "LayoutModel",
            "_view_count": null,
            "_view_module": "@jupyter-widgets/base",
            "_view_module_version": "1.2.0",
            "_view_name": "LayoutView",
            "align_content": null,
            "align_items": null,
            "align_self": null,
            "border": null,
            "bottom": null,
            "display": null,
            "flex": null,
            "flex_flow": null,
            "grid_area": null,
            "grid_auto_columns": null,
            "grid_auto_flow": null,
            "grid_auto_rows": null,
            "grid_column": null,
            "grid_gap": null,
            "grid_row": null,
            "grid_template_areas": null,
            "grid_template_columns": null,
            "grid_template_rows": null,
            "height": null,
            "justify_content": null,
            "justify_items": null,
            "left": null,
            "margin": null,
            "max_height": null,
            "max_width": null,
            "min_height": null,
            "min_width": null,
            "object_fit": null,
            "object_position": null,
            "order": null,
            "overflow": null,
            "overflow_x": null,
            "overflow_y": null,
            "padding": null,
            "right": null,
            "top": null,
            "visibility": null,
            "width": null
          }
        },
        "51c4cacc7b644f72b062533d9205b92b": {
          "model_module": "@jupyter-widgets/controls",
          "model_name": "ButtonStyleModel",
          "model_module_version": "1.5.0",
          "state": {
            "_model_module": "@jupyter-widgets/controls",
            "_model_module_version": "1.5.0",
            "_model_name": "ButtonStyleModel",
            "_view_count": null,
            "_view_module": "@jupyter-widgets/base",
            "_view_module_version": "1.2.0",
            "_view_name": "StyleView",
            "button_color": null,
            "font_weight": ""
          }
        },
        "92a4977f123c4747906c29c6bef77023": {
          "model_module": "@jupyter-widgets/base",
          "model_name": "LayoutModel",
          "model_module_version": "1.2.0",
          "state": {
            "_model_module": "@jupyter-widgets/base",
            "_model_module_version": "1.2.0",
            "_model_name": "LayoutModel",
            "_view_count": null,
            "_view_module": "@jupyter-widgets/base",
            "_view_module_version": "1.2.0",
            "_view_name": "LayoutView",
            "align_content": null,
            "align_items": null,
            "align_self": null,
            "border": null,
            "bottom": null,
            "display": null,
            "flex": null,
            "flex_flow": null,
            "grid_area": null,
            "grid_auto_columns": null,
            "grid_auto_flow": null,
            "grid_auto_rows": null,
            "grid_column": null,
            "grid_gap": null,
            "grid_row": null,
            "grid_template_areas": null,
            "grid_template_columns": null,
            "grid_template_rows": null,
            "height": null,
            "justify_content": null,
            "justify_items": null,
            "left": null,
            "margin": null,
            "max_height": null,
            "max_width": null,
            "min_height": null,
            "min_width": null,
            "object_fit": null,
            "object_position": null,
            "order": null,
            "overflow": null,
            "overflow_x": null,
            "overflow_y": null,
            "padding": null,
            "right": null,
            "top": null,
            "visibility": null,
            "width": null
          }
        },
        "359ce2e1aed943c6a90efd28ae5e0f89": {
          "model_module": "@jupyter-widgets/controls",
          "model_name": "DescriptionStyleModel",
          "model_module_version": "1.5.0",
          "state": {
            "_model_module": "@jupyter-widgets/controls",
            "_model_module_version": "1.5.0",
            "_model_name": "DescriptionStyleModel",
            "_view_count": null,
            "_view_module": "@jupyter-widgets/base",
            "_view_module_version": "1.2.0",
            "_view_name": "StyleView",
            "description_width": ""
          }
        },
        "43b9d312a795404fac867f2c7643381e": {
          "model_module": "@jupyter-widgets/base",
          "model_name": "LayoutModel",
          "model_module_version": "1.2.0",
          "state": {
            "_model_module": "@jupyter-widgets/base",
            "_model_module_version": "1.2.0",
            "_model_name": "LayoutModel",
            "_view_count": null,
            "_view_module": "@jupyter-widgets/base",
            "_view_module_version": "1.2.0",
            "_view_name": "LayoutView",
            "align_content": null,
            "align_items": null,
            "align_self": null,
            "border": null,
            "bottom": null,
            "display": null,
            "flex": null,
            "flex_flow": null,
            "grid_area": null,
            "grid_auto_columns": null,
            "grid_auto_flow": null,
            "grid_auto_rows": null,
            "grid_column": null,
            "grid_gap": null,
            "grid_row": null,
            "grid_template_areas": null,
            "grid_template_columns": null,
            "grid_template_rows": null,
            "height": null,
            "justify_content": null,
            "justify_items": null,
            "left": null,
            "margin": null,
            "max_height": null,
            "max_width": null,
            "min_height": null,
            "min_width": null,
            "object_fit": null,
            "object_position": null,
            "order": null,
            "overflow": null,
            "overflow_x": null,
            "overflow_y": null,
            "padding": null,
            "right": null,
            "top": null,
            "visibility": null,
            "width": null
          }
        },
        "48599b0c494945d5a0a96859347bdfdb": {
          "model_module": "@jupyter-widgets/controls",
          "model_name": "DescriptionStyleModel",
          "model_module_version": "1.5.0",
          "state": {
            "_model_module": "@jupyter-widgets/controls",
            "_model_module_version": "1.5.0",
            "_model_name": "DescriptionStyleModel",
            "_view_count": null,
            "_view_module": "@jupyter-widgets/base",
            "_view_module_version": "1.2.0",
            "_view_name": "StyleView",
            "description_width": ""
          }
        },
        "fec2666ecdbf441fbcb6d8b6e357d445": {
          "model_module": "@jupyter-widgets/base",
          "model_name": "LayoutModel",
          "model_module_version": "1.2.0",
          "state": {
            "_model_module": "@jupyter-widgets/base",
            "_model_module_version": "1.2.0",
            "_model_name": "LayoutModel",
            "_view_count": null,
            "_view_module": "@jupyter-widgets/base",
            "_view_module_version": "1.2.0",
            "_view_name": "LayoutView",
            "align_content": null,
            "align_items": null,
            "align_self": null,
            "border": null,
            "bottom": null,
            "display": null,
            "flex": null,
            "flex_flow": null,
            "grid_area": null,
            "grid_auto_columns": null,
            "grid_auto_flow": null,
            "grid_auto_rows": null,
            "grid_column": null,
            "grid_gap": null,
            "grid_row": null,
            "grid_template_areas": null,
            "grid_template_columns": null,
            "grid_template_rows": null,
            "height": null,
            "justify_content": null,
            "justify_items": null,
            "left": null,
            "margin": null,
            "max_height": null,
            "max_width": null,
            "min_height": null,
            "min_width": null,
            "object_fit": null,
            "object_position": null,
            "order": null,
            "overflow": null,
            "overflow_x": null,
            "overflow_y": null,
            "padding": null,
            "right": null,
            "top": null,
            "visibility": null,
            "width": null
          }
        }
      }
    }
  },
  "cells": [
    {
      "cell_type": "code",
      "source": [
        "!pip install -Uqq fastbook\n",
        "import fastbook\n",
        "fastbook.setup_book()\n",
        "from fastbook import *"
      ],
      "metadata": {
        "id": "Oi8OuffSkMmp",
        "colab": {
          "base_uri": "https://localhost:8080/"
        },
        "outputId": "66807f45-14a9-4e29-dedf-304b5fd5c77a"
      },
      "execution_count": 1,
      "outputs": [
        {
          "output_type": "stream",
          "name": "stdout",
          "text": [
            "\u001b[K     |████████████████████████████████| 719 kB 13.2 MB/s \n",
            "\u001b[K     |████████████████████████████████| 1.3 MB 57.9 MB/s \n",
            "\u001b[K     |████████████████████████████████| 441 kB 57.8 MB/s \n",
            "\u001b[K     |████████████████████████████████| 5.5 MB 52.9 MB/s \n",
            "\u001b[K     |████████████████████████████████| 1.6 MB 51.0 MB/s \n",
            "\u001b[K     |████████████████████████████████| 115 kB 62.1 MB/s \n",
            "\u001b[K     |████████████████████████████████| 163 kB 60.5 MB/s \n",
            "\u001b[K     |████████████████████████████████| 95 kB 5.9 MB/s \n",
            "\u001b[K     |████████████████████████████████| 212 kB 68.0 MB/s \n",
            "\u001b[K     |████████████████████████████████| 127 kB 65.8 MB/s \n",
            "\u001b[K     |████████████████████████████████| 115 kB 64.8 MB/s \n",
            "\u001b[K     |████████████████████████████████| 7.6 MB 58.9 MB/s \n",
            "\u001b[?25hMounted at /content/gdrive\n"
          ]
        }
      ]
    },
    {
      "cell_type": "code",
      "source": [
        "from fastai.vision.all import *\n",
        "from fastai.vision.widgets import *\n",
        "def get_x(r): return r['fname']\n",
        "def get_y(r): return r['labels'].split(' ')"
      ],
      "metadata": {
        "id": "jHJhk49WJZUi"
      },
      "execution_count": 2,
      "outputs": []
    },
    {
      "cell_type": "code",
      "source": [
        "path = Path('gdrive/Shared drives/mimimimimi')\n",
        "learn_inf = load_learner('export.pkl')\n"
      ],
      "metadata": {
        "id": "MWIQXfQZLKQ7"
      },
      "execution_count": 4,
      "outputs": []
    },
    {
      "cell_type": "code",
      "source": [
        "btn_upload = widgets.FileUpload()"
      ],
      "metadata": {
        "id": "h9OwONHMMKTE"
      },
      "execution_count": 6,
      "outputs": []
    },
    {
      "cell_type": "code",
      "source": [
        "btn_run = widgets.Button(description='Classify')"
      ],
      "metadata": {
        "id": "qW44mWNAMReC"
      },
      "execution_count": 7,
      "outputs": []
    },
    {
      "cell_type": "code",
      "source": [
        "out_pl = widgets.Output()\n",
        "lbl_pred = widgets.Label()\n",
        "hi = [] "
      ],
      "metadata": {
        "id": "zbBkGi2YMpxO"
      },
      "execution_count": 37,
      "outputs": []
    },
    {
      "cell_type": "code",
      "source": [
        "def nameProbDisplay(animal, prob):\n",
        "  return f'Prediction: {animal.replace(\"_\", \" \").capitalize()}; Probability: {prob:.4f}'"
      ],
      "metadata": {
        "id": "DKOJYC4rq18F"
      },
      "execution_count": 9,
      "outputs": []
    },
    {
      "cell_type": "code",
      "source": [
        "def on_click_classify(change):\n",
        "    img = PILImage.create(btn_upload.data[-1])\n",
        "    out_pl.clear_output()\n",
        "    with out_pl: display(img.to_thumb(128,128))\n",
        "    pred_class,pred_idx,probabilities = learn_inf.predict(img)\n",
        "    for i in range(len(pred_class)):\n",
        "      hi.append(widgets.Label(nameProbDisplay(pred_class[i], probabilities[i])))\n",
        "btn_run.on_click(on_click_classify)"
      ],
      "metadata": {
        "id": "1XAMEU2dKjJZ"
      },
      "execution_count": 41,
      "outputs": []
    },
    {
      "cell_type": "code",
      "source": [
        "ack = [widgets.Label('Upload a photo of either a sea lion or a seal!'), \n",
        "      btn_upload, btn_run, out_pl] + hi\n",
        "VBox(ack)"
      ],
      "metadata": {
        "colab": {
          "base_uri": "https://localhost:8080/",
          "height": 1000,
          "referenced_widgets": [
            "c3f6749eb2ad41acb8a2d684e0bc2571",
            "a1e99a9756b54e249bb090c57ac415c1",
            "1705357ed7154265a751206875bed385",
            "756275d07e4b435dbbd9a09528f3b344",
            "5152fc174cdb41deabcc862636141bb7",
            "f9d2cc8eead646569209d7b13ddbaba5",
            "19c11ace38374eedba80bceaf638c83d",
            "8cd9f8bf55fd453aafb5efa75e64d7ab",
            "237238dba43c4965b220a5a90ab97475",
            "a4fb25524de14bec9536fb31877bb0d0",
            "8d7c3b2f6fe5431ba7e341a72c088ec9",
            "be02e0e1a8594909816f66d6c1cbab4e",
            "b7827972a9f1461cb295c02589be987b",
            "51c4cacc7b644f72b062533d9205b92b",
            "92a4977f123c4747906c29c6bef77023",
            "359ce2e1aed943c6a90efd28ae5e0f89",
            "43b9d312a795404fac867f2c7643381e",
            "48599b0c494945d5a0a96859347bdfdb",
            "fec2666ecdbf441fbcb6d8b6e357d445"
          ]
        },
        "id": "Dp0tR3ipMx6M",
        "outputId": "78e31152-39ce-49d8-a68c-14eb4dd97c20"
      },
      "execution_count": 42,
      "outputs": [
        {
          "output_type": "display_data",
          "data": {
            "text/plain": [
              "VBox(children=(Label(value='Upload a photo of either a sea lion or a seal!'), FileUpload(value={'Screenshot 20…"
            ],
            "application/vnd.jupyter.widget-view+json": {
              "version_major": 2,
              "version_minor": 0,
              "model_id": "c3f6749eb2ad41acb8a2d684e0bc2571"
            }
          },
          "metadata": {}
        },
        {
          "output_type": "display_data",
          "data": {
            "text/plain": [
              "<IPython.core.display.HTML object>"
            ],
            "text/html": [
              "\n",
              "<style>\n",
              "    /* Turns off some styling */\n",
              "    progress {\n",
              "        /* gets rid of default border in Firefox and Opera. */\n",
              "        border: none;\n",
              "        /* Needs to be in here for Safari polyfill so background images work as expected. */\n",
              "        background-size: auto;\n",
              "    }\n",
              "    progress:not([value]), progress:not([value])::-webkit-progress-bar {\n",
              "        background: repeating-linear-gradient(45deg, #7e7e7e, #7e7e7e 10px, #5c5c5c 10px, #5c5c5c 20px);\n",
              "    }\n",
              "    .progress-bar-interrupted, .progress-bar-interrupted::-webkit-progress-bar {\n",
              "        background: #F44336;\n",
              "    }\n",
              "</style>\n"
            ]
          },
          "metadata": {}
        },
        {
          "output_type": "display_data",
          "data": {
            "text/plain": [
              "<IPython.core.display.HTML object>"
            ],
            "text/html": []
          },
          "metadata": {}
        },
        {
          "output_type": "display_data",
          "data": {
            "text/plain": [
              "<IPython.core.display.HTML object>"
            ],
            "text/html": [
              "\n",
              "<style>\n",
              "    /* Turns off some styling */\n",
              "    progress {\n",
              "        /* gets rid of default border in Firefox and Opera. */\n",
              "        border: none;\n",
              "        /* Needs to be in here for Safari polyfill so background images work as expected. */\n",
              "        background-size: auto;\n",
              "    }\n",
              "    progress:not([value]), progress:not([value])::-webkit-progress-bar {\n",
              "        background: repeating-linear-gradient(45deg, #7e7e7e, #7e7e7e 10px, #5c5c5c 10px, #5c5c5c 20px);\n",
              "    }\n",
              "    .progress-bar-interrupted, .progress-bar-interrupted::-webkit-progress-bar {\n",
              "        background: #F44336;\n",
              "    }\n",
              "</style>\n"
            ]
          },
          "metadata": {}
        },
        {
          "output_type": "display_data",
          "data": {
            "text/plain": [
              "<IPython.core.display.HTML object>"
            ],
            "text/html": []
          },
          "metadata": {}
        },
        {
          "output_type": "display_data",
          "data": {
            "text/plain": [
              "<IPython.core.display.HTML object>"
            ],
            "text/html": [
              "\n",
              "<style>\n",
              "    /* Turns off some styling */\n",
              "    progress {\n",
              "        /* gets rid of default border in Firefox and Opera. */\n",
              "        border: none;\n",
              "        /* Needs to be in here for Safari polyfill so background images work as expected. */\n",
              "        background-size: auto;\n",
              "    }\n",
              "    progress:not([value]), progress:not([value])::-webkit-progress-bar {\n",
              "        background: repeating-linear-gradient(45deg, #7e7e7e, #7e7e7e 10px, #5c5c5c 10px, #5c5c5c 20px);\n",
              "    }\n",
              "    .progress-bar-interrupted, .progress-bar-interrupted::-webkit-progress-bar {\n",
              "        background: #F44336;\n",
              "    }\n",
              "</style>\n"
            ]
          },
          "metadata": {}
        },
        {
          "output_type": "display_data",
          "data": {
            "text/plain": [
              "<IPython.core.display.HTML object>"
            ],
            "text/html": []
          },
          "metadata": {}
        },
        {
          "output_type": "display_data",
          "data": {
            "text/plain": [
              "<IPython.core.display.HTML object>"
            ],
            "text/html": [
              "\n",
              "<style>\n",
              "    /* Turns off some styling */\n",
              "    progress {\n",
              "        /* gets rid of default border in Firefox and Opera. */\n",
              "        border: none;\n",
              "        /* Needs to be in here for Safari polyfill so background images work as expected. */\n",
              "        background-size: auto;\n",
              "    }\n",
              "    progress:not([value]), progress:not([value])::-webkit-progress-bar {\n",
              "        background: repeating-linear-gradient(45deg, #7e7e7e, #7e7e7e 10px, #5c5c5c 10px, #5c5c5c 20px);\n",
              "    }\n",
              "    .progress-bar-interrupted, .progress-bar-interrupted::-webkit-progress-bar {\n",
              "        background: #F44336;\n",
              "    }\n",
              "</style>\n"
            ]
          },
          "metadata": {}
        },
        {
          "output_type": "display_data",
          "data": {
            "text/plain": [
              "<IPython.core.display.HTML object>"
            ],
            "text/html": []
          },
          "metadata": {}
        },
        {
          "output_type": "display_data",
          "data": {
            "text/plain": [
              "<IPython.core.display.HTML object>"
            ],
            "text/html": [
              "\n",
              "<style>\n",
              "    /* Turns off some styling */\n",
              "    progress {\n",
              "        /* gets rid of default border in Firefox and Opera. */\n",
              "        border: none;\n",
              "        /* Needs to be in here for Safari polyfill so background images work as expected. */\n",
              "        background-size: auto;\n",
              "    }\n",
              "    progress:not([value]), progress:not([value])::-webkit-progress-bar {\n",
              "        background: repeating-linear-gradient(45deg, #7e7e7e, #7e7e7e 10px, #5c5c5c 10px, #5c5c5c 20px);\n",
              "    }\n",
              "    .progress-bar-interrupted, .progress-bar-interrupted::-webkit-progress-bar {\n",
              "        background: #F44336;\n",
              "    }\n",
              "</style>\n"
            ]
          },
          "metadata": {}
        },
        {
          "output_type": "display_data",
          "data": {
            "text/plain": [
              "<IPython.core.display.HTML object>"
            ],
            "text/html": []
          },
          "metadata": {}
        },
        {
          "output_type": "display_data",
          "data": {
            "text/plain": [
              "<IPython.core.display.HTML object>"
            ],
            "text/html": [
              "\n",
              "<style>\n",
              "    /* Turns off some styling */\n",
              "    progress {\n",
              "        /* gets rid of default border in Firefox and Opera. */\n",
              "        border: none;\n",
              "        /* Needs to be in here for Safari polyfill so background images work as expected. */\n",
              "        background-size: auto;\n",
              "    }\n",
              "    progress:not([value]), progress:not([value])::-webkit-progress-bar {\n",
              "        background: repeating-linear-gradient(45deg, #7e7e7e, #7e7e7e 10px, #5c5c5c 10px, #5c5c5c 20px);\n",
              "    }\n",
              "    .progress-bar-interrupted, .progress-bar-interrupted::-webkit-progress-bar {\n",
              "        background: #F44336;\n",
              "    }\n",
              "</style>\n"
            ]
          },
          "metadata": {}
        },
        {
          "output_type": "display_data",
          "data": {
            "text/plain": [
              "<IPython.core.display.HTML object>"
            ],
            "text/html": []
          },
          "metadata": {}
        },
        {
          "output_type": "display_data",
          "data": {
            "text/plain": [
              "<IPython.core.display.HTML object>"
            ],
            "text/html": [
              "\n",
              "<style>\n",
              "    /* Turns off some styling */\n",
              "    progress {\n",
              "        /* gets rid of default border in Firefox and Opera. */\n",
              "        border: none;\n",
              "        /* Needs to be in here for Safari polyfill so background images work as expected. */\n",
              "        background-size: auto;\n",
              "    }\n",
              "    progress:not([value]), progress:not([value])::-webkit-progress-bar {\n",
              "        background: repeating-linear-gradient(45deg, #7e7e7e, #7e7e7e 10px, #5c5c5c 10px, #5c5c5c 20px);\n",
              "    }\n",
              "    .progress-bar-interrupted, .progress-bar-interrupted::-webkit-progress-bar {\n",
              "        background: #F44336;\n",
              "    }\n",
              "</style>\n"
            ]
          },
          "metadata": {}
        },
        {
          "output_type": "display_data",
          "data": {
            "text/plain": [
              "<IPython.core.display.HTML object>"
            ],
            "text/html": []
          },
          "metadata": {}
        },
        {
          "output_type": "display_data",
          "data": {
            "text/plain": [
              "<IPython.core.display.HTML object>"
            ],
            "text/html": [
              "\n",
              "<style>\n",
              "    /* Turns off some styling */\n",
              "    progress {\n",
              "        /* gets rid of default border in Firefox and Opera. */\n",
              "        border: none;\n",
              "        /* Needs to be in here for Safari polyfill so background images work as expected. */\n",
              "        background-size: auto;\n",
              "    }\n",
              "    progress:not([value]), progress:not([value])::-webkit-progress-bar {\n",
              "        background: repeating-linear-gradient(45deg, #7e7e7e, #7e7e7e 10px, #5c5c5c 10px, #5c5c5c 20px);\n",
              "    }\n",
              "    .progress-bar-interrupted, .progress-bar-interrupted::-webkit-progress-bar {\n",
              "        background: #F44336;\n",
              "    }\n",
              "</style>\n"
            ]
          },
          "metadata": {}
        },
        {
          "output_type": "display_data",
          "data": {
            "text/plain": [
              "<IPython.core.display.HTML object>"
            ],
            "text/html": []
          },
          "metadata": {}
        },
        {
          "output_type": "error",
          "ename": "NameError",
          "evalue": "ignored",
          "traceback": [
            "\u001b[0;31m---------------------------------------------------------------------------\u001b[0m",
            "\u001b[0;31mNameError\u001b[0m                                 Traceback (most recent call last)",
            "\u001b[0;32m<ipython-input-27-68a4c40c02d1>\u001b[0m in \u001b[0;36mon_click_classify\u001b[0;34m(change)\u001b[0m\n\u001b[1;32m      9\u001b[0m \u001b[0;34m\u001b[0m\u001b[0m\n\u001b[1;32m     10\u001b[0m     \u001b[0;32mfor\u001b[0m \u001b[0mthing\u001b[0m \u001b[0;32min\u001b[0m \u001b[0mack\u001b[0m\u001b[0;34m:\u001b[0m\u001b[0;34m\u001b[0m\u001b[0;34m\u001b[0m\u001b[0m\n\u001b[0;32m---> 11\u001b[0;31m       \u001b[0mwidgets\u001b[0m\u001b[0;34m.\u001b[0m\u001b[0mLabel\u001b[0m\u001b[0;34m(\u001b[0m\u001b[0;34m)\u001b[0m\u001b[0;34m.\u001b[0m\u001b[0mvalue\u001b[0m \u001b[0;34m=\u001b[0m \u001b[0mthng\u001b[0m\u001b[0;34m\u001b[0m\u001b[0;34m\u001b[0m\u001b[0m\n\u001b[0m\u001b[1;32m     12\u001b[0m \u001b[0mbtn_run\u001b[0m\u001b[0;34m.\u001b[0m\u001b[0mon_click\u001b[0m\u001b[0;34m(\u001b[0m\u001b[0mon_click_classify\u001b[0m\u001b[0;34m)\u001b[0m\u001b[0;34m\u001b[0m\u001b[0;34m\u001b[0m\u001b[0m\n",
            "\u001b[0;31mNameError\u001b[0m: name 'thng' is not defined"
          ]
        },
        {
          "output_type": "display_data",
          "data": {
            "text/plain": [
              "<IPython.core.display.HTML object>"
            ],
            "text/html": [
              "\n",
              "<style>\n",
              "    /* Turns off some styling */\n",
              "    progress {\n",
              "        /* gets rid of default border in Firefox and Opera. */\n",
              "        border: none;\n",
              "        /* Needs to be in here for Safari polyfill so background images work as expected. */\n",
              "        background-size: auto;\n",
              "    }\n",
              "    progress:not([value]), progress:not([value])::-webkit-progress-bar {\n",
              "        background: repeating-linear-gradient(45deg, #7e7e7e, #7e7e7e 10px, #5c5c5c 10px, #5c5c5c 20px);\n",
              "    }\n",
              "    .progress-bar-interrupted, .progress-bar-interrupted::-webkit-progress-bar {\n",
              "        background: #F44336;\n",
              "    }\n",
              "</style>\n"
            ]
          },
          "metadata": {}
        },
        {
          "output_type": "display_data",
          "data": {
            "text/plain": [
              "<IPython.core.display.HTML object>"
            ],
            "text/html": []
          },
          "metadata": {}
        },
        {
          "output_type": "display_data",
          "data": {
            "text/plain": [
              "<IPython.core.display.HTML object>"
            ],
            "text/html": [
              "\n",
              "<style>\n",
              "    /* Turns off some styling */\n",
              "    progress {\n",
              "        /* gets rid of default border in Firefox and Opera. */\n",
              "        border: none;\n",
              "        /* Needs to be in here for Safari polyfill so background images work as expected. */\n",
              "        background-size: auto;\n",
              "    }\n",
              "    progress:not([value]), progress:not([value])::-webkit-progress-bar {\n",
              "        background: repeating-linear-gradient(45deg, #7e7e7e, #7e7e7e 10px, #5c5c5c 10px, #5c5c5c 20px);\n",
              "    }\n",
              "    .progress-bar-interrupted, .progress-bar-interrupted::-webkit-progress-bar {\n",
              "        background: #F44336;\n",
              "    }\n",
              "</style>\n"
            ]
          },
          "metadata": {}
        },
        {
          "output_type": "display_data",
          "data": {
            "text/plain": [
              "<IPython.core.display.HTML object>"
            ],
            "text/html": []
          },
          "metadata": {}
        },
        {
          "output_type": "display_data",
          "data": {
            "text/plain": [
              "<IPython.core.display.HTML object>"
            ],
            "text/html": [
              "\n",
              "<style>\n",
              "    /* Turns off some styling */\n",
              "    progress {\n",
              "        /* gets rid of default border in Firefox and Opera. */\n",
              "        border: none;\n",
              "        /* Needs to be in here for Safari polyfill so background images work as expected. */\n",
              "        background-size: auto;\n",
              "    }\n",
              "    progress:not([value]), progress:not([value])::-webkit-progress-bar {\n",
              "        background: repeating-linear-gradient(45deg, #7e7e7e, #7e7e7e 10px, #5c5c5c 10px, #5c5c5c 20px);\n",
              "    }\n",
              "    .progress-bar-interrupted, .progress-bar-interrupted::-webkit-progress-bar {\n",
              "        background: #F44336;\n",
              "    }\n",
              "</style>\n"
            ]
          },
          "metadata": {}
        },
        {
          "output_type": "display_data",
          "data": {
            "text/plain": [
              "<IPython.core.display.HTML object>"
            ],
            "text/html": []
          },
          "metadata": {}
        },
        {
          "output_type": "error",
          "ename": "NameError",
          "evalue": "ignored",
          "traceback": [
            "\u001b[0;31m---------------------------------------------------------------------------\u001b[0m",
            "\u001b[0;31mNameError\u001b[0m                                 Traceback (most recent call last)",
            "\u001b[0;32m<ipython-input-33-a9a7f0362e06>\u001b[0m in \u001b[0;36mon_click_classify\u001b[0;34m(change)\u001b[0m\n\u001b[1;32m      7\u001b[0m     \u001b[0;32mfor\u001b[0m \u001b[0mi\u001b[0m \u001b[0;32min\u001b[0m \u001b[0mrange\u001b[0m\u001b[0;34m(\u001b[0m\u001b[0mlen\u001b[0m\u001b[0;34m(\u001b[0m\u001b[0mpred_class\u001b[0m\u001b[0;34m)\u001b[0m\u001b[0;34m)\u001b[0m\u001b[0;34m:\u001b[0m\u001b[0;34m\u001b[0m\u001b[0;34m\u001b[0m\u001b[0m\n\u001b[1;32m      8\u001b[0m       \u001b[0mack\u001b[0m\u001b[0;34m.\u001b[0m\u001b[0mappend\u001b[0m\u001b[0;34m(\u001b[0m\u001b[0mnameProbDisplay\u001b[0m\u001b[0;34m(\u001b[0m\u001b[0mpred_class\u001b[0m\u001b[0;34m[\u001b[0m\u001b[0mi\u001b[0m\u001b[0;34m]\u001b[0m\u001b[0;34m,\u001b[0m \u001b[0mprobabilities\u001b[0m\u001b[0;34m[\u001b[0m\u001b[0mi\u001b[0m\u001b[0;34m]\u001b[0m\u001b[0;34m)\u001b[0m\u001b[0;34m)\u001b[0m\u001b[0;34m\u001b[0m\u001b[0;34m\u001b[0m\u001b[0m\n\u001b[0;32m----> 9\u001b[0;31m       \u001b[0mwidgets\u001b[0m\u001b[0;34m.\u001b[0m\u001b[0mLabel\u001b[0m\u001b[0;34m(\u001b[0m\u001b[0mthing\u001b[0m\u001b[0;34m)\u001b[0m\u001b[0;34m\u001b[0m\u001b[0;34m\u001b[0m\u001b[0m\n\u001b[0m\u001b[1;32m     10\u001b[0m \u001b[0mbtn_run\u001b[0m\u001b[0;34m.\u001b[0m\u001b[0mon_click\u001b[0m\u001b[0;34m(\u001b[0m\u001b[0mon_click_classify\u001b[0m\u001b[0;34m)\u001b[0m\u001b[0;34m\u001b[0m\u001b[0;34m\u001b[0m\u001b[0m\n",
            "\u001b[0;31mNameError\u001b[0m: name 'thing' is not defined"
          ]
        },
        {
          "output_type": "display_data",
          "data": {
            "text/plain": [
              "<IPython.core.display.HTML object>"
            ],
            "text/html": [
              "\n",
              "<style>\n",
              "    /* Turns off some styling */\n",
              "    progress {\n",
              "        /* gets rid of default border in Firefox and Opera. */\n",
              "        border: none;\n",
              "        /* Needs to be in here for Safari polyfill so background images work as expected. */\n",
              "        background-size: auto;\n",
              "    }\n",
              "    progress:not([value]), progress:not([value])::-webkit-progress-bar {\n",
              "        background: repeating-linear-gradient(45deg, #7e7e7e, #7e7e7e 10px, #5c5c5c 10px, #5c5c5c 20px);\n",
              "    }\n",
              "    .progress-bar-interrupted, .progress-bar-interrupted::-webkit-progress-bar {\n",
              "        background: #F44336;\n",
              "    }\n",
              "</style>\n"
            ]
          },
          "metadata": {}
        },
        {
          "output_type": "display_data",
          "data": {
            "text/plain": [
              "<IPython.core.display.HTML object>"
            ],
            "text/html": []
          },
          "metadata": {}
        },
        {
          "output_type": "display_data",
          "data": {
            "text/plain": [
              "<IPython.core.display.HTML object>"
            ],
            "text/html": [
              "\n",
              "<style>\n",
              "    /* Turns off some styling */\n",
              "    progress {\n",
              "        /* gets rid of default border in Firefox and Opera. */\n",
              "        border: none;\n",
              "        /* Needs to be in here for Safari polyfill so background images work as expected. */\n",
              "        background-size: auto;\n",
              "    }\n",
              "    progress:not([value]), progress:not([value])::-webkit-progress-bar {\n",
              "        background: repeating-linear-gradient(45deg, #7e7e7e, #7e7e7e 10px, #5c5c5c 10px, #5c5c5c 20px);\n",
              "    }\n",
              "    .progress-bar-interrupted, .progress-bar-interrupted::-webkit-progress-bar {\n",
              "        background: #F44336;\n",
              "    }\n",
              "</style>\n"
            ]
          },
          "metadata": {}
        },
        {
          "output_type": "display_data",
          "data": {
            "text/plain": [
              "<IPython.core.display.HTML object>"
            ],
            "text/html": []
          },
          "metadata": {}
        },
        {
          "output_type": "display_data",
          "data": {
            "text/plain": [
              "<IPython.core.display.HTML object>"
            ],
            "text/html": [
              "\n",
              "<style>\n",
              "    /* Turns off some styling */\n",
              "    progress {\n",
              "        /* gets rid of default border in Firefox and Opera. */\n",
              "        border: none;\n",
              "        /* Needs to be in here for Safari polyfill so background images work as expected. */\n",
              "        background-size: auto;\n",
              "    }\n",
              "    progress:not([value]), progress:not([value])::-webkit-progress-bar {\n",
              "        background: repeating-linear-gradient(45deg, #7e7e7e, #7e7e7e 10px, #5c5c5c 10px, #5c5c5c 20px);\n",
              "    }\n",
              "    .progress-bar-interrupted, .progress-bar-interrupted::-webkit-progress-bar {\n",
              "        background: #F44336;\n",
              "    }\n",
              "</style>\n"
            ]
          },
          "metadata": {}
        },
        {
          "output_type": "display_data",
          "data": {
            "text/plain": [
              "<IPython.core.display.HTML object>"
            ],
            "text/html": []
          },
          "metadata": {}
        },
        {
          "output_type": "display_data",
          "data": {
            "text/plain": [
              "<IPython.core.display.HTML object>"
            ],
            "text/html": [
              "\n",
              "<style>\n",
              "    /* Turns off some styling */\n",
              "    progress {\n",
              "        /* gets rid of default border in Firefox and Opera. */\n",
              "        border: none;\n",
              "        /* Needs to be in here for Safari polyfill so background images work as expected. */\n",
              "        background-size: auto;\n",
              "    }\n",
              "    progress:not([value]), progress:not([value])::-webkit-progress-bar {\n",
              "        background: repeating-linear-gradient(45deg, #7e7e7e, #7e7e7e 10px, #5c5c5c 10px, #5c5c5c 20px);\n",
              "    }\n",
              "    .progress-bar-interrupted, .progress-bar-interrupted::-webkit-progress-bar {\n",
              "        background: #F44336;\n",
              "    }\n",
              "</style>\n"
            ]
          },
          "metadata": {}
        },
        {
          "output_type": "display_data",
          "data": {
            "text/plain": [
              "<IPython.core.display.HTML object>"
            ],
            "text/html": []
          },
          "metadata": {}
        },
        {
          "output_type": "display_data",
          "data": {
            "text/plain": [
              "<IPython.core.display.HTML object>"
            ],
            "text/html": [
              "\n",
              "<style>\n",
              "    /* Turns off some styling */\n",
              "    progress {\n",
              "        /* gets rid of default border in Firefox and Opera. */\n",
              "        border: none;\n",
              "        /* Needs to be in here for Safari polyfill so background images work as expected. */\n",
              "        background-size: auto;\n",
              "    }\n",
              "    progress:not([value]), progress:not([value])::-webkit-progress-bar {\n",
              "        background: repeating-linear-gradient(45deg, #7e7e7e, #7e7e7e 10px, #5c5c5c 10px, #5c5c5c 20px);\n",
              "    }\n",
              "    .progress-bar-interrupted, .progress-bar-interrupted::-webkit-progress-bar {\n",
              "        background: #F44336;\n",
              "    }\n",
              "</style>\n"
            ]
          },
          "metadata": {}
        },
        {
          "output_type": "display_data",
          "data": {
            "text/plain": [
              "<IPython.core.display.HTML object>"
            ],
            "text/html": []
          },
          "metadata": {}
        },
        {
          "output_type": "display_data",
          "data": {
            "text/plain": [
              "<IPython.core.display.HTML object>"
            ],
            "text/html": [
              "\n",
              "<style>\n",
              "    /* Turns off some styling */\n",
              "    progress {\n",
              "        /* gets rid of default border in Firefox and Opera. */\n",
              "        border: none;\n",
              "        /* Needs to be in here for Safari polyfill so background images work as expected. */\n",
              "        background-size: auto;\n",
              "    }\n",
              "    progress:not([value]), progress:not([value])::-webkit-progress-bar {\n",
              "        background: repeating-linear-gradient(45deg, #7e7e7e, #7e7e7e 10px, #5c5c5c 10px, #5c5c5c 20px);\n",
              "    }\n",
              "    .progress-bar-interrupted, .progress-bar-interrupted::-webkit-progress-bar {\n",
              "        background: #F44336;\n",
              "    }\n",
              "</style>\n"
            ]
          },
          "metadata": {}
        },
        {
          "output_type": "display_data",
          "data": {
            "text/plain": [
              "<IPython.core.display.HTML object>"
            ],
            "text/html": []
          },
          "metadata": {}
        },
        {
          "output_type": "display_data",
          "data": {
            "text/plain": [
              "<IPython.core.display.HTML object>"
            ],
            "text/html": [
              "\n",
              "<style>\n",
              "    /* Turns off some styling */\n",
              "    progress {\n",
              "        /* gets rid of default border in Firefox and Opera. */\n",
              "        border: none;\n",
              "        /* Needs to be in here for Safari polyfill so background images work as expected. */\n",
              "        background-size: auto;\n",
              "    }\n",
              "    progress:not([value]), progress:not([value])::-webkit-progress-bar {\n",
              "        background: repeating-linear-gradient(45deg, #7e7e7e, #7e7e7e 10px, #5c5c5c 10px, #5c5c5c 20px);\n",
              "    }\n",
              "    .progress-bar-interrupted, .progress-bar-interrupted::-webkit-progress-bar {\n",
              "        background: #F44336;\n",
              "    }\n",
              "</style>\n"
            ]
          },
          "metadata": {}
        },
        {
          "output_type": "display_data",
          "data": {
            "text/plain": [
              "<IPython.core.display.HTML object>"
            ],
            "text/html": []
          },
          "metadata": {}
        },
        {
          "output_type": "display_data",
          "data": {
            "text/plain": [
              "<IPython.core.display.HTML object>"
            ],
            "text/html": [
              "\n",
              "<style>\n",
              "    /* Turns off some styling */\n",
              "    progress {\n",
              "        /* gets rid of default border in Firefox and Opera. */\n",
              "        border: none;\n",
              "        /* Needs to be in here for Safari polyfill so background images work as expected. */\n",
              "        background-size: auto;\n",
              "    }\n",
              "    progress:not([value]), progress:not([value])::-webkit-progress-bar {\n",
              "        background: repeating-linear-gradient(45deg, #7e7e7e, #7e7e7e 10px, #5c5c5c 10px, #5c5c5c 20px);\n",
              "    }\n",
              "    .progress-bar-interrupted, .progress-bar-interrupted::-webkit-progress-bar {\n",
              "        background: #F44336;\n",
              "    }\n",
              "</style>\n"
            ]
          },
          "metadata": {}
        },
        {
          "output_type": "display_data",
          "data": {
            "text/plain": [
              "<IPython.core.display.HTML object>"
            ],
            "text/html": []
          },
          "metadata": {}
        },
        {
          "output_type": "display_data",
          "data": {
            "text/plain": [
              "<IPython.core.display.HTML object>"
            ],
            "text/html": [
              "\n",
              "<style>\n",
              "    /* Turns off some styling */\n",
              "    progress {\n",
              "        /* gets rid of default border in Firefox and Opera. */\n",
              "        border: none;\n",
              "        /* Needs to be in here for Safari polyfill so background images work as expected. */\n",
              "        background-size: auto;\n",
              "    }\n",
              "    progress:not([value]), progress:not([value])::-webkit-progress-bar {\n",
              "        background: repeating-linear-gradient(45deg, #7e7e7e, #7e7e7e 10px, #5c5c5c 10px, #5c5c5c 20px);\n",
              "    }\n",
              "    .progress-bar-interrupted, .progress-bar-interrupted::-webkit-progress-bar {\n",
              "        background: #F44336;\n",
              "    }\n",
              "</style>\n"
            ]
          },
          "metadata": {}
        },
        {
          "output_type": "display_data",
          "data": {
            "text/plain": [
              "<IPython.core.display.HTML object>"
            ],
            "text/html": []
          },
          "metadata": {}
        },
        {
          "output_type": "display_data",
          "data": {
            "text/plain": [
              "<IPython.core.display.HTML object>"
            ],
            "text/html": [
              "\n",
              "<style>\n",
              "    /* Turns off some styling */\n",
              "    progress {\n",
              "        /* gets rid of default border in Firefox and Opera. */\n",
              "        border: none;\n",
              "        /* Needs to be in here for Safari polyfill so background images work as expected. */\n",
              "        background-size: auto;\n",
              "    }\n",
              "    progress:not([value]), progress:not([value])::-webkit-progress-bar {\n",
              "        background: repeating-linear-gradient(45deg, #7e7e7e, #7e7e7e 10px, #5c5c5c 10px, #5c5c5c 20px);\n",
              "    }\n",
              "    .progress-bar-interrupted, .progress-bar-interrupted::-webkit-progress-bar {\n",
              "        background: #F44336;\n",
              "    }\n",
              "</style>\n"
            ]
          },
          "metadata": {}
        },
        {
          "output_type": "display_data",
          "data": {
            "text/plain": [
              "<IPython.core.display.HTML object>"
            ],
            "text/html": []
          },
          "metadata": {}
        },
        {
          "output_type": "display_data",
          "data": {
            "text/plain": [
              "<IPython.core.display.HTML object>"
            ],
            "text/html": [
              "\n",
              "<style>\n",
              "    /* Turns off some styling */\n",
              "    progress {\n",
              "        /* gets rid of default border in Firefox and Opera. */\n",
              "        border: none;\n",
              "        /* Needs to be in here for Safari polyfill so background images work as expected. */\n",
              "        background-size: auto;\n",
              "    }\n",
              "    progress:not([value]), progress:not([value])::-webkit-progress-bar {\n",
              "        background: repeating-linear-gradient(45deg, #7e7e7e, #7e7e7e 10px, #5c5c5c 10px, #5c5c5c 20px);\n",
              "    }\n",
              "    .progress-bar-interrupted, .progress-bar-interrupted::-webkit-progress-bar {\n",
              "        background: #F44336;\n",
              "    }\n",
              "</style>\n"
            ]
          },
          "metadata": {}
        },
        {
          "output_type": "display_data",
          "data": {
            "text/plain": [
              "<IPython.core.display.HTML object>"
            ],
            "text/html": []
          },
          "metadata": {}
        },
        {
          "output_type": "display_data",
          "data": {
            "text/plain": [
              "<IPython.core.display.HTML object>"
            ],
            "text/html": [
              "\n",
              "<style>\n",
              "    /* Turns off some styling */\n",
              "    progress {\n",
              "        /* gets rid of default border in Firefox and Opera. */\n",
              "        border: none;\n",
              "        /* Needs to be in here for Safari polyfill so background images work as expected. */\n",
              "        background-size: auto;\n",
              "    }\n",
              "    progress:not([value]), progress:not([value])::-webkit-progress-bar {\n",
              "        background: repeating-linear-gradient(45deg, #7e7e7e, #7e7e7e 10px, #5c5c5c 10px, #5c5c5c 20px);\n",
              "    }\n",
              "    .progress-bar-interrupted, .progress-bar-interrupted::-webkit-progress-bar {\n",
              "        background: #F44336;\n",
              "    }\n",
              "</style>\n"
            ]
          },
          "metadata": {}
        },
        {
          "output_type": "display_data",
          "data": {
            "text/plain": [
              "<IPython.core.display.HTML object>"
            ],
            "text/html": []
          },
          "metadata": {}
        },
        {
          "output_type": "error",
          "ename": "NameError",
          "evalue": "ignored",
          "traceback": [
            "\u001b[0;31m---------------------------------------------------------------------------\u001b[0m",
            "\u001b[0;31mNameError\u001b[0m                                 Traceback (most recent call last)",
            "\u001b[0;32m<ipython-input-27-68a4c40c02d1>\u001b[0m in \u001b[0;36mon_click_classify\u001b[0;34m(change)\u001b[0m\n\u001b[1;32m      9\u001b[0m \u001b[0;34m\u001b[0m\u001b[0m\n\u001b[1;32m     10\u001b[0m     \u001b[0;32mfor\u001b[0m \u001b[0mthing\u001b[0m \u001b[0;32min\u001b[0m \u001b[0mack\u001b[0m\u001b[0;34m:\u001b[0m\u001b[0;34m\u001b[0m\u001b[0;34m\u001b[0m\u001b[0m\n\u001b[0;32m---> 11\u001b[0;31m       \u001b[0mwidgets\u001b[0m\u001b[0;34m.\u001b[0m\u001b[0mLabel\u001b[0m\u001b[0;34m(\u001b[0m\u001b[0;34m)\u001b[0m\u001b[0;34m.\u001b[0m\u001b[0mvalue\u001b[0m \u001b[0;34m=\u001b[0m \u001b[0mthng\u001b[0m\u001b[0;34m\u001b[0m\u001b[0;34m\u001b[0m\u001b[0m\n\u001b[0m\u001b[1;32m     12\u001b[0m \u001b[0mbtn_run\u001b[0m\u001b[0;34m.\u001b[0m\u001b[0mon_click\u001b[0m\u001b[0;34m(\u001b[0m\u001b[0mon_click_classify\u001b[0m\u001b[0;34m)\u001b[0m\u001b[0;34m\u001b[0m\u001b[0;34m\u001b[0m\u001b[0m\n",
            "\u001b[0;31mNameError\u001b[0m: name 'thng' is not defined"
          ]
        },
        {
          "output_type": "display_data",
          "data": {
            "text/plain": [
              "<IPython.core.display.HTML object>"
            ],
            "text/html": [
              "\n",
              "<style>\n",
              "    /* Turns off some styling */\n",
              "    progress {\n",
              "        /* gets rid of default border in Firefox and Opera. */\n",
              "        border: none;\n",
              "        /* Needs to be in here for Safari polyfill so background images work as expected. */\n",
              "        background-size: auto;\n",
              "    }\n",
              "    progress:not([value]), progress:not([value])::-webkit-progress-bar {\n",
              "        background: repeating-linear-gradient(45deg, #7e7e7e, #7e7e7e 10px, #5c5c5c 10px, #5c5c5c 20px);\n",
              "    }\n",
              "    .progress-bar-interrupted, .progress-bar-interrupted::-webkit-progress-bar {\n",
              "        background: #F44336;\n",
              "    }\n",
              "</style>\n"
            ]
          },
          "metadata": {}
        },
        {
          "output_type": "display_data",
          "data": {
            "text/plain": [
              "<IPython.core.display.HTML object>"
            ],
            "text/html": []
          },
          "metadata": {}
        },
        {
          "output_type": "display_data",
          "data": {
            "text/plain": [
              "<IPython.core.display.HTML object>"
            ],
            "text/html": [
              "\n",
              "<style>\n",
              "    /* Turns off some styling */\n",
              "    progress {\n",
              "        /* gets rid of default border in Firefox and Opera. */\n",
              "        border: none;\n",
              "        /* Needs to be in here for Safari polyfill so background images work as expected. */\n",
              "        background-size: auto;\n",
              "    }\n",
              "    progress:not([value]), progress:not([value])::-webkit-progress-bar {\n",
              "        background: repeating-linear-gradient(45deg, #7e7e7e, #7e7e7e 10px, #5c5c5c 10px, #5c5c5c 20px);\n",
              "    }\n",
              "    .progress-bar-interrupted, .progress-bar-interrupted::-webkit-progress-bar {\n",
              "        background: #F44336;\n",
              "    }\n",
              "</style>\n"
            ]
          },
          "metadata": {}
        },
        {
          "output_type": "display_data",
          "data": {
            "text/plain": [
              "<IPython.core.display.HTML object>"
            ],
            "text/html": []
          },
          "metadata": {}
        },
        {
          "output_type": "display_data",
          "data": {
            "text/plain": [
              "<IPython.core.display.HTML object>"
            ],
            "text/html": [
              "\n",
              "<style>\n",
              "    /* Turns off some styling */\n",
              "    progress {\n",
              "        /* gets rid of default border in Firefox and Opera. */\n",
              "        border: none;\n",
              "        /* Needs to be in here for Safari polyfill so background images work as expected. */\n",
              "        background-size: auto;\n",
              "    }\n",
              "    progress:not([value]), progress:not([value])::-webkit-progress-bar {\n",
              "        background: repeating-linear-gradient(45deg, #7e7e7e, #7e7e7e 10px, #5c5c5c 10px, #5c5c5c 20px);\n",
              "    }\n",
              "    .progress-bar-interrupted, .progress-bar-interrupted::-webkit-progress-bar {\n",
              "        background: #F44336;\n",
              "    }\n",
              "</style>\n"
            ]
          },
          "metadata": {}
        },
        {
          "output_type": "display_data",
          "data": {
            "text/plain": [
              "<IPython.core.display.HTML object>"
            ],
            "text/html": []
          },
          "metadata": {}
        },
        {
          "output_type": "error",
          "ename": "NameError",
          "evalue": "ignored",
          "traceback": [
            "\u001b[0;31m---------------------------------------------------------------------------\u001b[0m",
            "\u001b[0;31mNameError\u001b[0m                                 Traceback (most recent call last)",
            "\u001b[0;32m<ipython-input-33-a9a7f0362e06>\u001b[0m in \u001b[0;36mon_click_classify\u001b[0;34m(change)\u001b[0m\n\u001b[1;32m      7\u001b[0m     \u001b[0;32mfor\u001b[0m \u001b[0mi\u001b[0m \u001b[0;32min\u001b[0m \u001b[0mrange\u001b[0m\u001b[0;34m(\u001b[0m\u001b[0mlen\u001b[0m\u001b[0;34m(\u001b[0m\u001b[0mpred_class\u001b[0m\u001b[0;34m)\u001b[0m\u001b[0;34m)\u001b[0m\u001b[0;34m:\u001b[0m\u001b[0;34m\u001b[0m\u001b[0;34m\u001b[0m\u001b[0m\n\u001b[1;32m      8\u001b[0m       \u001b[0mack\u001b[0m\u001b[0;34m.\u001b[0m\u001b[0mappend\u001b[0m\u001b[0;34m(\u001b[0m\u001b[0mnameProbDisplay\u001b[0m\u001b[0;34m(\u001b[0m\u001b[0mpred_class\u001b[0m\u001b[0;34m[\u001b[0m\u001b[0mi\u001b[0m\u001b[0;34m]\u001b[0m\u001b[0;34m,\u001b[0m \u001b[0mprobabilities\u001b[0m\u001b[0;34m[\u001b[0m\u001b[0mi\u001b[0m\u001b[0;34m]\u001b[0m\u001b[0;34m)\u001b[0m\u001b[0;34m)\u001b[0m\u001b[0;34m\u001b[0m\u001b[0;34m\u001b[0m\u001b[0m\n\u001b[0;32m----> 9\u001b[0;31m       \u001b[0mwidgets\u001b[0m\u001b[0;34m.\u001b[0m\u001b[0mLabel\u001b[0m\u001b[0;34m(\u001b[0m\u001b[0mthing\u001b[0m\u001b[0;34m)\u001b[0m\u001b[0;34m\u001b[0m\u001b[0;34m\u001b[0m\u001b[0m\n\u001b[0m\u001b[1;32m     10\u001b[0m \u001b[0mbtn_run\u001b[0m\u001b[0;34m.\u001b[0m\u001b[0mon_click\u001b[0m\u001b[0;34m(\u001b[0m\u001b[0mon_click_classify\u001b[0m\u001b[0;34m)\u001b[0m\u001b[0;34m\u001b[0m\u001b[0;34m\u001b[0m\u001b[0m\n",
            "\u001b[0;31mNameError\u001b[0m: name 'thing' is not defined"
          ]
        },
        {
          "output_type": "display_data",
          "data": {
            "text/plain": [
              "<IPython.core.display.HTML object>"
            ],
            "text/html": [
              "\n",
              "<style>\n",
              "    /* Turns off some styling */\n",
              "    progress {\n",
              "        /* gets rid of default border in Firefox and Opera. */\n",
              "        border: none;\n",
              "        /* Needs to be in here for Safari polyfill so background images work as expected. */\n",
              "        background-size: auto;\n",
              "    }\n",
              "    progress:not([value]), progress:not([value])::-webkit-progress-bar {\n",
              "        background: repeating-linear-gradient(45deg, #7e7e7e, #7e7e7e 10px, #5c5c5c 10px, #5c5c5c 20px);\n",
              "    }\n",
              "    .progress-bar-interrupted, .progress-bar-interrupted::-webkit-progress-bar {\n",
              "        background: #F44336;\n",
              "    }\n",
              "</style>\n"
            ]
          },
          "metadata": {}
        },
        {
          "output_type": "display_data",
          "data": {
            "text/plain": [
              "<IPython.core.display.HTML object>"
            ],
            "text/html": []
          },
          "metadata": {}
        },
        {
          "output_type": "display_data",
          "data": {
            "text/plain": [
              "<IPython.core.display.HTML object>"
            ],
            "text/html": [
              "\n",
              "<style>\n",
              "    /* Turns off some styling */\n",
              "    progress {\n",
              "        /* gets rid of default border in Firefox and Opera. */\n",
              "        border: none;\n",
              "        /* Needs to be in here for Safari polyfill so background images work as expected. */\n",
              "        background-size: auto;\n",
              "    }\n",
              "    progress:not([value]), progress:not([value])::-webkit-progress-bar {\n",
              "        background: repeating-linear-gradient(45deg, #7e7e7e, #7e7e7e 10px, #5c5c5c 10px, #5c5c5c 20px);\n",
              "    }\n",
              "    .progress-bar-interrupted, .progress-bar-interrupted::-webkit-progress-bar {\n",
              "        background: #F44336;\n",
              "    }\n",
              "</style>\n"
            ]
          },
          "metadata": {}
        },
        {
          "output_type": "display_data",
          "data": {
            "text/plain": [
              "<IPython.core.display.HTML object>"
            ],
            "text/html": []
          },
          "metadata": {}
        },
        {
          "output_type": "display_data",
          "data": {
            "text/plain": [
              "<IPython.core.display.HTML object>"
            ],
            "text/html": [
              "\n",
              "<style>\n",
              "    /* Turns off some styling */\n",
              "    progress {\n",
              "        /* gets rid of default border in Firefox and Opera. */\n",
              "        border: none;\n",
              "        /* Needs to be in here for Safari polyfill so background images work as expected. */\n",
              "        background-size: auto;\n",
              "    }\n",
              "    progress:not([value]), progress:not([value])::-webkit-progress-bar {\n",
              "        background: repeating-linear-gradient(45deg, #7e7e7e, #7e7e7e 10px, #5c5c5c 10px, #5c5c5c 20px);\n",
              "    }\n",
              "    .progress-bar-interrupted, .progress-bar-interrupted::-webkit-progress-bar {\n",
              "        background: #F44336;\n",
              "    }\n",
              "</style>\n"
            ]
          },
          "metadata": {}
        },
        {
          "output_type": "display_data",
          "data": {
            "text/plain": [
              "<IPython.core.display.HTML object>"
            ],
            "text/html": []
          },
          "metadata": {}
        },
        {
          "output_type": "display_data",
          "data": {
            "text/plain": [
              "<IPython.core.display.HTML object>"
            ],
            "text/html": [
              "\n",
              "<style>\n",
              "    /* Turns off some styling */\n",
              "    progress {\n",
              "        /* gets rid of default border in Firefox and Opera. */\n",
              "        border: none;\n",
              "        /* Needs to be in here for Safari polyfill so background images work as expected. */\n",
              "        background-size: auto;\n",
              "    }\n",
              "    progress:not([value]), progress:not([value])::-webkit-progress-bar {\n",
              "        background: repeating-linear-gradient(45deg, #7e7e7e, #7e7e7e 10px, #5c5c5c 10px, #5c5c5c 20px);\n",
              "    }\n",
              "    .progress-bar-interrupted, .progress-bar-interrupted::-webkit-progress-bar {\n",
              "        background: #F44336;\n",
              "    }\n",
              "</style>\n"
            ]
          },
          "metadata": {}
        },
        {
          "output_type": "display_data",
          "data": {
            "text/plain": [
              "<IPython.core.display.HTML object>"
            ],
            "text/html": []
          },
          "metadata": {}
        },
        {
          "output_type": "display_data",
          "data": {
            "text/plain": [
              "<IPython.core.display.HTML object>"
            ],
            "text/html": [
              "\n",
              "<style>\n",
              "    /* Turns off some styling */\n",
              "    progress {\n",
              "        /* gets rid of default border in Firefox and Opera. */\n",
              "        border: none;\n",
              "        /* Needs to be in here for Safari polyfill so background images work as expected. */\n",
              "        background-size: auto;\n",
              "    }\n",
              "    progress:not([value]), progress:not([value])::-webkit-progress-bar {\n",
              "        background: repeating-linear-gradient(45deg, #7e7e7e, #7e7e7e 10px, #5c5c5c 10px, #5c5c5c 20px);\n",
              "    }\n",
              "    .progress-bar-interrupted, .progress-bar-interrupted::-webkit-progress-bar {\n",
              "        background: #F44336;\n",
              "    }\n",
              "</style>\n"
            ]
          },
          "metadata": {}
        },
        {
          "output_type": "display_data",
          "data": {
            "text/plain": [
              "<IPython.core.display.HTML object>"
            ],
            "text/html": []
          },
          "metadata": {}
        },
        {
          "output_type": "display_data",
          "data": {
            "text/plain": [
              "<IPython.core.display.HTML object>"
            ],
            "text/html": [
              "\n",
              "<style>\n",
              "    /* Turns off some styling */\n",
              "    progress {\n",
              "        /* gets rid of default border in Firefox and Opera. */\n",
              "        border: none;\n",
              "        /* Needs to be in here for Safari polyfill so background images work as expected. */\n",
              "        background-size: auto;\n",
              "    }\n",
              "    progress:not([value]), progress:not([value])::-webkit-progress-bar {\n",
              "        background: repeating-linear-gradient(45deg, #7e7e7e, #7e7e7e 10px, #5c5c5c 10px, #5c5c5c 20px);\n",
              "    }\n",
              "    .progress-bar-interrupted, .progress-bar-interrupted::-webkit-progress-bar {\n",
              "        background: #F44336;\n",
              "    }\n",
              "</style>\n"
            ]
          },
          "metadata": {}
        },
        {
          "output_type": "display_data",
          "data": {
            "text/plain": [
              "<IPython.core.display.HTML object>"
            ],
            "text/html": []
          },
          "metadata": {}
        },
        {
          "output_type": "display_data",
          "data": {
            "text/plain": [
              "<IPython.core.display.HTML object>"
            ],
            "text/html": [
              "\n",
              "<style>\n",
              "    /* Turns off some styling */\n",
              "    progress {\n",
              "        /* gets rid of default border in Firefox and Opera. */\n",
              "        border: none;\n",
              "        /* Needs to be in here for Safari polyfill so background images work as expected. */\n",
              "        background-size: auto;\n",
              "    }\n",
              "    progress:not([value]), progress:not([value])::-webkit-progress-bar {\n",
              "        background: repeating-linear-gradient(45deg, #7e7e7e, #7e7e7e 10px, #5c5c5c 10px, #5c5c5c 20px);\n",
              "    }\n",
              "    .progress-bar-interrupted, .progress-bar-interrupted::-webkit-progress-bar {\n",
              "        background: #F44336;\n",
              "    }\n",
              "</style>\n"
            ]
          },
          "metadata": {}
        },
        {
          "output_type": "display_data",
          "data": {
            "text/plain": [
              "<IPython.core.display.HTML object>"
            ],
            "text/html": []
          },
          "metadata": {}
        },
        {
          "output_type": "display_data",
          "data": {
            "text/plain": [
              "<IPython.core.display.HTML object>"
            ],
            "text/html": [
              "\n",
              "<style>\n",
              "    /* Turns off some styling */\n",
              "    progress {\n",
              "        /* gets rid of default border in Firefox and Opera. */\n",
              "        border: none;\n",
              "        /* Needs to be in here for Safari polyfill so background images work as expected. */\n",
              "        background-size: auto;\n",
              "    }\n",
              "    progress:not([value]), progress:not([value])::-webkit-progress-bar {\n",
              "        background: repeating-linear-gradient(45deg, #7e7e7e, #7e7e7e 10px, #5c5c5c 10px, #5c5c5c 20px);\n",
              "    }\n",
              "    .progress-bar-interrupted, .progress-bar-interrupted::-webkit-progress-bar {\n",
              "        background: #F44336;\n",
              "    }\n",
              "</style>\n"
            ]
          },
          "metadata": {}
        },
        {
          "output_type": "display_data",
          "data": {
            "text/plain": [
              "<IPython.core.display.HTML object>"
            ],
            "text/html": []
          },
          "metadata": {}
        },
        {
          "output_type": "display_data",
          "data": {
            "text/plain": [
              "<IPython.core.display.HTML object>"
            ],
            "text/html": [
              "\n",
              "<style>\n",
              "    /* Turns off some styling */\n",
              "    progress {\n",
              "        /* gets rid of default border in Firefox and Opera. */\n",
              "        border: none;\n",
              "        /* Needs to be in here for Safari polyfill so background images work as expected. */\n",
              "        background-size: auto;\n",
              "    }\n",
              "    progress:not([value]), progress:not([value])::-webkit-progress-bar {\n",
              "        background: repeating-linear-gradient(45deg, #7e7e7e, #7e7e7e 10px, #5c5c5c 10px, #5c5c5c 20px);\n",
              "    }\n",
              "    .progress-bar-interrupted, .progress-bar-interrupted::-webkit-progress-bar {\n",
              "        background: #F44336;\n",
              "    }\n",
              "</style>\n"
            ]
          },
          "metadata": {}
        },
        {
          "output_type": "display_data",
          "data": {
            "text/plain": [
              "<IPython.core.display.HTML object>"
            ],
            "text/html": []
          },
          "metadata": {}
        },
        {
          "output_type": "display_data",
          "data": {
            "text/plain": [
              "<IPython.core.display.HTML object>"
            ],
            "text/html": [
              "\n",
              "<style>\n",
              "    /* Turns off some styling */\n",
              "    progress {\n",
              "        /* gets rid of default border in Firefox and Opera. */\n",
              "        border: none;\n",
              "        /* Needs to be in here for Safari polyfill so background images work as expected. */\n",
              "        background-size: auto;\n",
              "    }\n",
              "    progress:not([value]), progress:not([value])::-webkit-progress-bar {\n",
              "        background: repeating-linear-gradient(45deg, #7e7e7e, #7e7e7e 10px, #5c5c5c 10px, #5c5c5c 20px);\n",
              "    }\n",
              "    .progress-bar-interrupted, .progress-bar-interrupted::-webkit-progress-bar {\n",
              "        background: #F44336;\n",
              "    }\n",
              "</style>\n"
            ]
          },
          "metadata": {}
        },
        {
          "output_type": "display_data",
          "data": {
            "text/plain": [
              "<IPython.core.display.HTML object>"
            ],
            "text/html": []
          },
          "metadata": {}
        },
        {
          "output_type": "display_data",
          "data": {
            "text/plain": [
              "<IPython.core.display.HTML object>"
            ],
            "text/html": [
              "\n",
              "<style>\n",
              "    /* Turns off some styling */\n",
              "    progress {\n",
              "        /* gets rid of default border in Firefox and Opera. */\n",
              "        border: none;\n",
              "        /* Needs to be in here for Safari polyfill so background images work as expected. */\n",
              "        background-size: auto;\n",
              "    }\n",
              "    progress:not([value]), progress:not([value])::-webkit-progress-bar {\n",
              "        background: repeating-linear-gradient(45deg, #7e7e7e, #7e7e7e 10px, #5c5c5c 10px, #5c5c5c 20px);\n",
              "    }\n",
              "    .progress-bar-interrupted, .progress-bar-interrupted::-webkit-progress-bar {\n",
              "        background: #F44336;\n",
              "    }\n",
              "</style>\n"
            ]
          },
          "metadata": {}
        },
        {
          "output_type": "display_data",
          "data": {
            "text/plain": [
              "<IPython.core.display.HTML object>"
            ],
            "text/html": []
          },
          "metadata": {}
        },
        {
          "output_type": "display_data",
          "data": {
            "text/plain": [
              "<IPython.core.display.HTML object>"
            ],
            "text/html": [
              "\n",
              "<style>\n",
              "    /* Turns off some styling */\n",
              "    progress {\n",
              "        /* gets rid of default border in Firefox and Opera. */\n",
              "        border: none;\n",
              "        /* Needs to be in here for Safari polyfill so background images work as expected. */\n",
              "        background-size: auto;\n",
              "    }\n",
              "    progress:not([value]), progress:not([value])::-webkit-progress-bar {\n",
              "        background: repeating-linear-gradient(45deg, #7e7e7e, #7e7e7e 10px, #5c5c5c 10px, #5c5c5c 20px);\n",
              "    }\n",
              "    .progress-bar-interrupted, .progress-bar-interrupted::-webkit-progress-bar {\n",
              "        background: #F44336;\n",
              "    }\n",
              "</style>\n"
            ]
          },
          "metadata": {}
        },
        {
          "output_type": "display_data",
          "data": {
            "text/plain": [
              "<IPython.core.display.HTML object>"
            ],
            "text/html": []
          },
          "metadata": {}
        },
        {
          "output_type": "error",
          "ename": "NameError",
          "evalue": "ignored",
          "traceback": [
            "\u001b[0;31m---------------------------------------------------------------------------\u001b[0m",
            "\u001b[0;31mNameError\u001b[0m                                 Traceback (most recent call last)",
            "\u001b[0;32m<ipython-input-27-68a4c40c02d1>\u001b[0m in \u001b[0;36mon_click_classify\u001b[0;34m(change)\u001b[0m\n\u001b[1;32m      9\u001b[0m \u001b[0;34m\u001b[0m\u001b[0m\n\u001b[1;32m     10\u001b[0m     \u001b[0;32mfor\u001b[0m \u001b[0mthing\u001b[0m \u001b[0;32min\u001b[0m \u001b[0mack\u001b[0m\u001b[0;34m:\u001b[0m\u001b[0;34m\u001b[0m\u001b[0;34m\u001b[0m\u001b[0m\n\u001b[0;32m---> 11\u001b[0;31m       \u001b[0mwidgets\u001b[0m\u001b[0;34m.\u001b[0m\u001b[0mLabel\u001b[0m\u001b[0;34m(\u001b[0m\u001b[0;34m)\u001b[0m\u001b[0;34m.\u001b[0m\u001b[0mvalue\u001b[0m \u001b[0;34m=\u001b[0m \u001b[0mthng\u001b[0m\u001b[0;34m\u001b[0m\u001b[0;34m\u001b[0m\u001b[0m\n\u001b[0m\u001b[1;32m     12\u001b[0m \u001b[0mbtn_run\u001b[0m\u001b[0;34m.\u001b[0m\u001b[0mon_click\u001b[0m\u001b[0;34m(\u001b[0m\u001b[0mon_click_classify\u001b[0m\u001b[0;34m)\u001b[0m\u001b[0;34m\u001b[0m\u001b[0;34m\u001b[0m\u001b[0m\n",
            "\u001b[0;31mNameError\u001b[0m: name 'thng' is not defined"
          ]
        },
        {
          "output_type": "display_data",
          "data": {
            "text/plain": [
              "<IPython.core.display.HTML object>"
            ],
            "text/html": [
              "\n",
              "<style>\n",
              "    /* Turns off some styling */\n",
              "    progress {\n",
              "        /* gets rid of default border in Firefox and Opera. */\n",
              "        border: none;\n",
              "        /* Needs to be in here for Safari polyfill so background images work as expected. */\n",
              "        background-size: auto;\n",
              "    }\n",
              "    progress:not([value]), progress:not([value])::-webkit-progress-bar {\n",
              "        background: repeating-linear-gradient(45deg, #7e7e7e, #7e7e7e 10px, #5c5c5c 10px, #5c5c5c 20px);\n",
              "    }\n",
              "    .progress-bar-interrupted, .progress-bar-interrupted::-webkit-progress-bar {\n",
              "        background: #F44336;\n",
              "    }\n",
              "</style>\n"
            ]
          },
          "metadata": {}
        },
        {
          "output_type": "display_data",
          "data": {
            "text/plain": [
              "<IPython.core.display.HTML object>"
            ],
            "text/html": []
          },
          "metadata": {}
        },
        {
          "output_type": "display_data",
          "data": {
            "text/plain": [
              "<IPython.core.display.HTML object>"
            ],
            "text/html": [
              "\n",
              "<style>\n",
              "    /* Turns off some styling */\n",
              "    progress {\n",
              "        /* gets rid of default border in Firefox and Opera. */\n",
              "        border: none;\n",
              "        /* Needs to be in here for Safari polyfill so background images work as expected. */\n",
              "        background-size: auto;\n",
              "    }\n",
              "    progress:not([value]), progress:not([value])::-webkit-progress-bar {\n",
              "        background: repeating-linear-gradient(45deg, #7e7e7e, #7e7e7e 10px, #5c5c5c 10px, #5c5c5c 20px);\n",
              "    }\n",
              "    .progress-bar-interrupted, .progress-bar-interrupted::-webkit-progress-bar {\n",
              "        background: #F44336;\n",
              "    }\n",
              "</style>\n"
            ]
          },
          "metadata": {}
        },
        {
          "output_type": "display_data",
          "data": {
            "text/plain": [
              "<IPython.core.display.HTML object>"
            ],
            "text/html": []
          },
          "metadata": {}
        },
        {
          "output_type": "display_data",
          "data": {
            "text/plain": [
              "<IPython.core.display.HTML object>"
            ],
            "text/html": [
              "\n",
              "<style>\n",
              "    /* Turns off some styling */\n",
              "    progress {\n",
              "        /* gets rid of default border in Firefox and Opera. */\n",
              "        border: none;\n",
              "        /* Needs to be in here for Safari polyfill so background images work as expected. */\n",
              "        background-size: auto;\n",
              "    }\n",
              "    progress:not([value]), progress:not([value])::-webkit-progress-bar {\n",
              "        background: repeating-linear-gradient(45deg, #7e7e7e, #7e7e7e 10px, #5c5c5c 10px, #5c5c5c 20px);\n",
              "    }\n",
              "    .progress-bar-interrupted, .progress-bar-interrupted::-webkit-progress-bar {\n",
              "        background: #F44336;\n",
              "    }\n",
              "</style>\n"
            ]
          },
          "metadata": {}
        },
        {
          "output_type": "display_data",
          "data": {
            "text/plain": [
              "<IPython.core.display.HTML object>"
            ],
            "text/html": []
          },
          "metadata": {}
        },
        {
          "output_type": "error",
          "ename": "NameError",
          "evalue": "ignored",
          "traceback": [
            "\u001b[0;31m---------------------------------------------------------------------------\u001b[0m",
            "\u001b[0;31mNameError\u001b[0m                                 Traceback (most recent call last)",
            "\u001b[0;32m<ipython-input-33-a9a7f0362e06>\u001b[0m in \u001b[0;36mon_click_classify\u001b[0;34m(change)\u001b[0m\n\u001b[1;32m      7\u001b[0m     \u001b[0;32mfor\u001b[0m \u001b[0mi\u001b[0m \u001b[0;32min\u001b[0m \u001b[0mrange\u001b[0m\u001b[0;34m(\u001b[0m\u001b[0mlen\u001b[0m\u001b[0;34m(\u001b[0m\u001b[0mpred_class\u001b[0m\u001b[0;34m)\u001b[0m\u001b[0;34m)\u001b[0m\u001b[0;34m:\u001b[0m\u001b[0;34m\u001b[0m\u001b[0;34m\u001b[0m\u001b[0m\n\u001b[1;32m      8\u001b[0m       \u001b[0mack\u001b[0m\u001b[0;34m.\u001b[0m\u001b[0mappend\u001b[0m\u001b[0;34m(\u001b[0m\u001b[0mnameProbDisplay\u001b[0m\u001b[0;34m(\u001b[0m\u001b[0mpred_class\u001b[0m\u001b[0;34m[\u001b[0m\u001b[0mi\u001b[0m\u001b[0;34m]\u001b[0m\u001b[0;34m,\u001b[0m \u001b[0mprobabilities\u001b[0m\u001b[0;34m[\u001b[0m\u001b[0mi\u001b[0m\u001b[0;34m]\u001b[0m\u001b[0;34m)\u001b[0m\u001b[0;34m)\u001b[0m\u001b[0;34m\u001b[0m\u001b[0;34m\u001b[0m\u001b[0m\n\u001b[0;32m----> 9\u001b[0;31m       \u001b[0mwidgets\u001b[0m\u001b[0;34m.\u001b[0m\u001b[0mLabel\u001b[0m\u001b[0;34m(\u001b[0m\u001b[0mthing\u001b[0m\u001b[0;34m)\u001b[0m\u001b[0;34m\u001b[0m\u001b[0;34m\u001b[0m\u001b[0m\n\u001b[0m\u001b[1;32m     10\u001b[0m \u001b[0mbtn_run\u001b[0m\u001b[0;34m.\u001b[0m\u001b[0mon_click\u001b[0m\u001b[0;34m(\u001b[0m\u001b[0mon_click_classify\u001b[0m\u001b[0;34m)\u001b[0m\u001b[0;34m\u001b[0m\u001b[0;34m\u001b[0m\u001b[0m\n",
            "\u001b[0;31mNameError\u001b[0m: name 'thing' is not defined"
          ]
        },
        {
          "output_type": "display_data",
          "data": {
            "text/plain": [
              "<IPython.core.display.HTML object>"
            ],
            "text/html": [
              "\n",
              "<style>\n",
              "    /* Turns off some styling */\n",
              "    progress {\n",
              "        /* gets rid of default border in Firefox and Opera. */\n",
              "        border: none;\n",
              "        /* Needs to be in here for Safari polyfill so background images work as expected. */\n",
              "        background-size: auto;\n",
              "    }\n",
              "    progress:not([value]), progress:not([value])::-webkit-progress-bar {\n",
              "        background: repeating-linear-gradient(45deg, #7e7e7e, #7e7e7e 10px, #5c5c5c 10px, #5c5c5c 20px);\n",
              "    }\n",
              "    .progress-bar-interrupted, .progress-bar-interrupted::-webkit-progress-bar {\n",
              "        background: #F44336;\n",
              "    }\n",
              "</style>\n"
            ]
          },
          "metadata": {}
        },
        {
          "output_type": "display_data",
          "data": {
            "text/plain": [
              "<IPython.core.display.HTML object>"
            ],
            "text/html": []
          },
          "metadata": {}
        },
        {
          "output_type": "display_data",
          "data": {
            "text/plain": [
              "<IPython.core.display.HTML object>"
            ],
            "text/html": [
              "\n",
              "<style>\n",
              "    /* Turns off some styling */\n",
              "    progress {\n",
              "        /* gets rid of default border in Firefox and Opera. */\n",
              "        border: none;\n",
              "        /* Needs to be in here for Safari polyfill so background images work as expected. */\n",
              "        background-size: auto;\n",
              "    }\n",
              "    progress:not([value]), progress:not([value])::-webkit-progress-bar {\n",
              "        background: repeating-linear-gradient(45deg, #7e7e7e, #7e7e7e 10px, #5c5c5c 10px, #5c5c5c 20px);\n",
              "    }\n",
              "    .progress-bar-interrupted, .progress-bar-interrupted::-webkit-progress-bar {\n",
              "        background: #F44336;\n",
              "    }\n",
              "</style>\n"
            ]
          },
          "metadata": {}
        },
        {
          "output_type": "display_data",
          "data": {
            "text/plain": [
              "<IPython.core.display.HTML object>"
            ],
            "text/html": []
          },
          "metadata": {}
        },
        {
          "output_type": "display_data",
          "data": {
            "text/plain": [
              "<IPython.core.display.HTML object>"
            ],
            "text/html": [
              "\n",
              "<style>\n",
              "    /* Turns off some styling */\n",
              "    progress {\n",
              "        /* gets rid of default border in Firefox and Opera. */\n",
              "        border: none;\n",
              "        /* Needs to be in here for Safari polyfill so background images work as expected. */\n",
              "        background-size: auto;\n",
              "    }\n",
              "    progress:not([value]), progress:not([value])::-webkit-progress-bar {\n",
              "        background: repeating-linear-gradient(45deg, #7e7e7e, #7e7e7e 10px, #5c5c5c 10px, #5c5c5c 20px);\n",
              "    }\n",
              "    .progress-bar-interrupted, .progress-bar-interrupted::-webkit-progress-bar {\n",
              "        background: #F44336;\n",
              "    }\n",
              "</style>\n"
            ]
          },
          "metadata": {}
        },
        {
          "output_type": "display_data",
          "data": {
            "text/plain": [
              "<IPython.core.display.HTML object>"
            ],
            "text/html": []
          },
          "metadata": {}
        },
        {
          "output_type": "display_data",
          "data": {
            "text/plain": [
              "<IPython.core.display.HTML object>"
            ],
            "text/html": [
              "\n",
              "<style>\n",
              "    /* Turns off some styling */\n",
              "    progress {\n",
              "        /* gets rid of default border in Firefox and Opera. */\n",
              "        border: none;\n",
              "        /* Needs to be in here for Safari polyfill so background images work as expected. */\n",
              "        background-size: auto;\n",
              "    }\n",
              "    progress:not([value]), progress:not([value])::-webkit-progress-bar {\n",
              "        background: repeating-linear-gradient(45deg, #7e7e7e, #7e7e7e 10px, #5c5c5c 10px, #5c5c5c 20px);\n",
              "    }\n",
              "    .progress-bar-interrupted, .progress-bar-interrupted::-webkit-progress-bar {\n",
              "        background: #F44336;\n",
              "    }\n",
              "</style>\n"
            ]
          },
          "metadata": {}
        },
        {
          "output_type": "display_data",
          "data": {
            "text/plain": [
              "<IPython.core.display.HTML object>"
            ],
            "text/html": []
          },
          "metadata": {}
        },
        {
          "output_type": "display_data",
          "data": {
            "text/plain": [
              "<IPython.core.display.HTML object>"
            ],
            "text/html": [
              "\n",
              "<style>\n",
              "    /* Turns off some styling */\n",
              "    progress {\n",
              "        /* gets rid of default border in Firefox and Opera. */\n",
              "        border: none;\n",
              "        /* Needs to be in here for Safari polyfill so background images work as expected. */\n",
              "        background-size: auto;\n",
              "    }\n",
              "    progress:not([value]), progress:not([value])::-webkit-progress-bar {\n",
              "        background: repeating-linear-gradient(45deg, #7e7e7e, #7e7e7e 10px, #5c5c5c 10px, #5c5c5c 20px);\n",
              "    }\n",
              "    .progress-bar-interrupted, .progress-bar-interrupted::-webkit-progress-bar {\n",
              "        background: #F44336;\n",
              "    }\n",
              "</style>\n"
            ]
          },
          "metadata": {}
        },
        {
          "output_type": "display_data",
          "data": {
            "text/plain": [
              "<IPython.core.display.HTML object>"
            ],
            "text/html": []
          },
          "metadata": {}
        },
        {
          "output_type": "display_data",
          "data": {
            "text/plain": [
              "<IPython.core.display.HTML object>"
            ],
            "text/html": [
              "\n",
              "<style>\n",
              "    /* Turns off some styling */\n",
              "    progress {\n",
              "        /* gets rid of default border in Firefox and Opera. */\n",
              "        border: none;\n",
              "        /* Needs to be in here for Safari polyfill so background images work as expected. */\n",
              "        background-size: auto;\n",
              "    }\n",
              "    progress:not([value]), progress:not([value])::-webkit-progress-bar {\n",
              "        background: repeating-linear-gradient(45deg, #7e7e7e, #7e7e7e 10px, #5c5c5c 10px, #5c5c5c 20px);\n",
              "    }\n",
              "    .progress-bar-interrupted, .progress-bar-interrupted::-webkit-progress-bar {\n",
              "        background: #F44336;\n",
              "    }\n",
              "</style>\n"
            ]
          },
          "metadata": {}
        },
        {
          "output_type": "display_data",
          "data": {
            "text/plain": [
              "<IPython.core.display.HTML object>"
            ],
            "text/html": []
          },
          "metadata": {}
        },
        {
          "output_type": "display_data",
          "data": {
            "text/plain": [
              "<IPython.core.display.HTML object>"
            ],
            "text/html": [
              "\n",
              "<style>\n",
              "    /* Turns off some styling */\n",
              "    progress {\n",
              "        /* gets rid of default border in Firefox and Opera. */\n",
              "        border: none;\n",
              "        /* Needs to be in here for Safari polyfill so background images work as expected. */\n",
              "        background-size: auto;\n",
              "    }\n",
              "    progress:not([value]), progress:not([value])::-webkit-progress-bar {\n",
              "        background: repeating-linear-gradient(45deg, #7e7e7e, #7e7e7e 10px, #5c5c5c 10px, #5c5c5c 20px);\n",
              "    }\n",
              "    .progress-bar-interrupted, .progress-bar-interrupted::-webkit-progress-bar {\n",
              "        background: #F44336;\n",
              "    }\n",
              "</style>\n"
            ]
          },
          "metadata": {}
        },
        {
          "output_type": "display_data",
          "data": {
            "text/plain": [
              "<IPython.core.display.HTML object>"
            ],
            "text/html": []
          },
          "metadata": {}
        },
        {
          "output_type": "display_data",
          "data": {
            "text/plain": [
              "<IPython.core.display.HTML object>"
            ],
            "text/html": [
              "\n",
              "<style>\n",
              "    /* Turns off some styling */\n",
              "    progress {\n",
              "        /* gets rid of default border in Firefox and Opera. */\n",
              "        border: none;\n",
              "        /* Needs to be in here for Safari polyfill so background images work as expected. */\n",
              "        background-size: auto;\n",
              "    }\n",
              "    progress:not([value]), progress:not([value])::-webkit-progress-bar {\n",
              "        background: repeating-linear-gradient(45deg, #7e7e7e, #7e7e7e 10px, #5c5c5c 10px, #5c5c5c 20px);\n",
              "    }\n",
              "    .progress-bar-interrupted, .progress-bar-interrupted::-webkit-progress-bar {\n",
              "        background: #F44336;\n",
              "    }\n",
              "</style>\n"
            ]
          },
          "metadata": {}
        },
        {
          "output_type": "display_data",
          "data": {
            "text/plain": [
              "<IPython.core.display.HTML object>"
            ],
            "text/html": []
          },
          "metadata": {}
        },
        {
          "output_type": "display_data",
          "data": {
            "text/plain": [
              "<IPython.core.display.HTML object>"
            ],
            "text/html": [
              "\n",
              "<style>\n",
              "    /* Turns off some styling */\n",
              "    progress {\n",
              "        /* gets rid of default border in Firefox and Opera. */\n",
              "        border: none;\n",
              "        /* Needs to be in here for Safari polyfill so background images work as expected. */\n",
              "        background-size: auto;\n",
              "    }\n",
              "    progress:not([value]), progress:not([value])::-webkit-progress-bar {\n",
              "        background: repeating-linear-gradient(45deg, #7e7e7e, #7e7e7e 10px, #5c5c5c 10px, #5c5c5c 20px);\n",
              "    }\n",
              "    .progress-bar-interrupted, .progress-bar-interrupted::-webkit-progress-bar {\n",
              "        background: #F44336;\n",
              "    }\n",
              "</style>\n"
            ]
          },
          "metadata": {}
        },
        {
          "output_type": "display_data",
          "data": {
            "text/plain": [
              "<IPython.core.display.HTML object>"
            ],
            "text/html": []
          },
          "metadata": {}
        },
        {
          "output_type": "display_data",
          "data": {
            "text/plain": [
              "<IPython.core.display.HTML object>"
            ],
            "text/html": [
              "\n",
              "<style>\n",
              "    /* Turns off some styling */\n",
              "    progress {\n",
              "        /* gets rid of default border in Firefox and Opera. */\n",
              "        border: none;\n",
              "        /* Needs to be in here for Safari polyfill so background images work as expected. */\n",
              "        background-size: auto;\n",
              "    }\n",
              "    progress:not([value]), progress:not([value])::-webkit-progress-bar {\n",
              "        background: repeating-linear-gradient(45deg, #7e7e7e, #7e7e7e 10px, #5c5c5c 10px, #5c5c5c 20px);\n",
              "    }\n",
              "    .progress-bar-interrupted, .progress-bar-interrupted::-webkit-progress-bar {\n",
              "        background: #F44336;\n",
              "    }\n",
              "</style>\n"
            ]
          },
          "metadata": {}
        },
        {
          "output_type": "display_data",
          "data": {
            "text/plain": [
              "<IPython.core.display.HTML object>"
            ],
            "text/html": []
          },
          "metadata": {}
        },
        {
          "output_type": "display_data",
          "data": {
            "text/plain": [
              "<IPython.core.display.HTML object>"
            ],
            "text/html": [
              "\n",
              "<style>\n",
              "    /* Turns off some styling */\n",
              "    progress {\n",
              "        /* gets rid of default border in Firefox and Opera. */\n",
              "        border: none;\n",
              "        /* Needs to be in here for Safari polyfill so background images work as expected. */\n",
              "        background-size: auto;\n",
              "    }\n",
              "    progress:not([value]), progress:not([value])::-webkit-progress-bar {\n",
              "        background: repeating-linear-gradient(45deg, #7e7e7e, #7e7e7e 10px, #5c5c5c 10px, #5c5c5c 20px);\n",
              "    }\n",
              "    .progress-bar-interrupted, .progress-bar-interrupted::-webkit-progress-bar {\n",
              "        background: #F44336;\n",
              "    }\n",
              "</style>\n"
            ]
          },
          "metadata": {}
        },
        {
          "output_type": "display_data",
          "data": {
            "text/plain": [
              "<IPython.core.display.HTML object>"
            ],
            "text/html": []
          },
          "metadata": {}
        },
        {
          "output_type": "display_data",
          "data": {
            "text/plain": [
              "<IPython.core.display.HTML object>"
            ],
            "text/html": [
              "\n",
              "<style>\n",
              "    /* Turns off some styling */\n",
              "    progress {\n",
              "        /* gets rid of default border in Firefox and Opera. */\n",
              "        border: none;\n",
              "        /* Needs to be in here for Safari polyfill so background images work as expected. */\n",
              "        background-size: auto;\n",
              "    }\n",
              "    progress:not([value]), progress:not([value])::-webkit-progress-bar {\n",
              "        background: repeating-linear-gradient(45deg, #7e7e7e, #7e7e7e 10px, #5c5c5c 10px, #5c5c5c 20px);\n",
              "    }\n",
              "    .progress-bar-interrupted, .progress-bar-interrupted::-webkit-progress-bar {\n",
              "        background: #F44336;\n",
              "    }\n",
              "</style>\n"
            ]
          },
          "metadata": {}
        },
        {
          "output_type": "display_data",
          "data": {
            "text/plain": [
              "<IPython.core.display.HTML object>"
            ],
            "text/html": []
          },
          "metadata": {}
        },
        {
          "output_type": "error",
          "ename": "NameError",
          "evalue": "ignored",
          "traceback": [
            "\u001b[0;31m---------------------------------------------------------------------------\u001b[0m",
            "\u001b[0;31mNameError\u001b[0m                                 Traceback (most recent call last)",
            "\u001b[0;32m<ipython-input-27-68a4c40c02d1>\u001b[0m in \u001b[0;36mon_click_classify\u001b[0;34m(change)\u001b[0m\n\u001b[1;32m      9\u001b[0m \u001b[0;34m\u001b[0m\u001b[0m\n\u001b[1;32m     10\u001b[0m     \u001b[0;32mfor\u001b[0m \u001b[0mthing\u001b[0m \u001b[0;32min\u001b[0m \u001b[0mack\u001b[0m\u001b[0;34m:\u001b[0m\u001b[0;34m\u001b[0m\u001b[0;34m\u001b[0m\u001b[0m\n\u001b[0;32m---> 11\u001b[0;31m       \u001b[0mwidgets\u001b[0m\u001b[0;34m.\u001b[0m\u001b[0mLabel\u001b[0m\u001b[0;34m(\u001b[0m\u001b[0;34m)\u001b[0m\u001b[0;34m.\u001b[0m\u001b[0mvalue\u001b[0m \u001b[0;34m=\u001b[0m \u001b[0mthng\u001b[0m\u001b[0;34m\u001b[0m\u001b[0;34m\u001b[0m\u001b[0m\n\u001b[0m\u001b[1;32m     12\u001b[0m \u001b[0mbtn_run\u001b[0m\u001b[0;34m.\u001b[0m\u001b[0mon_click\u001b[0m\u001b[0;34m(\u001b[0m\u001b[0mon_click_classify\u001b[0m\u001b[0;34m)\u001b[0m\u001b[0;34m\u001b[0m\u001b[0;34m\u001b[0m\u001b[0m\n",
            "\u001b[0;31mNameError\u001b[0m: name 'thng' is not defined"
          ]
        },
        {
          "output_type": "display_data",
          "data": {
            "text/plain": [
              "<IPython.core.display.HTML object>"
            ],
            "text/html": [
              "\n",
              "<style>\n",
              "    /* Turns off some styling */\n",
              "    progress {\n",
              "        /* gets rid of default border in Firefox and Opera. */\n",
              "        border: none;\n",
              "        /* Needs to be in here for Safari polyfill so background images work as expected. */\n",
              "        background-size: auto;\n",
              "    }\n",
              "    progress:not([value]), progress:not([value])::-webkit-progress-bar {\n",
              "        background: repeating-linear-gradient(45deg, #7e7e7e, #7e7e7e 10px, #5c5c5c 10px, #5c5c5c 20px);\n",
              "    }\n",
              "    .progress-bar-interrupted, .progress-bar-interrupted::-webkit-progress-bar {\n",
              "        background: #F44336;\n",
              "    }\n",
              "</style>\n"
            ]
          },
          "metadata": {}
        },
        {
          "output_type": "display_data",
          "data": {
            "text/plain": [
              "<IPython.core.display.HTML object>"
            ],
            "text/html": []
          },
          "metadata": {}
        },
        {
          "output_type": "display_data",
          "data": {
            "text/plain": [
              "<IPython.core.display.HTML object>"
            ],
            "text/html": [
              "\n",
              "<style>\n",
              "    /* Turns off some styling */\n",
              "    progress {\n",
              "        /* gets rid of default border in Firefox and Opera. */\n",
              "        border: none;\n",
              "        /* Needs to be in here for Safari polyfill so background images work as expected. */\n",
              "        background-size: auto;\n",
              "    }\n",
              "    progress:not([value]), progress:not([value])::-webkit-progress-bar {\n",
              "        background: repeating-linear-gradient(45deg, #7e7e7e, #7e7e7e 10px, #5c5c5c 10px, #5c5c5c 20px);\n",
              "    }\n",
              "    .progress-bar-interrupted, .progress-bar-interrupted::-webkit-progress-bar {\n",
              "        background: #F44336;\n",
              "    }\n",
              "</style>\n"
            ]
          },
          "metadata": {}
        },
        {
          "output_type": "display_data",
          "data": {
            "text/plain": [
              "<IPython.core.display.HTML object>"
            ],
            "text/html": []
          },
          "metadata": {}
        },
        {
          "output_type": "display_data",
          "data": {
            "text/plain": [
              "<IPython.core.display.HTML object>"
            ],
            "text/html": [
              "\n",
              "<style>\n",
              "    /* Turns off some styling */\n",
              "    progress {\n",
              "        /* gets rid of default border in Firefox and Opera. */\n",
              "        border: none;\n",
              "        /* Needs to be in here for Safari polyfill so background images work as expected. */\n",
              "        background-size: auto;\n",
              "    }\n",
              "    progress:not([value]), progress:not([value])::-webkit-progress-bar {\n",
              "        background: repeating-linear-gradient(45deg, #7e7e7e, #7e7e7e 10px, #5c5c5c 10px, #5c5c5c 20px);\n",
              "    }\n",
              "    .progress-bar-interrupted, .progress-bar-interrupted::-webkit-progress-bar {\n",
              "        background: #F44336;\n",
              "    }\n",
              "</style>\n"
            ]
          },
          "metadata": {}
        },
        {
          "output_type": "display_data",
          "data": {
            "text/plain": [
              "<IPython.core.display.HTML object>"
            ],
            "text/html": []
          },
          "metadata": {}
        },
        {
          "output_type": "error",
          "ename": "NameError",
          "evalue": "ignored",
          "traceback": [
            "\u001b[0;31m---------------------------------------------------------------------------\u001b[0m",
            "\u001b[0;31mNameError\u001b[0m                                 Traceback (most recent call last)",
            "\u001b[0;32m<ipython-input-33-a9a7f0362e06>\u001b[0m in \u001b[0;36mon_click_classify\u001b[0;34m(change)\u001b[0m\n\u001b[1;32m      7\u001b[0m     \u001b[0;32mfor\u001b[0m \u001b[0mi\u001b[0m \u001b[0;32min\u001b[0m \u001b[0mrange\u001b[0m\u001b[0;34m(\u001b[0m\u001b[0mlen\u001b[0m\u001b[0;34m(\u001b[0m\u001b[0mpred_class\u001b[0m\u001b[0;34m)\u001b[0m\u001b[0;34m)\u001b[0m\u001b[0;34m:\u001b[0m\u001b[0;34m\u001b[0m\u001b[0;34m\u001b[0m\u001b[0m\n\u001b[1;32m      8\u001b[0m       \u001b[0mack\u001b[0m\u001b[0;34m.\u001b[0m\u001b[0mappend\u001b[0m\u001b[0;34m(\u001b[0m\u001b[0mnameProbDisplay\u001b[0m\u001b[0;34m(\u001b[0m\u001b[0mpred_class\u001b[0m\u001b[0;34m[\u001b[0m\u001b[0mi\u001b[0m\u001b[0;34m]\u001b[0m\u001b[0;34m,\u001b[0m \u001b[0mprobabilities\u001b[0m\u001b[0;34m[\u001b[0m\u001b[0mi\u001b[0m\u001b[0;34m]\u001b[0m\u001b[0;34m)\u001b[0m\u001b[0;34m)\u001b[0m\u001b[0;34m\u001b[0m\u001b[0;34m\u001b[0m\u001b[0m\n\u001b[0;32m----> 9\u001b[0;31m       \u001b[0mwidgets\u001b[0m\u001b[0;34m.\u001b[0m\u001b[0mLabel\u001b[0m\u001b[0;34m(\u001b[0m\u001b[0mthing\u001b[0m\u001b[0;34m)\u001b[0m\u001b[0;34m\u001b[0m\u001b[0;34m\u001b[0m\u001b[0m\n\u001b[0m\u001b[1;32m     10\u001b[0m \u001b[0mbtn_run\u001b[0m\u001b[0;34m.\u001b[0m\u001b[0mon_click\u001b[0m\u001b[0;34m(\u001b[0m\u001b[0mon_click_classify\u001b[0m\u001b[0;34m)\u001b[0m\u001b[0;34m\u001b[0m\u001b[0;34m\u001b[0m\u001b[0m\n",
            "\u001b[0;31mNameError\u001b[0m: name 'thing' is not defined"
          ]
        },
        {
          "output_type": "display_data",
          "data": {
            "text/plain": [
              "<IPython.core.display.HTML object>"
            ],
            "text/html": [
              "\n",
              "<style>\n",
              "    /* Turns off some styling */\n",
              "    progress {\n",
              "        /* gets rid of default border in Firefox and Opera. */\n",
              "        border: none;\n",
              "        /* Needs to be in here for Safari polyfill so background images work as expected. */\n",
              "        background-size: auto;\n",
              "    }\n",
              "    progress:not([value]), progress:not([value])::-webkit-progress-bar {\n",
              "        background: repeating-linear-gradient(45deg, #7e7e7e, #7e7e7e 10px, #5c5c5c 10px, #5c5c5c 20px);\n",
              "    }\n",
              "    .progress-bar-interrupted, .progress-bar-interrupted::-webkit-progress-bar {\n",
              "        background: #F44336;\n",
              "    }\n",
              "</style>\n"
            ]
          },
          "metadata": {}
        },
        {
          "output_type": "display_data",
          "data": {
            "text/plain": [
              "<IPython.core.display.HTML object>"
            ],
            "text/html": []
          },
          "metadata": {}
        },
        {
          "output_type": "display_data",
          "data": {
            "text/plain": [
              "<IPython.core.display.HTML object>"
            ],
            "text/html": [
              "\n",
              "<style>\n",
              "    /* Turns off some styling */\n",
              "    progress {\n",
              "        /* gets rid of default border in Firefox and Opera. */\n",
              "        border: none;\n",
              "        /* Needs to be in here for Safari polyfill so background images work as expected. */\n",
              "        background-size: auto;\n",
              "    }\n",
              "    progress:not([value]), progress:not([value])::-webkit-progress-bar {\n",
              "        background: repeating-linear-gradient(45deg, #7e7e7e, #7e7e7e 10px, #5c5c5c 10px, #5c5c5c 20px);\n",
              "    }\n",
              "    .progress-bar-interrupted, .progress-bar-interrupted::-webkit-progress-bar {\n",
              "        background: #F44336;\n",
              "    }\n",
              "</style>\n"
            ]
          },
          "metadata": {}
        },
        {
          "output_type": "display_data",
          "data": {
            "text/plain": [
              "<IPython.core.display.HTML object>"
            ],
            "text/html": []
          },
          "metadata": {}
        },
        {
          "output_type": "display_data",
          "data": {
            "text/plain": [
              "<IPython.core.display.HTML object>"
            ],
            "text/html": [
              "\n",
              "<style>\n",
              "    /* Turns off some styling */\n",
              "    progress {\n",
              "        /* gets rid of default border in Firefox and Opera. */\n",
              "        border: none;\n",
              "        /* Needs to be in here for Safari polyfill so background images work as expected. */\n",
              "        background-size: auto;\n",
              "    }\n",
              "    progress:not([value]), progress:not([value])::-webkit-progress-bar {\n",
              "        background: repeating-linear-gradient(45deg, #7e7e7e, #7e7e7e 10px, #5c5c5c 10px, #5c5c5c 20px);\n",
              "    }\n",
              "    .progress-bar-interrupted, .progress-bar-interrupted::-webkit-progress-bar {\n",
              "        background: #F44336;\n",
              "    }\n",
              "</style>\n"
            ]
          },
          "metadata": {}
        },
        {
          "output_type": "display_data",
          "data": {
            "text/plain": [
              "<IPython.core.display.HTML object>"
            ],
            "text/html": []
          },
          "metadata": {}
        },
        {
          "output_type": "display_data",
          "data": {
            "text/plain": [
              "<IPython.core.display.HTML object>"
            ],
            "text/html": [
              "\n",
              "<style>\n",
              "    /* Turns off some styling */\n",
              "    progress {\n",
              "        /* gets rid of default border in Firefox and Opera. */\n",
              "        border: none;\n",
              "        /* Needs to be in here for Safari polyfill so background images work as expected. */\n",
              "        background-size: auto;\n",
              "    }\n",
              "    progress:not([value]), progress:not([value])::-webkit-progress-bar {\n",
              "        background: repeating-linear-gradient(45deg, #7e7e7e, #7e7e7e 10px, #5c5c5c 10px, #5c5c5c 20px);\n",
              "    }\n",
              "    .progress-bar-interrupted, .progress-bar-interrupted::-webkit-progress-bar {\n",
              "        background: #F44336;\n",
              "    }\n",
              "</style>\n"
            ]
          },
          "metadata": {}
        },
        {
          "output_type": "display_data",
          "data": {
            "text/plain": [
              "<IPython.core.display.HTML object>"
            ],
            "text/html": []
          },
          "metadata": {}
        }
      ]
    }
  ]
}