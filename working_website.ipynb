{
  "nbformat": 4,
  "nbformat_minor": 0,
  "metadata": {
    "colab": {
      "provenance": [],
      "collapsed_sections": []
    },
    "kernelspec": {
      "name": "python3",
      "display_name": "Python 3"
    },
    "language_info": {
      "name": "python"
    },
    "widgets": {
      "application/vnd.jupyter.widget-state+json": {
        "19bc7b4d7e7a42499e5d4b16ccec07a3": {
          "model_module": "@jupyter-widgets/controls",
          "model_name": "VBoxModel",
          "model_module_version": "1.5.0",
          "state": {
            "_dom_classes": [],
            "_model_module": "@jupyter-widgets/controls",
            "_model_module_version": "1.5.0",
            "_model_name": "VBoxModel",
            "_view_count": null,
            "_view_module": "@jupyter-widgets/controls",
            "_view_module_version": "1.5.0",
            "_view_name": "VBoxView",
            "box_style": "",
            "children": [
              "IPY_MODEL_35ab1d9c8cf44a9bb72d041a1ed00db2",
              "IPY_MODEL_1fc0b08e4b3a4fd89931efb60b191569",
              "IPY_MODEL_a7b3c1f32b474e12868ed0849df57e2a",
              "IPY_MODEL_f4ab2175a51f41efa5f0d5e89bf2bf97",
              "IPY_MODEL_6fbb11c4226743b9879f1923a9cc8fd3",
              "IPY_MODEL_cb2734afaae14a9399dccc21fa32d702",
              "IPY_MODEL_5b284d2aa938459aafe6bf0d653d5c2b"
            ],
            "layout": "IPY_MODEL_5822ebf9ac71481b99696557907862bb"
          }
        },
        "35ab1d9c8cf44a9bb72d041a1ed00db2": {
          "model_module": "@jupyter-widgets/controls",
          "model_name": "LabelModel",
          "model_module_version": "1.5.0",
          "state": {
            "_dom_classes": [],
            "_model_module": "@jupyter-widgets/controls",
            "_model_module_version": "1.5.0",
            "_model_name": "LabelModel",
            "_view_count": null,
            "_view_module": "@jupyter-widgets/controls",
            "_view_module_version": "1.5.0",
            "_view_name": "LabelView",
            "description": "",
            "description_tooltip": null,
            "layout": "IPY_MODEL_8405d2390d1d4abd9c95f7b31412be17",
            "placeholder": "​",
            "style": "IPY_MODEL_bb662be41d404b7ca8c6c97996dbea47",
            "value": "Upload a photo of either a sea lion or a seal!"
          }
        },
        "1fc0b08e4b3a4fd89931efb60b191569": {
          "model_module": "@jupyter-widgets/controls",
          "model_name": "FileUploadModel",
          "model_module_version": "1.5.0",
          "state": {
            "_counter": 3,
            "_dom_classes": [],
            "_model_module": "@jupyter-widgets/controls",
            "_model_module_version": "1.5.0",
            "_model_name": "FileUploadModel",
            "_view_count": null,
            "_view_module": "@jupyter-widgets/controls",
            "_view_module_version": "1.5.0",
            "_view_name": "FileUploadView",
            "accept": "",
            "button_style": "",
            "data": [
              null
            ],
            "description": "Upload",
            "description_tooltip": null,
            "disabled": false,
            "error": "",
            "icon": "upload",
            "layout": "IPY_MODEL_fa158164928c48b48b676e156988f5a0",
            "metadata": [
              {
                "name": "Screenshot 2022-11-07 155429.png",
                "type": "image/png",
                "size": 24232,
                "lastModified": 1667865272721
              }
            ],
            "multiple": false,
            "style": "IPY_MODEL_6fb29d1e7763416783966cf85de0e9b0"
          }
        },
        "a7b3c1f32b474e12868ed0849df57e2a": {
          "model_module": "@jupyter-widgets/controls",
          "model_name": "ButtonModel",
          "model_module_version": "1.5.0",
          "state": {
            "_dom_classes": [],
            "_model_module": "@jupyter-widgets/controls",
            "_model_module_version": "1.5.0",
            "_model_name": "ButtonModel",
            "_view_count": null,
            "_view_module": "@jupyter-widgets/controls",
            "_view_module_version": "1.5.0",
            "_view_name": "ButtonView",
            "button_style": "",
            "description": "Classify",
            "disabled": false,
            "icon": "",
            "layout": "IPY_MODEL_e89d1728e1ed45b88cf74e20b6cbd9ca",
            "style": "IPY_MODEL_f0c12d628e3e4e0e8f8076f985f05ea3",
            "tooltip": ""
          }
        },
        "f4ab2175a51f41efa5f0d5e89bf2bf97": {
          "model_module": "@jupyter-widgets/output",
          "model_name": "OutputModel",
          "model_module_version": "1.0.0",
          "state": {
            "_dom_classes": [],
            "_model_module": "@jupyter-widgets/output",
            "_model_module_version": "1.0.0",
            "_model_name": "OutputModel",
            "_view_count": null,
            "_view_module": "@jupyter-widgets/output",
            "_view_module_version": "1.0.0",
            "_view_name": "OutputView",
            "layout": "IPY_MODEL_316cc9120f0d454c9fd3064dc03a5c89",
            "msg_id": "",
            "outputs": [
              {
                "output_type": "display_data",
                "data": {
                  "text/plain": "<PIL.Image.Image image mode=RGB size=128x34>",
                  "image/png": "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\n"
                },
                "metadata": {}
              }
            ]
          }
        },
        "6fbb11c4226743b9879f1923a9cc8fd3": {
          "model_module": "@jupyter-widgets/controls",
          "model_name": "LabelModel",
          "model_module_version": "1.5.0",
          "state": {
            "_dom_classes": [],
            "_model_module": "@jupyter-widgets/controls",
            "_model_module_version": "1.5.0",
            "_model_name": "LabelModel",
            "_view_count": null,
            "_view_module": "@jupyter-widgets/controls",
            "_view_module_version": "1.5.0",
            "_view_name": "LabelView",
            "description": "",
            "description_tooltip": null,
            "layout": "IPY_MODEL_2fb23c1a1d6a481b8744499ee4617f8a",
            "placeholder": "​",
            "style": "IPY_MODEL_96b1d7e309cc497382f9c8595240663e",
            "value": "Prediction: California sea lion; Probability: 0.6907"
          }
        },
        "cb2734afaae14a9399dccc21fa32d702": {
          "model_module": "@jupyter-widgets/controls",
          "model_name": "LabelModel",
          "model_module_version": "1.5.0",
          "state": {
            "_dom_classes": [],
            "_model_module": "@jupyter-widgets/controls",
            "_model_module_version": "1.5.0",
            "_model_name": "LabelModel",
            "_view_count": null,
            "_view_module": "@jupyter-widgets/controls",
            "_view_module_version": "1.5.0",
            "_view_name": "LabelView",
            "description": "",
            "description_tooltip": null,
            "layout": "IPY_MODEL_e5c93d5b24254381ae1eb633c849d07c",
            "placeholder": "​",
            "style": "IPY_MODEL_75f129105cf64da997b4d5d522a5500f",
            "value": "Prediction: Harbor seal; Probability: 0.0218"
          }
        },
        "5b284d2aa938459aafe6bf0d653d5c2b": {
          "model_module": "@jupyter-widgets/controls",
          "model_name": "LabelModel",
          "model_module_version": "1.5.0",
          "state": {
            "_dom_classes": [],
            "_model_module": "@jupyter-widgets/controls",
            "_model_module_version": "1.5.0",
            "_model_name": "LabelModel",
            "_view_count": null,
            "_view_module": "@jupyter-widgets/controls",
            "_view_module_version": "1.5.0",
            "_view_name": "LabelView",
            "description": "",
            "description_tooltip": null,
            "layout": "IPY_MODEL_d85f0b14e17d407f9c7a3769cd6a23a3",
            "placeholder": "​",
            "style": "IPY_MODEL_ffd3b155d4614f79b0f879e09cd037dd",
            "value": ""
          }
        },
        "5822ebf9ac71481b99696557907862bb": {
          "model_module": "@jupyter-widgets/base",
          "model_name": "LayoutModel",
          "model_module_version": "1.2.0",
          "state": {
            "_model_module": "@jupyter-widgets/base",
            "_model_module_version": "1.2.0",
            "_model_name": "LayoutModel",
            "_view_count": null,
            "_view_module": "@jupyter-widgets/base",
            "_view_module_version": "1.2.0",
            "_view_name": "LayoutView",
            "align_content": null,
            "align_items": null,
            "align_self": null,
            "border": null,
            "bottom": null,
            "display": null,
            "flex": null,
            "flex_flow": null,
            "grid_area": null,
            "grid_auto_columns": null,
            "grid_auto_flow": null,
            "grid_auto_rows": null,
            "grid_column": null,
            "grid_gap": null,
            "grid_row": null,
            "grid_template_areas": null,
            "grid_template_columns": null,
            "grid_template_rows": null,
            "height": null,
            "justify_content": null,
            "justify_items": null,
            "left": null,
            "margin": null,
            "max_height": null,
            "max_width": null,
            "min_height": null,
            "min_width": null,
            "object_fit": null,
            "object_position": null,
            "order": null,
            "overflow": null,
            "overflow_x": null,
            "overflow_y": null,
            "padding": null,
            "right": null,
            "top": null,
            "visibility": null,
            "width": null
          }
        },
        "8405d2390d1d4abd9c95f7b31412be17": {
          "model_module": "@jupyter-widgets/base",
          "model_name": "LayoutModel",
          "model_module_version": "1.2.0",
          "state": {
            "_model_module": "@jupyter-widgets/base",
            "_model_module_version": "1.2.0",
            "_model_name": "LayoutModel",
            "_view_count": null,
            "_view_module": "@jupyter-widgets/base",
            "_view_module_version": "1.2.0",
            "_view_name": "LayoutView",
            "align_content": null,
            "align_items": null,
            "align_self": null,
            "border": null,
            "bottom": null,
            "display": null,
            "flex": null,
            "flex_flow": null,
            "grid_area": null,
            "grid_auto_columns": null,
            "grid_auto_flow": null,
            "grid_auto_rows": null,
            "grid_column": null,
            "grid_gap": null,
            "grid_row": null,
            "grid_template_areas": null,
            "grid_template_columns": null,
            "grid_template_rows": null,
            "height": null,
            "justify_content": null,
            "justify_items": null,
            "left": null,
            "margin": null,
            "max_height": null,
            "max_width": null,
            "min_height": null,
            "min_width": null,
            "object_fit": null,
            "object_position": null,
            "order": null,
            "overflow": null,
            "overflow_x": null,
            "overflow_y": null,
            "padding": null,
            "right": null,
            "top": null,
            "visibility": null,
            "width": null
          }
        },
        "bb662be41d404b7ca8c6c97996dbea47": {
          "model_module": "@jupyter-widgets/controls",
          "model_name": "DescriptionStyleModel",
          "model_module_version": "1.5.0",
          "state": {
            "_model_module": "@jupyter-widgets/controls",
            "_model_module_version": "1.5.0",
            "_model_name": "DescriptionStyleModel",
            "_view_count": null,
            "_view_module": "@jupyter-widgets/base",
            "_view_module_version": "1.2.0",
            "_view_name": "StyleView",
            "description_width": ""
          }
        },
        "fa158164928c48b48b676e156988f5a0": {
          "model_module": "@jupyter-widgets/base",
          "model_name": "LayoutModel",
          "model_module_version": "1.2.0",
          "state": {
            "_model_module": "@jupyter-widgets/base",
            "_model_module_version": "1.2.0",
            "_model_name": "LayoutModel",
            "_view_count": null,
            "_view_module": "@jupyter-widgets/base",
            "_view_module_version": "1.2.0",
            "_view_name": "LayoutView",
            "align_content": null,
            "align_items": null,
            "align_self": null,
            "border": null,
            "bottom": null,
            "display": null,
            "flex": null,
            "flex_flow": null,
            "grid_area": null,
            "grid_auto_columns": null,
            "grid_auto_flow": null,
            "grid_auto_rows": null,
            "grid_column": null,
            "grid_gap": null,
            "grid_row": null,
            "grid_template_areas": null,
            "grid_template_columns": null,
            "grid_template_rows": null,
            "height": null,
            "justify_content": null,
            "justify_items": null,
            "left": null,
            "margin": null,
            "max_height": null,
            "max_width": null,
            "min_height": null,
            "min_width": null,
            "object_fit": null,
            "object_position": null,
            "order": null,
            "overflow": null,
            "overflow_x": null,
            "overflow_y": null,
            "padding": null,
            "right": null,
            "top": null,
            "visibility": null,
            "width": null
          }
        },
        "6fb29d1e7763416783966cf85de0e9b0": {
          "model_module": "@jupyter-widgets/controls",
          "model_name": "ButtonStyleModel",
          "model_module_version": "1.5.0",
          "state": {
            "_model_module": "@jupyter-widgets/controls",
            "_model_module_version": "1.5.0",
            "_model_name": "ButtonStyleModel",
            "_view_count": null,
            "_view_module": "@jupyter-widgets/base",
            "_view_module_version": "1.2.0",
            "_view_name": "StyleView",
            "button_color": null,
            "font_weight": ""
          }
        },
        "e89d1728e1ed45b88cf74e20b6cbd9ca": {
          "model_module": "@jupyter-widgets/base",
          "model_name": "LayoutModel",
          "model_module_version": "1.2.0",
          "state": {
            "_model_module": "@jupyter-widgets/base",
            "_model_module_version": "1.2.0",
            "_model_name": "LayoutModel",
            "_view_count": null,
            "_view_module": "@jupyter-widgets/base",
            "_view_module_version": "1.2.0",
            "_view_name": "LayoutView",
            "align_content": null,
            "align_items": null,
            "align_self": null,
            "border": null,
            "bottom": null,
            "display": null,
            "flex": null,
            "flex_flow": null,
            "grid_area": null,
            "grid_auto_columns": null,
            "grid_auto_flow": null,
            "grid_auto_rows": null,
            "grid_column": null,
            "grid_gap": null,
            "grid_row": null,
            "grid_template_areas": null,
            "grid_template_columns": null,
            "grid_template_rows": null,
            "height": null,
            "justify_content": null,
            "justify_items": null,
            "left": null,
            "margin": null,
            "max_height": null,
            "max_width": null,
            "min_height": null,
            "min_width": null,
            "object_fit": null,
            "object_position": null,
            "order": null,
            "overflow": null,
            "overflow_x": null,
            "overflow_y": null,
            "padding": null,
            "right": null,
            "top": null,
            "visibility": null,
            "width": null
          }
        },
        "f0c12d628e3e4e0e8f8076f985f05ea3": {
          "model_module": "@jupyter-widgets/controls",
          "model_name": "ButtonStyleModel",
          "model_module_version": "1.5.0",
          "state": {
            "_model_module": "@jupyter-widgets/controls",
            "_model_module_version": "1.5.0",
            "_model_name": "ButtonStyleModel",
            "_view_count": null,
            "_view_module": "@jupyter-widgets/base",
            "_view_module_version": "1.2.0",
            "_view_name": "StyleView",
            "button_color": null,
            "font_weight": ""
          }
        },
        "2fb23c1a1d6a481b8744499ee4617f8a": {
          "model_module": "@jupyter-widgets/base",
          "model_name": "LayoutModel",
          "model_module_version": "1.2.0",
          "state": {
            "_model_module": "@jupyter-widgets/base",
            "_model_module_version": "1.2.0",
            "_model_name": "LayoutModel",
            "_view_count": null,
            "_view_module": "@jupyter-widgets/base",
            "_view_module_version": "1.2.0",
            "_view_name": "LayoutView",
            "align_content": null,
            "align_items": null,
            "align_self": null,
            "border": null,
            "bottom": null,
            "display": null,
            "flex": null,
            "flex_flow": null,
            "grid_area": null,
            "grid_auto_columns": null,
            "grid_auto_flow": null,
            "grid_auto_rows": null,
            "grid_column": null,
            "grid_gap": null,
            "grid_row": null,
            "grid_template_areas": null,
            "grid_template_columns": null,
            "grid_template_rows": null,
            "height": null,
            "justify_content": null,
            "justify_items": null,
            "left": null,
            "margin": null,
            "max_height": null,
            "max_width": null,
            "min_height": null,
            "min_width": null,
            "object_fit": null,
            "object_position": null,
            "order": null,
            "overflow": null,
            "overflow_x": null,
            "overflow_y": null,
            "padding": null,
            "right": null,
            "top": null,
            "visibility": null,
            "width": null
          }
        },
        "96b1d7e309cc497382f9c8595240663e": {
          "model_module": "@jupyter-widgets/controls",
          "model_name": "DescriptionStyleModel",
          "model_module_version": "1.5.0",
          "state": {
            "_model_module": "@jupyter-widgets/controls",
            "_model_module_version": "1.5.0",
            "_model_name": "DescriptionStyleModel",
            "_view_count": null,
            "_view_module": "@jupyter-widgets/base",
            "_view_module_version": "1.2.0",
            "_view_name": "StyleView",
            "description_width": ""
          }
        },
        "e5c93d5b24254381ae1eb633c849d07c": {
          "model_module": "@jupyter-widgets/base",
          "model_name": "LayoutModel",
          "model_module_version": "1.2.0",
          "state": {
            "_model_module": "@jupyter-widgets/base",
            "_model_module_version": "1.2.0",
            "_model_name": "LayoutModel",
            "_view_count": null,
            "_view_module": "@jupyter-widgets/base",
            "_view_module_version": "1.2.0",
            "_view_name": "LayoutView",
            "align_content": null,
            "align_items": null,
            "align_self": null,
            "border": null,
            "bottom": null,
            "display": null,
            "flex": null,
            "flex_flow": null,
            "grid_area": null,
            "grid_auto_columns": null,
            "grid_auto_flow": null,
            "grid_auto_rows": null,
            "grid_column": null,
            "grid_gap": null,
            "grid_row": null,
            "grid_template_areas": null,
            "grid_template_columns": null,
            "grid_template_rows": null,
            "height": null,
            "justify_content": null,
            "justify_items": null,
            "left": null,
            "margin": null,
            "max_height": null,
            "max_width": null,
            "min_height": null,
            "min_width": null,
            "object_fit": null,
            "object_position": null,
            "order": null,
            "overflow": null,
            "overflow_x": null,
            "overflow_y": null,
            "padding": null,
            "right": null,
            "top": null,
            "visibility": null,
            "width": null
          }
        },
        "75f129105cf64da997b4d5d522a5500f": {
          "model_module": "@jupyter-widgets/controls",
          "model_name": "DescriptionStyleModel",
          "model_module_version": "1.5.0",
          "state": {
            "_model_module": "@jupyter-widgets/controls",
            "_model_module_version": "1.5.0",
            "_model_name": "DescriptionStyleModel",
            "_view_count": null,
            "_view_module": "@jupyter-widgets/base",
            "_view_module_version": "1.2.0",
            "_view_name": "StyleView",
            "description_width": ""
          }
        },
        "d85f0b14e17d407f9c7a3769cd6a23a3": {
          "model_module": "@jupyter-widgets/base",
          "model_name": "LayoutModel",
          "model_module_version": "1.2.0",
          "state": {
            "_model_module": "@jupyter-widgets/base",
            "_model_module_version": "1.2.0",
            "_model_name": "LayoutModel",
            "_view_count": null,
            "_view_module": "@jupyter-widgets/base",
            "_view_module_version": "1.2.0",
            "_view_name": "LayoutView",
            "align_content": null,
            "align_items": null,
            "align_self": null,
            "border": null,
            "bottom": null,
            "display": null,
            "flex": null,
            "flex_flow": null,
            "grid_area": null,
            "grid_auto_columns": null,
            "grid_auto_flow": null,
            "grid_auto_rows": null,
            "grid_column": null,
            "grid_gap": null,
            "grid_row": null,
            "grid_template_areas": null,
            "grid_template_columns": null,
            "grid_template_rows": null,
            "height": null,
            "justify_content": null,
            "justify_items": null,
            "left": null,
            "margin": null,
            "max_height": null,
            "max_width": null,
            "min_height": null,
            "min_width": null,
            "object_fit": null,
            "object_position": null,
            "order": null,
            "overflow": null,
            "overflow_x": null,
            "overflow_y": null,
            "padding": null,
            "right": null,
            "top": null,
            "visibility": null,
            "width": null
          }
        },
        "ffd3b155d4614f79b0f879e09cd037dd": {
          "model_module": "@jupyter-widgets/controls",
          "model_name": "DescriptionStyleModel",
          "model_module_version": "1.5.0",
          "state": {
            "_model_module": "@jupyter-widgets/controls",
            "_model_module_version": "1.5.0",
            "_model_name": "DescriptionStyleModel",
            "_view_count": null,
            "_view_module": "@jupyter-widgets/base",
            "_view_module_version": "1.2.0",
            "_view_name": "StyleView",
            "description_width": ""
          }
        },
        "316cc9120f0d454c9fd3064dc03a5c89": {
          "model_module": "@jupyter-widgets/base",
          "model_name": "LayoutModel",
          "model_module_version": "1.2.0",
          "state": {
            "_model_module": "@jupyter-widgets/base",
            "_model_module_version": "1.2.0",
            "_model_name": "LayoutModel",
            "_view_count": null,
            "_view_module": "@jupyter-widgets/base",
            "_view_module_version": "1.2.0",
            "_view_name": "LayoutView",
            "align_content": null,
            "align_items": null,
            "align_self": null,
            "border": null,
            "bottom": null,
            "display": null,
            "flex": null,
            "flex_flow": null,
            "grid_area": null,
            "grid_auto_columns": null,
            "grid_auto_flow": null,
            "grid_auto_rows": null,
            "grid_column": null,
            "grid_gap": null,
            "grid_row": null,
            "grid_template_areas": null,
            "grid_template_columns": null,
            "grid_template_rows": null,
            "height": null,
            "justify_content": null,
            "justify_items": null,
            "left": null,
            "margin": null,
            "max_height": null,
            "max_width": null,
            "min_height": null,
            "min_width": null,
            "object_fit": null,
            "object_position": null,
            "order": null,
            "overflow": null,
            "overflow_x": null,
            "overflow_y": null,
            "padding": null,
            "right": null,
            "top": null,
            "visibility": null,
            "width": null
          }
        }
      }
    }
  },
  "cells": [
    {
      "cell_type": "code",
      "source": [],
      "metadata": {
        "id": "Oi8OuffSkMmp"
      },
      "execution_count": 9,
      "outputs": []
    },
    {
      "cell_type": "code",
      "source": [
        "from fastai.vision.all import *\n",
        "from fastai.vision.widgets import *\n",
        "def get_x(r): return r['fname']\n",
        "def get_y(r): return r['labels'].split(' ')"
      ],
      "metadata": {
        "id": "jHJhk49WJZUi"
      },
      "execution_count": 2,
      "outputs": []
    },
    {
      "cell_type": "code",
      "source": [
        "\n",
        "learn_inf = load_learner('export.pkl')\n"
      ],
      "metadata": {
        "id": "MWIQXfQZLKQ7",
        "colab": {
          "base_uri": "https://localhost:8080/",
          "height": 311
        },
        "outputId": "7bfaa22a-a7be-4e6b-ac1b-66f1fc1c7d8f"
      },
      "execution_count": 10,
      "outputs": [
        {
          "output_type": "error",
          "ename": "FileNotFoundError",
          "evalue": "ignored",
          "traceback": [
            "\u001b[0;31m---------------------------------------------------------------------------\u001b[0m",
            "\u001b[0;31mFileNotFoundError\u001b[0m                         Traceback (most recent call last)",
            "\u001b[0;32m<ipython-input-10-ee776bb8f4c2>\u001b[0m in \u001b[0;36m<module>\u001b[0;34m\u001b[0m\n\u001b[0;32m----> 1\u001b[0;31m \u001b[0mlearn_inf\u001b[0m \u001b[0;34m=\u001b[0m \u001b[0mload_learner\u001b[0m\u001b[0;34m(\u001b[0m\u001b[0;34m'export.pkl'\u001b[0m\u001b[0;34m)\u001b[0m\u001b[0;34m\u001b[0m\u001b[0;34m\u001b[0m\u001b[0m\n\u001b[0m",
            "\u001b[0;32m/usr/local/lib/python3.7/dist-packages/fastai/learner.py\u001b[0m in \u001b[0;36mload_learner\u001b[0;34m(fname, cpu, pickle_module)\u001b[0m\n\u001b[1;32m    436\u001b[0m     \u001b[0mdistrib_barrier\u001b[0m\u001b[0;34m(\u001b[0m\u001b[0;34m)\u001b[0m\u001b[0;34m\u001b[0m\u001b[0;34m\u001b[0m\u001b[0m\n\u001b[1;32m    437\u001b[0m     \u001b[0mmap_loc\u001b[0m \u001b[0;34m=\u001b[0m \u001b[0;34m'cpu'\u001b[0m \u001b[0;32mif\u001b[0m \u001b[0mcpu\u001b[0m \u001b[0;32melse\u001b[0m \u001b[0mdefault_device\u001b[0m\u001b[0;34m(\u001b[0m\u001b[0;34m)\u001b[0m\u001b[0;34m\u001b[0m\u001b[0;34m\u001b[0m\u001b[0m\n\u001b[0;32m--> 438\u001b[0;31m     \u001b[0;32mtry\u001b[0m\u001b[0;34m:\u001b[0m \u001b[0mres\u001b[0m \u001b[0;34m=\u001b[0m \u001b[0mtorch\u001b[0m\u001b[0;34m.\u001b[0m\u001b[0mload\u001b[0m\u001b[0;34m(\u001b[0m\u001b[0mfname\u001b[0m\u001b[0;34m,\u001b[0m \u001b[0mmap_location\u001b[0m\u001b[0;34m=\u001b[0m\u001b[0mmap_loc\u001b[0m\u001b[0;34m,\u001b[0m \u001b[0mpickle_module\u001b[0m\u001b[0;34m=\u001b[0m\u001b[0mpickle_module\u001b[0m\u001b[0;34m)\u001b[0m\u001b[0;34m\u001b[0m\u001b[0;34m\u001b[0m\u001b[0m\n\u001b[0m\u001b[1;32m    439\u001b[0m     \u001b[0;32mexcept\u001b[0m \u001b[0mAttributeError\u001b[0m \u001b[0;32mas\u001b[0m \u001b[0me\u001b[0m\u001b[0;34m:\u001b[0m\u001b[0;34m\u001b[0m\u001b[0;34m\u001b[0m\u001b[0m\n\u001b[1;32m    440\u001b[0m         \u001b[0me\u001b[0m\u001b[0;34m.\u001b[0m\u001b[0margs\u001b[0m \u001b[0;34m=\u001b[0m \u001b[0;34m[\u001b[0m\u001b[0;34mf\"Custom classes or functions exported with your `Learner` not available in namespace.\\Re-declare/import before loading:\\n\\t{e.args[0]}\"\u001b[0m\u001b[0;34m]\u001b[0m\u001b[0;34m\u001b[0m\u001b[0;34m\u001b[0m\u001b[0m\n",
            "\u001b[0;32m/usr/local/lib/python3.7/dist-packages/torch/serialization.py\u001b[0m in \u001b[0;36mload\u001b[0;34m(f, map_location, pickle_module, **pickle_load_args)\u001b[0m\n\u001b[1;32m    697\u001b[0m         \u001b[0mpickle_load_args\u001b[0m\u001b[0;34m[\u001b[0m\u001b[0;34m'encoding'\u001b[0m\u001b[0;34m]\u001b[0m \u001b[0;34m=\u001b[0m \u001b[0;34m'utf-8'\u001b[0m\u001b[0;34m\u001b[0m\u001b[0;34m\u001b[0m\u001b[0m\n\u001b[1;32m    698\u001b[0m \u001b[0;34m\u001b[0m\u001b[0m\n\u001b[0;32m--> 699\u001b[0;31m     \u001b[0;32mwith\u001b[0m \u001b[0m_open_file_like\u001b[0m\u001b[0;34m(\u001b[0m\u001b[0mf\u001b[0m\u001b[0;34m,\u001b[0m \u001b[0;34m'rb'\u001b[0m\u001b[0;34m)\u001b[0m \u001b[0;32mas\u001b[0m \u001b[0mopened_file\u001b[0m\u001b[0;34m:\u001b[0m\u001b[0;34m\u001b[0m\u001b[0;34m\u001b[0m\u001b[0m\n\u001b[0m\u001b[1;32m    700\u001b[0m         \u001b[0;32mif\u001b[0m \u001b[0m_is_zipfile\u001b[0m\u001b[0;34m(\u001b[0m\u001b[0mopened_file\u001b[0m\u001b[0;34m)\u001b[0m\u001b[0;34m:\u001b[0m\u001b[0;34m\u001b[0m\u001b[0;34m\u001b[0m\u001b[0m\n\u001b[1;32m    701\u001b[0m             \u001b[0;31m# The zipfile reader is going to advance the current file position.\u001b[0m\u001b[0;34m\u001b[0m\u001b[0;34m\u001b[0m\u001b[0;34m\u001b[0m\u001b[0m\n",
            "\u001b[0;32m/usr/local/lib/python3.7/dist-packages/torch/serialization.py\u001b[0m in \u001b[0;36m_open_file_like\u001b[0;34m(name_or_buffer, mode)\u001b[0m\n\u001b[1;32m    228\u001b[0m \u001b[0;32mdef\u001b[0m \u001b[0m_open_file_like\u001b[0m\u001b[0;34m(\u001b[0m\u001b[0mname_or_buffer\u001b[0m\u001b[0;34m,\u001b[0m \u001b[0mmode\u001b[0m\u001b[0;34m)\u001b[0m\u001b[0;34m:\u001b[0m\u001b[0;34m\u001b[0m\u001b[0;34m\u001b[0m\u001b[0m\n\u001b[1;32m    229\u001b[0m     \u001b[0;32mif\u001b[0m \u001b[0m_is_path\u001b[0m\u001b[0;34m(\u001b[0m\u001b[0mname_or_buffer\u001b[0m\u001b[0;34m)\u001b[0m\u001b[0;34m:\u001b[0m\u001b[0;34m\u001b[0m\u001b[0;34m\u001b[0m\u001b[0m\n\u001b[0;32m--> 230\u001b[0;31m         \u001b[0;32mreturn\u001b[0m \u001b[0m_open_file\u001b[0m\u001b[0;34m(\u001b[0m\u001b[0mname_or_buffer\u001b[0m\u001b[0;34m,\u001b[0m \u001b[0mmode\u001b[0m\u001b[0;34m)\u001b[0m\u001b[0;34m\u001b[0m\u001b[0;34m\u001b[0m\u001b[0m\n\u001b[0m\u001b[1;32m    231\u001b[0m     \u001b[0;32melse\u001b[0m\u001b[0;34m:\u001b[0m\u001b[0;34m\u001b[0m\u001b[0;34m\u001b[0m\u001b[0m\n\u001b[1;32m    232\u001b[0m         \u001b[0;32mif\u001b[0m \u001b[0;34m'w'\u001b[0m \u001b[0;32min\u001b[0m \u001b[0mmode\u001b[0m\u001b[0;34m:\u001b[0m\u001b[0;34m\u001b[0m\u001b[0;34m\u001b[0m\u001b[0m\n",
            "\u001b[0;32m/usr/local/lib/python3.7/dist-packages/torch/serialization.py\u001b[0m in \u001b[0;36m__init__\u001b[0;34m(self, name, mode)\u001b[0m\n\u001b[1;32m    209\u001b[0m \u001b[0;32mclass\u001b[0m \u001b[0m_open_file\u001b[0m\u001b[0;34m(\u001b[0m\u001b[0m_opener\u001b[0m\u001b[0;34m)\u001b[0m\u001b[0;34m:\u001b[0m\u001b[0;34m\u001b[0m\u001b[0;34m\u001b[0m\u001b[0m\n\u001b[1;32m    210\u001b[0m     \u001b[0;32mdef\u001b[0m \u001b[0m__init__\u001b[0m\u001b[0;34m(\u001b[0m\u001b[0mself\u001b[0m\u001b[0;34m,\u001b[0m \u001b[0mname\u001b[0m\u001b[0;34m,\u001b[0m \u001b[0mmode\u001b[0m\u001b[0;34m)\u001b[0m\u001b[0;34m:\u001b[0m\u001b[0;34m\u001b[0m\u001b[0;34m\u001b[0m\u001b[0m\n\u001b[0;32m--> 211\u001b[0;31m         \u001b[0msuper\u001b[0m\u001b[0;34m(\u001b[0m\u001b[0m_open_file\u001b[0m\u001b[0;34m,\u001b[0m \u001b[0mself\u001b[0m\u001b[0;34m)\u001b[0m\u001b[0;34m.\u001b[0m\u001b[0m__init__\u001b[0m\u001b[0;34m(\u001b[0m\u001b[0mopen\u001b[0m\u001b[0;34m(\u001b[0m\u001b[0mname\u001b[0m\u001b[0;34m,\u001b[0m \u001b[0mmode\u001b[0m\u001b[0;34m)\u001b[0m\u001b[0;34m)\u001b[0m\u001b[0;34m\u001b[0m\u001b[0;34m\u001b[0m\u001b[0m\n\u001b[0m\u001b[1;32m    212\u001b[0m \u001b[0;34m\u001b[0m\u001b[0m\n\u001b[1;32m    213\u001b[0m     \u001b[0;32mdef\u001b[0m \u001b[0m__exit__\u001b[0m\u001b[0;34m(\u001b[0m\u001b[0mself\u001b[0m\u001b[0;34m,\u001b[0m \u001b[0;34m*\u001b[0m\u001b[0margs\u001b[0m\u001b[0;34m)\u001b[0m\u001b[0;34m:\u001b[0m\u001b[0;34m\u001b[0m\u001b[0;34m\u001b[0m\u001b[0m\n",
            "\u001b[0;31mFileNotFoundError\u001b[0m: [Errno 2] No such file or directory: 'export.pkl'"
          ]
        }
      ]
    },
    {
      "cell_type": "code",
      "source": [
        "btn_upload = widgets.FileUpload()"
      ],
      "metadata": {
        "id": "h9OwONHMMKTE"
      },
      "execution_count": 4,
      "outputs": []
    },
    {
      "cell_type": "code",
      "source": [
        "btn_run = widgets.Button(description='Classify')"
      ],
      "metadata": {
        "id": "qW44mWNAMReC"
      },
      "execution_count": 5,
      "outputs": []
    },
    {
      "cell_type": "code",
      "source": [
        "out_pl = widgets.Output()\n",
        "lbl_pred = widgets.Label()\n",
        "hi = [widgets.Label(), widgets.Label(), widgets.Label()]\n"
      ],
      "metadata": {
        "id": "zbBkGi2YMpxO"
      },
      "execution_count": 6,
      "outputs": []
    },
    {
      "cell_type": "code",
      "source": [
        "def nameProbDisplay(animal, prob):\n",
        "  return f'Prediction: {animal.replace(\"_\", \" \").capitalize()}; Probability: {prob:.4f}'"
      ],
      "metadata": {
        "id": "DKOJYC4rq18F"
      },
      "execution_count": 7,
      "outputs": []
    },
    {
      "cell_type": "code",
      "source": [
        "def on_click_classify(change):\n",
        "    img = PILImage.create(btn_upload.data[-1])\n",
        "    out_pl.clear_output()\n",
        "    with out_pl: display(img.to_thumb(128,128))\n",
        "    pred_class,pred_idx,probabilities = learn_inf.predict(img)\n",
        "    for i in range(len(pred_class)):\n",
        "      hi[i].value = nameProbDisplay(pred_class[i], probabilities[i])\n",
        "\n",
        "btn_run.on_click(on_click_classify)"
      ],
      "metadata": {
        "id": "1XAMEU2dKjJZ"
      },
      "execution_count": 8,
      "outputs": []
    },
    {
      "cell_type": "code",
      "source": [
        "ack = [widgets.Label('Upload a photo of either a sea lion or a seal!'), \n",
        "      btn_upload, btn_run, out_pl] + hi\n",
        "VBox([widgets.Label('Upload a photo of either a sea lion or a seal!'), \n",
        "      btn_upload, btn_run, out_pl] + hi)"
      ],
      "metadata": {
        "colab": {
          "base_uri": "https://localhost:8080/",
          "height": 243,
          "referenced_widgets": [
            "19bc7b4d7e7a42499e5d4b16ccec07a3",
            "35ab1d9c8cf44a9bb72d041a1ed00db2",
            "1fc0b08e4b3a4fd89931efb60b191569",
            "a7b3c1f32b474e12868ed0849df57e2a",
            "f4ab2175a51f41efa5f0d5e89bf2bf97",
            "6fbb11c4226743b9879f1923a9cc8fd3",
            "cb2734afaae14a9399dccc21fa32d702",
            "5b284d2aa938459aafe6bf0d653d5c2b",
            "5822ebf9ac71481b99696557907862bb",
            "8405d2390d1d4abd9c95f7b31412be17",
            "bb662be41d404b7ca8c6c97996dbea47",
            "fa158164928c48b48b676e156988f5a0",
            "6fb29d1e7763416783966cf85de0e9b0",
            "e89d1728e1ed45b88cf74e20b6cbd9ca",
            "f0c12d628e3e4e0e8f8076f985f05ea3",
            "2fb23c1a1d6a481b8744499ee4617f8a",
            "96b1d7e309cc497382f9c8595240663e",
            "e5c93d5b24254381ae1eb633c849d07c",
            "75f129105cf64da997b4d5d522a5500f",
            "d85f0b14e17d407f9c7a3769cd6a23a3",
            "ffd3b155d4614f79b0f879e09cd037dd",
            "316cc9120f0d454c9fd3064dc03a5c89"
          ]
        },
        "id": "Dp0tR3ipMx6M",
        "outputId": "fbe13297-b52f-4f57-cfd9-1c82ec623115"
      },
      "execution_count": 9,
      "outputs": [
        {
          "output_type": "display_data",
          "data": {
            "text/plain": [
              "VBox(children=(Label(value='Upload a photo of either a sea lion or a seal!'), FileUpload(value={}, description…"
            ],
            "application/vnd.jupyter.widget-view+json": {
              "version_major": 2,
              "version_minor": 0,
              "model_id": "19bc7b4d7e7a42499e5d4b16ccec07a3"
            }
          },
          "metadata": {}
        },
        {
          "output_type": "display_data",
          "data": {
            "text/plain": [
              "<IPython.core.display.HTML object>"
            ],
            "text/html": [
              "\n",
              "<style>\n",
              "    /* Turns off some styling */\n",
              "    progress {\n",
              "        /* gets rid of default border in Firefox and Opera. */\n",
              "        border: none;\n",
              "        /* Needs to be in here for Safari polyfill so background images work as expected. */\n",
              "        background-size: auto;\n",
              "    }\n",
              "    progress:not([value]), progress:not([value])::-webkit-progress-bar {\n",
              "        background: repeating-linear-gradient(45deg, #7e7e7e, #7e7e7e 10px, #5c5c5c 10px, #5c5c5c 20px);\n",
              "    }\n",
              "    .progress-bar-interrupted, .progress-bar-interrupted::-webkit-progress-bar {\n",
              "        background: #F44336;\n",
              "    }\n",
              "</style>\n"
            ]
          },
          "metadata": {}
        },
        {
          "output_type": "display_data",
          "data": {
            "text/plain": [
              "<IPython.core.display.HTML object>"
            ],
            "text/html": []
          },
          "metadata": {}
        },
        {
          "output_type": "display_data",
          "data": {
            "text/plain": [
              "<IPython.core.display.HTML object>"
            ],
            "text/html": [
              "\n",
              "<style>\n",
              "    /* Turns off some styling */\n",
              "    progress {\n",
              "        /* gets rid of default border in Firefox and Opera. */\n",
              "        border: none;\n",
              "        /* Needs to be in here for Safari polyfill so background images work as expected. */\n",
              "        background-size: auto;\n",
              "    }\n",
              "    progress:not([value]), progress:not([value])::-webkit-progress-bar {\n",
              "        background: repeating-linear-gradient(45deg, #7e7e7e, #7e7e7e 10px, #5c5c5c 10px, #5c5c5c 20px);\n",
              "    }\n",
              "    .progress-bar-interrupted, .progress-bar-interrupted::-webkit-progress-bar {\n",
              "        background: #F44336;\n",
              "    }\n",
              "</style>\n"
            ]
          },
          "metadata": {}
        },
        {
          "output_type": "display_data",
          "data": {
            "text/plain": [
              "<IPython.core.display.HTML object>"
            ],
            "text/html": []
          },
          "metadata": {}
        },
        {
          "output_type": "display_data",
          "data": {
            "text/plain": [
              "<IPython.core.display.HTML object>"
            ],
            "text/html": [
              "\n",
              "<style>\n",
              "    /* Turns off some styling */\n",
              "    progress {\n",
              "        /* gets rid of default border in Firefox and Opera. */\n",
              "        border: none;\n",
              "        /* Needs to be in here for Safari polyfill so background images work as expected. */\n",
              "        background-size: auto;\n",
              "    }\n",
              "    progress:not([value]), progress:not([value])::-webkit-progress-bar {\n",
              "        background: repeating-linear-gradient(45deg, #7e7e7e, #7e7e7e 10px, #5c5c5c 10px, #5c5c5c 20px);\n",
              "    }\n",
              "    .progress-bar-interrupted, .progress-bar-interrupted::-webkit-progress-bar {\n",
              "        background: #F44336;\n",
              "    }\n",
              "</style>\n"
            ]
          },
          "metadata": {}
        },
        {
          "output_type": "display_data",
          "data": {
            "text/plain": [
              "<IPython.core.display.HTML object>"
            ],
            "text/html": []
          },
          "metadata": {}
        },
        {
          "output_type": "display_data",
          "data": {
            "text/plain": [
              "<IPython.core.display.HTML object>"
            ],
            "text/html": [
              "\n",
              "<style>\n",
              "    /* Turns off some styling */\n",
              "    progress {\n",
              "        /* gets rid of default border in Firefox and Opera. */\n",
              "        border: none;\n",
              "        /* Needs to be in here for Safari polyfill so background images work as expected. */\n",
              "        background-size: auto;\n",
              "    }\n",
              "    progress:not([value]), progress:not([value])::-webkit-progress-bar {\n",
              "        background: repeating-linear-gradient(45deg, #7e7e7e, #7e7e7e 10px, #5c5c5c 10px, #5c5c5c 20px);\n",
              "    }\n",
              "    .progress-bar-interrupted, .progress-bar-interrupted::-webkit-progress-bar {\n",
              "        background: #F44336;\n",
              "    }\n",
              "</style>\n"
            ]
          },
          "metadata": {}
        },
        {
          "output_type": "display_data",
          "data": {
            "text/plain": [
              "<IPython.core.display.HTML object>"
            ],
            "text/html": []
          },
          "metadata": {}
        },
        {
          "output_type": "display_data",
          "data": {
            "text/plain": [
              "<IPython.core.display.HTML object>"
            ],
            "text/html": [
              "\n",
              "<style>\n",
              "    /* Turns off some styling */\n",
              "    progress {\n",
              "        /* gets rid of default border in Firefox and Opera. */\n",
              "        border: none;\n",
              "        /* Needs to be in here for Safari polyfill so background images work as expected. */\n",
              "        background-size: auto;\n",
              "    }\n",
              "    progress:not([value]), progress:not([value])::-webkit-progress-bar {\n",
              "        background: repeating-linear-gradient(45deg, #7e7e7e, #7e7e7e 10px, #5c5c5c 10px, #5c5c5c 20px);\n",
              "    }\n",
              "    .progress-bar-interrupted, .progress-bar-interrupted::-webkit-progress-bar {\n",
              "        background: #F44336;\n",
              "    }\n",
              "</style>\n"
            ]
          },
          "metadata": {}
        },
        {
          "output_type": "display_data",
          "data": {
            "text/plain": [
              "<IPython.core.display.HTML object>"
            ],
            "text/html": []
          },
          "metadata": {}
        },
        {
          "output_type": "display_data",
          "data": {
            "text/plain": [
              "<IPython.core.display.HTML object>"
            ],
            "text/html": [
              "\n",
              "<style>\n",
              "    /* Turns off some styling */\n",
              "    progress {\n",
              "        /* gets rid of default border in Firefox and Opera. */\n",
              "        border: none;\n",
              "        /* Needs to be in here for Safari polyfill so background images work as expected. */\n",
              "        background-size: auto;\n",
              "    }\n",
              "    progress:not([value]), progress:not([value])::-webkit-progress-bar {\n",
              "        background: repeating-linear-gradient(45deg, #7e7e7e, #7e7e7e 10px, #5c5c5c 10px, #5c5c5c 20px);\n",
              "    }\n",
              "    .progress-bar-interrupted, .progress-bar-interrupted::-webkit-progress-bar {\n",
              "        background: #F44336;\n",
              "    }\n",
              "</style>\n"
            ]
          },
          "metadata": {}
        },
        {
          "output_type": "display_data",
          "data": {
            "text/plain": [
              "<IPython.core.display.HTML object>"
            ],
            "text/html": []
          },
          "metadata": {}
        },
        {
          "output_type": "display_data",
          "data": {
            "text/plain": [
              "<IPython.core.display.HTML object>"
            ],
            "text/html": [
              "\n",
              "<style>\n",
              "    /* Turns off some styling */\n",
              "    progress {\n",
              "        /* gets rid of default border in Firefox and Opera. */\n",
              "        border: none;\n",
              "        /* Needs to be in here for Safari polyfill so background images work as expected. */\n",
              "        background-size: auto;\n",
              "    }\n",
              "    progress:not([value]), progress:not([value])::-webkit-progress-bar {\n",
              "        background: repeating-linear-gradient(45deg, #7e7e7e, #7e7e7e 10px, #5c5c5c 10px, #5c5c5c 20px);\n",
              "    }\n",
              "    .progress-bar-interrupted, .progress-bar-interrupted::-webkit-progress-bar {\n",
              "        background: #F44336;\n",
              "    }\n",
              "</style>\n"
            ]
          },
          "metadata": {}
        },
        {
          "output_type": "display_data",
          "data": {
            "text/plain": [
              "<IPython.core.display.HTML object>"
            ],
            "text/html": []
          },
          "metadata": {}
        }
      ]
    }
  ]
}