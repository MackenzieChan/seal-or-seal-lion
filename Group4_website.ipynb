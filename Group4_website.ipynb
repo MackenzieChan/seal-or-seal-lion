{
  "nbformat": 4,
  "nbformat_minor": 0,
  "metadata": {
    "colab": {
      "provenance": [],
      "collapsed_sections": []
    },
    "kernelspec": {
      "name": "python3",
      "display_name": "Python 3"
    },
    "language_info": {
      "name": "python"
    },
    "widgets": {
      "application/vnd.jupyter.widget-state+json": {
        "a88a4f4d61044ff5b8cfaf30b91f41e4": {
          "model_module": "@jupyter-widgets/controls",
          "model_name": "ButtonModel",
          "model_module_version": "1.5.0",
          "state": {
            "_dom_classes": [
              "testclass"
            ],
            "_model_module": "@jupyter-widgets/controls",
            "_model_module_version": "1.5.0",
            "_model_name": "ButtonModel",
            "_view_count": null,
            "_view_module": "@jupyter-widgets/controls",
            "_view_module_version": "1.5.0",
            "_view_name": "ButtonView",
            "button_style": "",
            "description": "Classify",
            "disabled": false,
            "icon": "",
            "layout": "IPY_MODEL_d3afc840b89b4f1091517488ed022fd5",
            "style": "IPY_MODEL_1ae3dc9ecc7e421685f1d2cea0f8157f",
            "tooltip": ""
          }
        },
        "d3afc840b89b4f1091517488ed022fd5": {
          "model_module": "@jupyter-widgets/base",
          "model_name": "LayoutModel",
          "model_module_version": "1.2.0",
          "state": {
            "_model_module": "@jupyter-widgets/base",
            "_model_module_version": "1.2.0",
            "_model_name": "LayoutModel",
            "_view_count": null,
            "_view_module": "@jupyter-widgets/base",
            "_view_module_version": "1.2.0",
            "_view_name": "LayoutView",
            "align_content": null,
            "align_items": null,
            "align_self": null,
            "border": null,
            "bottom": null,
            "display": null,
            "flex": null,
            "flex_flow": null,
            "grid_area": "widget003",
            "grid_auto_columns": null,
            "grid_auto_flow": null,
            "grid_auto_rows": null,
            "grid_column": null,
            "grid_gap": null,
            "grid_row": null,
            "grid_template_areas": null,
            "grid_template_columns": null,
            "grid_template_rows": null,
            "height": "auto",
            "justify_content": null,
            "justify_items": null,
            "left": null,
            "margin": null,
            "max_height": null,
            "max_width": null,
            "min_height": null,
            "min_width": null,
            "object_fit": null,
            "object_position": null,
            "order": null,
            "overflow": null,
            "overflow_x": null,
            "overflow_y": null,
            "padding": null,
            "right": null,
            "top": null,
            "visibility": null,
            "width": "400px"
          }
        },
        "1ae3dc9ecc7e421685f1d2cea0f8157f": {
          "model_module": "@jupyter-widgets/controls",
          "model_name": "ButtonStyleModel",
          "model_module_version": "1.5.0",
          "state": {
            "_model_module": "@jupyter-widgets/controls",
            "_model_module_version": "1.5.0",
            "_model_name": "ButtonStyleModel",
            "_view_count": null,
            "_view_module": "@jupyter-widgets/base",
            "_view_module_version": "1.2.0",
            "_view_name": "StyleView",
            "button_color": null,
            "font_weight": ""
          }
        }
      }
    }
  },
  "cells": [
    {
      "cell_type": "markdown",
      "source": [
        "export file to shared drive, and create widgets(ie buttons so people can upload pitures, classify the image, etc)"
      ],
      "metadata": {
        "id": "edhunRVEPgm4"
      }
    },
    {
      "cell_type": "code",
      "source": [
        "from fastai.vision.all import *\n",
        "from fastai.vision.widgets import *\n",
        "def get_x(r): return r['fname']\n",
        "def get_y(r): return r['labels'].split(' ')\n"
      ],
      "metadata": {
        "id": "ak8VN3A4S1vK"
      },
      "execution_count": null,
      "outputs": []
    },
    {
      "cell_type": "code",
      "source": [
        "import ipywidgets"
      ],
      "metadata": {
        "id": "n10KGnVRJwiu"
      },
      "execution_count": null,
      "outputs": []
    },
    {
      "cell_type": "code",
      "source": [
        "from ipywidgets import AppLayout\n",
        "from ipywidgets import GridspecLayout\n",
        "from IPython.display import HTML, display\n"
      ],
      "metadata": {
        "id": "UWJqo1bwKkxh"
      },
      "execution_count": null,
      "outputs": []
    },
    {
      "cell_type": "code",
      "source": [
        "learn_inf = load_learner('export.pkl')"
      ],
      "metadata": {
        "id": "rm45uqwnHn8j"
      },
      "execution_count": null,
      "outputs": []
    },
    {
      "cell_type": "code",
      "source": [
        "btn_upload = widgets.FileUpload(description='upload a picture of a seal or sea lion!', layout=Layout(width='400px', height='auto'))\n",
        "b1 = widgets.Button(description='Classify', layout=Layout(width='400px',height='auto'))\n",
        "\n",
        "\n",
        "btn_run = b1\n",
        "out_pl = widgets.Output()\n",
        "out_pl.clear_output()\n",
        "lbl_pred = widgets.Label()\n",
        "hi = [widgets.Label(), widgets.Label(), widgets.Label()]\n",
        "\n",
        "def nameProbDisplay(animal, prob):\n",
        "  return f'Prediction: {animal.replace(\"_\", \" \").capitalize()}; Probability: {(prob * 100):.4f}%'\n",
        "\n",
        "def on_click_classify(change):\n",
        "    for i in hi:\n",
        "       i.value = \" \"\n",
        "    img = PILImage.create([f.content.tobytes() for f in btn_upload.value][-1])\n",
        "    out_pl.clear_output()\n",
        "    with out_pl: display(img.to_thumb(128,128))\n",
        "    pred_class,pred_idx,probabilities = learn_inf.predict(img)\n",
        "    for i in range(len(pred_class)):\n",
        "      hi[i].value = nameProbDisplay(pred_class[i], probabilities[i])\n",
        "    if len(pred_class) == 0:\n",
        "      hi[0].value = \"No seal or sea lion detected.\"\n",
        "\n",
        "\n",
        "btn_run.on_click(on_click_classify)\n",
        "\n",
        "def create_expanded_button(description, button_style):\n",
        "    return Button(description=description, button_style=button_style, layout=Layout(height='auto', width='auto'))\n",
        "\n",
        "\n",
        "\n",
        "\n",
        "\n",
        "top_label = widgets.HTML(\n",
        "    value= \"<style> p{text-align: center; color: navy;} .myheader{text-align: right; background-color:lightblue;  margin: 0px 0px 0px 0px;} </style> <div class='myheader'> <p> Seal or Sea Lion? Or is it Aya's dad? </p> </div>\"\n",
        ")\n",
        "\n",
        "display(HTML(\n",
        "     \"<style> .testclass{color: red;} </style>\"\n",
        "))\n"
      ],
      "metadata": {
        "id": "1Wkv2VWRBwFG",
        "colab": {
          "base_uri": "https://localhost:8080/",
          "height": 49,
          "referenced_widgets": [
            "a88a4f4d61044ff5b8cfaf30b91f41e4",
            "d3afc840b89b4f1091517488ed022fd5",
            "1ae3dc9ecc7e421685f1d2cea0f8157f"
          ]
        },
        "outputId": "aaf641dc-ea5e-4465-ce63-8f200b3fcfc8"
      },
      "execution_count": null,
      "outputs": [
        {
          "output_type": "display_data",
          "data": {
            "text/plain": [
              "<IPython.core.display.HTML object>"
            ],
            "text/html": [
              "<style> .testclass{color: red;} </style>"
            ]
          },
          "metadata": {}
        },
        {
          "output_type": "display_data",
          "data": {
            "text/plain": [
              "Button(description='Classify', layout=Layout(height='auto', width='400px'), style=ButtonStyle(), _dom_classes=…"
            ],
            "application/vnd.jupyter.widget-view+json": {
              "version_major": 2,
              "version_minor": 0,
              "model_id": "a88a4f4d61044ff5b8cfaf30b91f41e4"
            }
          },
          "metadata": {}
        }
      ]
    },
    {
      "cell_type": "code",
      "source": [
        "from IPython.core.display import display_html\n",
        "\n",
        "page = GridspecLayout(4, 3, height='auto', width='auto', grid_gap=None)\n",
        "page[1, 0] = btn_upload\n",
        "page[0, :3] = top_label\n",
        "page[2:4, 0] = btn_run\n",
        "page[1:4, 1] = out_pl\n",
        "page[1, 2] = hi[0]\n",
        "page[2, 2] = hi[1]\n",
        "page[3,2] = hi[2]\n",
        "page"
      ],
      "metadata": {
        "id": "X9aJrzTVLJvv"
      },
      "execution_count": null,
      "outputs": []
    }
  ]
}