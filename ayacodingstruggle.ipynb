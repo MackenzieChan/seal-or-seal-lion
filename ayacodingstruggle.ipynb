{
  "nbformat": 4,
  "nbformat_minor": 0,
  "metadata": {
    "colab": {
      "provenance": [],
      "collapsed_sections": []
    },
    "kernelspec": {
      "name": "python3",
      "display_name": "Python 3"
    },
    "language_info": {
      "name": "python"
    },
    "widgets": {
      "application/vnd.jupyter.widget-state+json": {
        "a88a4f4d61044ff5b8cfaf30b91f41e4": {
          "model_module": "@jupyter-widgets/controls",
          "model_name": "ButtonModel",
          "model_module_version": "1.5.0",
          "state": {
            "_dom_classes": [
              "testclass"
            ],
            "_model_module": "@jupyter-widgets/controls",
            "_model_module_version": "1.5.0",
            "_model_name": "ButtonModel",
            "_view_count": null,
            "_view_module": "@jupyter-widgets/controls",
            "_view_module_version": "1.5.0",
            "_view_name": "ButtonView",
            "button_style": "",
            "description": "Classify",
            "disabled": false,
            "icon": "",
            "layout": "IPY_MODEL_d3afc840b89b4f1091517488ed022fd5",
            "style": "IPY_MODEL_1ae3dc9ecc7e421685f1d2cea0f8157f",
            "tooltip": ""
          }
        },
        "d3afc840b89b4f1091517488ed022fd5": {
          "model_module": "@jupyter-widgets/base",
          "model_name": "LayoutModel",
          "model_module_version": "1.2.0",
          "state": {
            "_model_module": "@jupyter-widgets/base",
            "_model_module_version": "1.2.0",
            "_model_name": "LayoutModel",
            "_view_count": null,
            "_view_module": "@jupyter-widgets/base",
            "_view_module_version": "1.2.0",
            "_view_name": "LayoutView",
            "align_content": null,
            "align_items": null,
            "align_self": null,
            "border": null,
            "bottom": null,
            "display": null,
            "flex": null,
            "flex_flow": null,
            "grid_area": "widget003",
            "grid_auto_columns": null,
            "grid_auto_flow": null,
            "grid_auto_rows": null,
            "grid_column": null,
            "grid_gap": null,
            "grid_row": null,
            "grid_template_areas": null,
            "grid_template_columns": null,
            "grid_template_rows": null,
            "height": "auto",
            "justify_content": null,
            "justify_items": null,
            "left": null,
            "margin": null,
            "max_height": null,
            "max_width": null,
            "min_height": null,
            "min_width": null,
            "object_fit": null,
            "object_position": null,
            "order": null,
            "overflow": null,
            "overflow_x": null,
            "overflow_y": null,
            "padding": null,
            "right": null,
            "top": null,
            "visibility": null,
            "width": "400px"
          }
        },
        "1ae3dc9ecc7e421685f1d2cea0f8157f": {
          "model_module": "@jupyter-widgets/controls",
          "model_name": "ButtonStyleModel",
          "model_module_version": "1.5.0",
          "state": {
            "_model_module": "@jupyter-widgets/controls",
            "_model_module_version": "1.5.0",
            "_model_name": "ButtonStyleModel",
            "_view_count": null,
            "_view_module": "@jupyter-widgets/base",
            "_view_module_version": "1.2.0",
            "_view_name": "StyleView",
            "button_color": null,
            "font_weight": ""
          }
        },
        "863eac0292aa4474ac548042af06ca72": {
          "model_module": "@jupyter-widgets/controls",
          "model_name": "GridBoxModel",
          "model_module_version": "1.5.0",
          "state": {
            "_dom_classes": [],
            "_model_module": "@jupyter-widgets/controls",
            "_model_module_version": "1.5.0",
            "_model_name": "GridBoxModel",
            "_view_count": null,
            "_view_module": "@jupyter-widgets/controls",
            "_view_module_version": "1.5.0",
            "_view_name": "GridBoxView",
            "box_style": "",
            "children": [
              "IPY_MODEL_bf9b9e6b7bc445a191dffc6faf5bb0cb",
              "IPY_MODEL_3bdd7fddc92b4e93be89a709848805ab",
              "IPY_MODEL_a88a4f4d61044ff5b8cfaf30b91f41e4",
              "IPY_MODEL_3cdf9a51e4774d328fa07df389d886d8",
              "IPY_MODEL_c7f130656c4f46768c91d8c2f38ee69e"
            ],
            "layout": "IPY_MODEL_d413ac3fd7584fdbbede06fec6dbddfe"
          }
        },
        "bf9b9e6b7bc445a191dffc6faf5bb0cb": {
          "model_module": "@jupyter-widgets/controls",
          "model_name": "FileUploadModel",
          "model_module_version": "1.5.0",
          "state": {
            "_counter": 0,
            "_dom_classes": [],
            "_model_module": "@jupyter-widgets/controls",
            "_model_module_version": "1.5.0",
            "_model_name": "FileUploadModel",
            "_view_count": null,
            "_view_module": "@jupyter-widgets/controls",
            "_view_module_version": "1.5.0",
            "_view_name": "FileUploadView",
            "accept": "",
            "button_style": "",
            "data": [],
            "description": "upload a picture of a seal or sea lion!",
            "description_tooltip": null,
            "disabled": false,
            "error": "",
            "icon": "upload",
            "layout": "IPY_MODEL_f26fbea7ec40495fa0ef0e62e125875a",
            "metadata": [],
            "multiple": false,
            "style": "IPY_MODEL_93d3dac32cd04d55960c16e0eeab9bf3"
          }
        },
        "3bdd7fddc92b4e93be89a709848805ab": {
          "model_module": "@jupyter-widgets/controls",
          "model_name": "HTMLModel",
          "model_module_version": "1.5.0",
          "state": {
            "_dom_classes": [],
            "_model_module": "@jupyter-widgets/controls",
            "_model_module_version": "1.5.0",
            "_model_name": "HTMLModel",
            "_view_count": null,
            "_view_module": "@jupyter-widgets/controls",
            "_view_module_version": "1.5.0",
            "_view_name": "HTMLView",
            "description": "",
            "description_tooltip": null,
            "layout": "IPY_MODEL_acb43e93cc224c928575bdb35919cde8",
            "placeholder": "​",
            "style": "IPY_MODEL_f5667cd1f3e044a9b16cdb64d387cedb",
            "value": "<style> p{text-align: center; color: navy;} .myheader{text-align: right; background-color:lightblue;  margin: 0px 0px 0px 0px;} </style> <div class='myheader'> <p> Page header! </p> </div>"
          }
        },
        "3cdf9a51e4774d328fa07df389d886d8": {
          "model_module": "@jupyter-widgets/output",
          "model_name": "OutputModel",
          "model_module_version": "1.0.0",
          "state": {
            "_dom_classes": [],
            "_model_module": "@jupyter-widgets/output",
            "_model_module_version": "1.0.0",
            "_model_name": "OutputModel",
            "_view_count": null,
            "_view_module": "@jupyter-widgets/output",
            "_view_module_version": "1.0.0",
            "_view_name": "OutputView",
            "layout": "IPY_MODEL_a2c28de2881c476f88bc04919f763bab",
            "msg_id": "",
            "outputs": []
          }
        },
        "c7f130656c4f46768c91d8c2f38ee69e": {
          "model_module": "@jupyter-widgets/controls",
          "model_name": "LabelModel",
          "model_module_version": "1.5.0",
          "state": {
            "_dom_classes": [],
            "_model_module": "@jupyter-widgets/controls",
            "_model_module_version": "1.5.0",
            "_model_name": "LabelModel",
            "_view_count": null,
            "_view_module": "@jupyter-widgets/controls",
            "_view_module_version": "1.5.0",
            "_view_name": "LabelView",
            "description": "",
            "description_tooltip": null,
            "layout": "IPY_MODEL_d6a1fbf950744de1834f4f9fe3b525d6",
            "placeholder": "​",
            "style": "IPY_MODEL_e9f1e94c08f948baba4a77797066d707",
            "value": ""
          }
        },
        "d413ac3fd7584fdbbede06fec6dbddfe": {
          "model_module": "@jupyter-widgets/base",
          "model_name": "LayoutModel",
          "model_module_version": "1.2.0",
          "state": {
            "_model_module": "@jupyter-widgets/base",
            "_model_module_version": "1.2.0",
            "_model_name": "LayoutModel",
            "_view_count": null,
            "_view_module": "@jupyter-widgets/base",
            "_view_module_version": "1.2.0",
            "_view_name": "LayoutView",
            "align_content": null,
            "align_items": null,
            "align_self": null,
            "border": null,
            "bottom": null,
            "display": null,
            "flex": null,
            "flex_flow": null,
            "grid_area": null,
            "grid_auto_columns": null,
            "grid_auto_flow": null,
            "grid_auto_rows": null,
            "grid_column": null,
            "grid_gap": null,
            "grid_row": null,
            "grid_template_areas": "\"widget002 widget002 widget002\"\n\"widget001 widget004 widget005\"\n\"widget003 widget004 widget005\"\n\"widget003 widget004 widget005\"",
            "grid_template_columns": "repeat(3, 1fr)",
            "grid_template_rows": "repeat(4, 1fr)",
            "height": "auto",
            "justify_content": null,
            "justify_items": null,
            "left": null,
            "margin": null,
            "max_height": null,
            "max_width": null,
            "min_height": null,
            "min_width": null,
            "object_fit": null,
            "object_position": null,
            "order": null,
            "overflow": null,
            "overflow_x": null,
            "overflow_y": null,
            "padding": null,
            "right": null,
            "top": null,
            "visibility": null,
            "width": "auto"
          }
        },
        "f26fbea7ec40495fa0ef0e62e125875a": {
          "model_module": "@jupyter-widgets/base",
          "model_name": "LayoutModel",
          "model_module_version": "1.2.0",
          "state": {
            "_model_module": "@jupyter-widgets/base",
            "_model_module_version": "1.2.0",
            "_model_name": "LayoutModel",
            "_view_count": null,
            "_view_module": "@jupyter-widgets/base",
            "_view_module_version": "1.2.0",
            "_view_name": "LayoutView",
            "align_content": null,
            "align_items": null,
            "align_self": null,
            "border": null,
            "bottom": null,
            "display": null,
            "flex": null,
            "flex_flow": null,
            "grid_area": "widget001",
            "grid_auto_columns": null,
            "grid_auto_flow": null,
            "grid_auto_rows": null,
            "grid_column": null,
            "grid_gap": null,
            "grid_row": null,
            "grid_template_areas": null,
            "grid_template_columns": null,
            "grid_template_rows": null,
            "height": "auto",
            "justify_content": null,
            "justify_items": null,
            "left": null,
            "margin": null,
            "max_height": null,
            "max_width": null,
            "min_height": null,
            "min_width": null,
            "object_fit": null,
            "object_position": null,
            "order": null,
            "overflow": null,
            "overflow_x": null,
            "overflow_y": null,
            "padding": null,
            "right": null,
            "top": null,
            "visibility": null,
            "width": "400px"
          }
        },
        "93d3dac32cd04d55960c16e0eeab9bf3": {
          "model_module": "@jupyter-widgets/controls",
          "model_name": "ButtonStyleModel",
          "model_module_version": "1.5.0",
          "state": {
            "_model_module": "@jupyter-widgets/controls",
            "_model_module_version": "1.5.0",
            "_model_name": "ButtonStyleModel",
            "_view_count": null,
            "_view_module": "@jupyter-widgets/base",
            "_view_module_version": "1.2.0",
            "_view_name": "StyleView",
            "button_color": null,
            "font_weight": ""
          }
        },
        "acb43e93cc224c928575bdb35919cde8": {
          "model_module": "@jupyter-widgets/base",
          "model_name": "LayoutModel",
          "model_module_version": "1.2.0",
          "state": {
            "_model_module": "@jupyter-widgets/base",
            "_model_module_version": "1.2.0",
            "_model_name": "LayoutModel",
            "_view_count": null,
            "_view_module": "@jupyter-widgets/base",
            "_view_module_version": "1.2.0",
            "_view_name": "LayoutView",
            "align_content": null,
            "align_items": null,
            "align_self": null,
            "border": null,
            "bottom": null,
            "display": null,
            "flex": null,
            "flex_flow": null,
            "grid_area": "widget002",
            "grid_auto_columns": null,
            "grid_auto_flow": null,
            "grid_auto_rows": null,
            "grid_column": null,
            "grid_gap": null,
            "grid_row": null,
            "grid_template_areas": null,
            "grid_template_columns": null,
            "grid_template_rows": null,
            "height": null,
            "justify_content": null,
            "justify_items": null,
            "left": null,
            "margin": null,
            "max_height": null,
            "max_width": null,
            "min_height": null,
            "min_width": null,
            "object_fit": null,
            "object_position": null,
            "order": null,
            "overflow": null,
            "overflow_x": null,
            "overflow_y": null,
            "padding": null,
            "right": null,
            "top": null,
            "visibility": null,
            "width": null
          }
        },
        "f5667cd1f3e044a9b16cdb64d387cedb": {
          "model_module": "@jupyter-widgets/controls",
          "model_name": "DescriptionStyleModel",
          "model_module_version": "1.5.0",
          "state": {
            "_model_module": "@jupyter-widgets/controls",
            "_model_module_version": "1.5.0",
            "_model_name": "DescriptionStyleModel",
            "_view_count": null,
            "_view_module": "@jupyter-widgets/base",
            "_view_module_version": "1.2.0",
            "_view_name": "StyleView",
            "description_width": ""
          }
        },
        "d6a1fbf950744de1834f4f9fe3b525d6": {
          "model_module": "@jupyter-widgets/base",
          "model_name": "LayoutModel",
          "model_module_version": "1.2.0",
          "state": {
            "_model_module": "@jupyter-widgets/base",
            "_model_module_version": "1.2.0",
            "_model_name": "LayoutModel",
            "_view_count": null,
            "_view_module": "@jupyter-widgets/base",
            "_view_module_version": "1.2.0",
            "_view_name": "LayoutView",
            "align_content": null,
            "align_items": null,
            "align_self": null,
            "border": null,
            "bottom": null,
            "display": null,
            "flex": null,
            "flex_flow": null,
            "grid_area": "widget005",
            "grid_auto_columns": null,
            "grid_auto_flow": null,
            "grid_auto_rows": null,
            "grid_column": null,
            "grid_gap": null,
            "grid_row": null,
            "grid_template_areas": null,
            "grid_template_columns": null,
            "grid_template_rows": null,
            "height": null,
            "justify_content": null,
            "justify_items": null,
            "left": null,
            "margin": null,
            "max_height": null,
            "max_width": null,
            "min_height": null,
            "min_width": null,
            "object_fit": null,
            "object_position": null,
            "order": null,
            "overflow": null,
            "overflow_x": null,
            "overflow_y": null,
            "padding": null,
            "right": null,
            "top": null,
            "visibility": null,
            "width": null
          }
        },
        "e9f1e94c08f948baba4a77797066d707": {
          "model_module": "@jupyter-widgets/controls",
          "model_name": "DescriptionStyleModel",
          "model_module_version": "1.5.0",
          "state": {
            "_model_module": "@jupyter-widgets/controls",
            "_model_module_version": "1.5.0",
            "_model_name": "DescriptionStyleModel",
            "_view_count": null,
            "_view_module": "@jupyter-widgets/base",
            "_view_module_version": "1.2.0",
            "_view_name": "StyleView",
            "description_width": ""
          }
        },
        "a2c28de2881c476f88bc04919f763bab": {
          "model_module": "@jupyter-widgets/base",
          "model_name": "LayoutModel",
          "model_module_version": "1.2.0",
          "state": {
            "_model_module": "@jupyter-widgets/base",
            "_model_module_version": "1.2.0",
            "_model_name": "LayoutModel",
            "_view_count": null,
            "_view_module": "@jupyter-widgets/base",
            "_view_module_version": "1.2.0",
            "_view_name": "LayoutView",
            "align_content": null,
            "align_items": null,
            "align_self": null,
            "border": null,
            "bottom": null,
            "display": null,
            "flex": null,
            "flex_flow": null,
            "grid_area": "widget004",
            "grid_auto_columns": null,
            "grid_auto_flow": null,
            "grid_auto_rows": null,
            "grid_column": null,
            "grid_gap": null,
            "grid_row": null,
            "grid_template_areas": null,
            "grid_template_columns": null,
            "grid_template_rows": null,
            "height": null,
            "justify_content": null,
            "justify_items": null,
            "left": null,
            "margin": null,
            "max_height": null,
            "max_width": null,
            "min_height": null,
            "min_width": null,
            "object_fit": null,
            "object_position": null,
            "order": null,
            "overflow": null,
            "overflow_x": null,
            "overflow_y": null,
            "padding": null,
            "right": null,
            "top": null,
            "visibility": null,
            "width": null
          }
        }
      }
    }
  },
  "cells": [
    {
      "cell_type": "markdown",
      "source": [
        "export file to shared drive, and create widgets(ie buttons so people can upload pitures, classify the image, etc)"
      ],
      "metadata": {
        "id": "edhunRVEPgm4"
      }
    },
    {
      "cell_type": "code",
      "source": [
        "!pip install -Uqq fastbook\n",
        "import fastbook\n",
        "fastbook.setup_book()"
      ],
      "metadata": {
        "colab": {
          "base_uri": "https://localhost:8080/"
        },
        "id": "jYJ_6R6LP7iE",
        "outputId": "0e99bcd6-b708-44ba-94c8-b8fcbead97f1"
      },
      "execution_count": null,
      "outputs": [
        {
          "output_type": "stream",
          "name": "stdout",
          "text": [
            "\u001b[?25l\r\u001b[K     |▌                               | 10 kB 19.0 MB/s eta 0:00:01\r\u001b[K     |█                               | 20 kB 20.0 MB/s eta 0:00:01\r\u001b[K     |█▍                              | 30 kB 25.3 MB/s eta 0:00:01\r\u001b[K     |█▉                              | 40 kB 7.5 MB/s eta 0:00:01\r\u001b[K     |██▎                             | 51 kB 6.1 MB/s eta 0:00:01\r\u001b[K     |██▊                             | 61 kB 7.1 MB/s eta 0:00:01\r\u001b[K     |███▏                            | 71 kB 7.8 MB/s eta 0:00:01\r\u001b[K     |███▋                            | 81 kB 6.3 MB/s eta 0:00:01\r\u001b[K     |████                            | 92 kB 6.9 MB/s eta 0:00:01\r\u001b[K     |████▌                           | 102 kB 7.6 MB/s eta 0:00:01\r\u001b[K     |█████                           | 112 kB 7.6 MB/s eta 0:00:01\r\u001b[K     |█████▌                          | 122 kB 7.6 MB/s eta 0:00:01\r\u001b[K     |██████                          | 133 kB 7.6 MB/s eta 0:00:01\r\u001b[K     |██████▍                         | 143 kB 7.6 MB/s eta 0:00:01\r\u001b[K     |██████▉                         | 153 kB 7.6 MB/s eta 0:00:01\r\u001b[K     |███████▎                        | 163 kB 7.6 MB/s eta 0:00:01\r\u001b[K     |███████▊                        | 174 kB 7.6 MB/s eta 0:00:01\r\u001b[K     |████████▏                       | 184 kB 7.6 MB/s eta 0:00:01\r\u001b[K     |████████▋                       | 194 kB 7.6 MB/s eta 0:00:01\r\u001b[K     |█████████                       | 204 kB 7.6 MB/s eta 0:00:01\r\u001b[K     |█████████▋                      | 215 kB 7.6 MB/s eta 0:00:01\r\u001b[K     |██████████                      | 225 kB 7.6 MB/s eta 0:00:01\r\u001b[K     |██████████▌                     | 235 kB 7.6 MB/s eta 0:00:01\r\u001b[K     |███████████                     | 245 kB 7.6 MB/s eta 0:00:01\r\u001b[K     |███████████▍                    | 256 kB 7.6 MB/s eta 0:00:01\r\u001b[K     |███████████▉                    | 266 kB 7.6 MB/s eta 0:00:01\r\u001b[K     |████████████▎                   | 276 kB 7.6 MB/s eta 0:00:01\r\u001b[K     |████████████▊                   | 286 kB 7.6 MB/s eta 0:00:01\r\u001b[K     |█████████████▏                  | 296 kB 7.6 MB/s eta 0:00:01\r\u001b[K     |█████████████▋                  | 307 kB 7.6 MB/s eta 0:00:01\r\u001b[K     |██████████████▏                 | 317 kB 7.6 MB/s eta 0:00:01\r\u001b[K     |██████████████▋                 | 327 kB 7.6 MB/s eta 0:00:01\r\u001b[K     |███████████████                 | 337 kB 7.6 MB/s eta 0:00:01\r\u001b[K     |███████████████▌                | 348 kB 7.6 MB/s eta 0:00:01\r\u001b[K     |████████████████                | 358 kB 7.6 MB/s eta 0:00:01\r\u001b[K     |████████████████▍               | 368 kB 7.6 MB/s eta 0:00:01\r\u001b[K     |████████████████▉               | 378 kB 7.6 MB/s eta 0:00:01\r\u001b[K     |█████████████████▎              | 389 kB 7.6 MB/s eta 0:00:01\r\u001b[K     |█████████████████▊              | 399 kB 7.6 MB/s eta 0:00:01\r\u001b[K     |██████████████████▏             | 409 kB 7.6 MB/s eta 0:00:01\r\u001b[K     |██████████████████▋             | 419 kB 7.6 MB/s eta 0:00:01\r\u001b[K     |███████████████████▏            | 430 kB 7.6 MB/s eta 0:00:01\r\u001b[K     |███████████████████▋            | 440 kB 7.6 MB/s eta 0:00:01\r\u001b[K     |████████████████████            | 450 kB 7.6 MB/s eta 0:00:01\r\u001b[K     |████████████████████▌           | 460 kB 7.6 MB/s eta 0:00:01\r\u001b[K     |█████████████████████           | 471 kB 7.6 MB/s eta 0:00:01\r\u001b[K     |█████████████████████▍          | 481 kB 7.6 MB/s eta 0:00:01\r\u001b[K     |█████████████████████▉          | 491 kB 7.6 MB/s eta 0:00:01\r\u001b[K     |██████████████████████▎         | 501 kB 7.6 MB/s eta 0:00:01\r\u001b[K     |██████████████████████▊         | 512 kB 7.6 MB/s eta 0:00:01\r\u001b[K     |███████████████████████▏        | 522 kB 7.6 MB/s eta 0:00:01\r\u001b[K     |███████████████████████▊        | 532 kB 7.6 MB/s eta 0:00:01\r\u001b[K     |████████████████████████▏       | 542 kB 7.6 MB/s eta 0:00:01\r\u001b[K     |████████████████████████▋       | 552 kB 7.6 MB/s eta 0:00:01\r\u001b[K     |█████████████████████████       | 563 kB 7.6 MB/s eta 0:00:01\r\u001b[K     |█████████████████████████▌      | 573 kB 7.6 MB/s eta 0:00:01\r\u001b[K     |██████████████████████████      | 583 kB 7.6 MB/s eta 0:00:01\r\u001b[K     |██████████████████████████▍     | 593 kB 7.6 MB/s eta 0:00:01\r\u001b[K     |██████████████████████████▉     | 604 kB 7.6 MB/s eta 0:00:01\r\u001b[K     |███████████████████████████▎    | 614 kB 7.6 MB/s eta 0:00:01\r\u001b[K     |███████████████████████████▊    | 624 kB 7.6 MB/s eta 0:00:01\r\u001b[K     |████████████████████████████▎   | 634 kB 7.6 MB/s eta 0:00:01\r\u001b[K     |████████████████████████████▊   | 645 kB 7.6 MB/s eta 0:00:01\r\u001b[K     |█████████████████████████████▏  | 655 kB 7.6 MB/s eta 0:00:01\r\u001b[K     |█████████████████████████████▋  | 665 kB 7.6 MB/s eta 0:00:01\r\u001b[K     |██████████████████████████████  | 675 kB 7.6 MB/s eta 0:00:01\r\u001b[K     |██████████████████████████████▌ | 686 kB 7.6 MB/s eta 0:00:01\r\u001b[K     |███████████████████████████████ | 696 kB 7.6 MB/s eta 0:00:01\r\u001b[K     |███████████████████████████████▍| 706 kB 7.6 MB/s eta 0:00:01\r\u001b[K     |███████████████████████████████▉| 716 kB 7.6 MB/s eta 0:00:01\r\u001b[K     |████████████████████████████████| 719 kB 7.6 MB/s \n",
            "\u001b[K     |████████████████████████████████| 441 kB 53.2 MB/s \n",
            "\u001b[K     |████████████████████████████████| 5.5 MB 38.8 MB/s \n",
            "\u001b[K     |████████████████████████████████| 1.3 MB 41.7 MB/s \n",
            "\u001b[K     |████████████████████████████████| 1.6 MB 49.1 MB/s \n",
            "\u001b[K     |████████████████████████████████| 95 kB 3.1 MB/s \n",
            "\u001b[K     |████████████████████████████████| 212 kB 51.3 MB/s \n",
            "\u001b[K     |████████████████████████████████| 115 kB 27.5 MB/s \n",
            "\u001b[K     |████████████████████████████████| 163 kB 7.6 MB/s \n",
            "\u001b[K     |████████████████████████████████| 127 kB 45.4 MB/s \n",
            "\u001b[K     |████████████████████████████████| 115 kB 48.1 MB/s \n",
            "\u001b[K     |████████████████████████████████| 7.6 MB 43.0 MB/s \n",
            "\u001b[?25hMounted at /content/gdrive\n"
          ]
        }
      ]
    },
    {
      "cell_type": "code",
      "source": [
        "from fastbook import *"
      ],
      "metadata": {
        "id": "y5IVHus1P-Wm"
      },
      "execution_count": null,
      "outputs": []
    },
    {
      "cell_type": "code",
      "source": [
        "from fastai.vision.all import *\n",
        "from fastai.vision.widgets import *\n",
        "def get_x(r): return r['fname']\n",
        "def get_y(r): return r['labels'].split(' ')\n"
      ],
      "metadata": {
        "id": "ak8VN3A4S1vK"
      },
      "execution_count": null,
      "outputs": []
    },
    {
      "cell_type": "code",
      "source": [
        "import ipywidgets"
      ],
      "metadata": {
        "id": "n10KGnVRJwiu"
      },
      "execution_count": null,
      "outputs": []
    },
    {
      "cell_type": "code",
      "source": [
        "from ipywidgets import AppLayout\n",
        "from ipywidgets import GridspecLayout\n",
        "from IPython.display import HTML, display\n"
      ],
      "metadata": {
        "id": "UWJqo1bwKkxh"
      },
      "execution_count": null,
      "outputs": []
    },
    {
      "cell_type": "code",
      "source": [
        "path = Path('gdrive/Shared drives/mimimimimi')"
      ],
      "metadata": {
        "id": "VjWRxinlGwIV"
      },
      "execution_count": null,
      "outputs": []
    },
    {
      "cell_type": "code",
      "source": [
        "path = Path('gdrive/Shared drives/mimimimimi')\n",
        "learn_inf = load_learner(path/'export.pkl')"
      ],
      "metadata": {
        "id": "rm45uqwnHn8j"
      },
      "execution_count": null,
      "outputs": []
    },
    {
      "cell_type": "code",
      "source": [
        "btn_upload = widgets.FileUpload(description='upload a picture of a seal or sea lion!', layout=Layout(width='400px', height='auto'))\n",
        "b1 = widgets.Button(description='Classify', layout=Layout(width='400px',height='auto'))\n",
        "\n",
        "\n",
        "btn_run = b1\n",
        "out_pl = widgets.Output()\n",
        "out_pl.clear_output()\n",
        "lbl_pred = widgets.Label()\n",
        "hi = [widgets.Label(), widgets.Label(), widgets.Label()]\n",
        "\n",
        "def nameProbDisplay(animal, prob):\n",
        "  return f'Prediction: {animal.replace(\"_\", \" \").capitalize()}; Probability: {(prob * 10):.4f}%'\n",
        "\n",
        "def on_click_classify(change):\n",
        "    for i in hi:\n",
        "       i.value = \" \"\n",
        "    img = PILImage.create(btn_upload.data[-1])\n",
        "    out_pl.clear_output()\n",
        "    with out_pl: display(img.to_thumb(128,128))\n",
        "    pred_class,pred_idx,probabilities = learn_inf.predict(img)\n",
        "    for i in range(len(pred_class)):\n",
        "      hi[i].value = nameProbDisplay(pred_class[i], probabilities[i])\n",
        "    if len(pred_class) == 0:\n",
        "      hi[0].value = \"No seal or sea lion detected.\"\n",
        "\n",
        "\n",
        "btn_run.on_click(on_click_classify)\n",
        "\n",
        "def create_expanded_button(description, button_style):\n",
        "    return Button(description=description, button_style=button_style, layout=Layout(height='auto', width='auto'))\n",
        "\n",
        "\n",
        "\n",
        "\n",
        "\n",
        "top_label = widgets.HTML(\n",
        "    value= \"<style> p{text-align: center; color: navy;} .myheader{text-align: right; background-color:lightblue;  margin: 0px 0px 0px 0px;} </style> <div class='myheader'> <p> Page header! </p> </div>\"\n",
        ")\n",
        "\n",
        "display(HTML(\n",
        "     \"<style> .testclass{color: red;} </style>\"\n",
        "))\n",
        "\n",
        "btn_run.add_class(\"testclass\")\n",
        "\n"
      ],
      "metadata": {
        "id": "1Wkv2VWRBwFG",
        "colab": {
          "base_uri": "https://localhost:8080/",
          "height": 49,
          "referenced_widgets": [
            "a88a4f4d61044ff5b8cfaf30b91f41e4",
            "d3afc840b89b4f1091517488ed022fd5",
            "1ae3dc9ecc7e421685f1d2cea0f8157f"
          ]
        },
        "outputId": "aaf641dc-ea5e-4465-ce63-8f200b3fcfc8"
      },
      "execution_count": 20,
      "outputs": [
        {
          "output_type": "display_data",
          "data": {
            "text/plain": [
              "<IPython.core.display.HTML object>"
            ],
            "text/html": [
              "<style> .testclass{color: red;} </style>"
            ]
          },
          "metadata": {}
        },
        {
          "output_type": "display_data",
          "data": {
            "text/plain": [
              "Button(description='Classify', layout=Layout(height='auto', width='400px'), style=ButtonStyle(), _dom_classes=…"
            ],
            "application/vnd.jupyter.widget-view+json": {
              "version_major": 2,
              "version_minor": 0,
              "model_id": "a88a4f4d61044ff5b8cfaf30b91f41e4"
            }
          },
          "metadata": {}
        }
      ]
    },
    {
      "cell_type": "code",
      "source": [
        "from IPython.core.display import display_html\n",
        "\n",
        "page = GridspecLayout(4, 3, height='auto', width='auto', grid_gap=None)\n",
        "page[1, 0] = btn_upload\n",
        "page[0, :3] = top_label\n",
        "page[2:4, 0] = btn_run\n",
        "page[1:4, 1] = out_pl\n",
        "page[1:4, 2] = lbl_pred\n",
        "page\n"
      ],
      "metadata": {
        "colab": {
          "base_uri": "https://localhost:8080/",
          "height": 193,
          "referenced_widgets": [
            "863eac0292aa4474ac548042af06ca72",
            "bf9b9e6b7bc445a191dffc6faf5bb0cb",
            "3bdd7fddc92b4e93be89a709848805ab",
            "a88a4f4d61044ff5b8cfaf30b91f41e4",
            "3cdf9a51e4774d328fa07df389d886d8",
            "c7f130656c4f46768c91d8c2f38ee69e",
            "d413ac3fd7584fdbbede06fec6dbddfe",
            "f26fbea7ec40495fa0ef0e62e125875a",
            "93d3dac32cd04d55960c16e0eeab9bf3",
            "acb43e93cc224c928575bdb35919cde8",
            "f5667cd1f3e044a9b16cdb64d387cedb",
            "d3afc840b89b4f1091517488ed022fd5",
            "1ae3dc9ecc7e421685f1d2cea0f8157f",
            "d6a1fbf950744de1834f4f9fe3b525d6",
            "e9f1e94c08f948baba4a77797066d707",
            "a2c28de2881c476f88bc04919f763bab"
          ]
        },
        "id": "X9aJrzTVLJvv",
        "outputId": "72e05b10-44e9-4f26-f684-fb7e06dea6b5"
      },
      "execution_count": 21,
      "outputs": [
        {
          "output_type": "display_data",
          "data": {
            "text/plain": [
              "GridspecLayout(children=(FileUpload(value={}, description='upload a picture of a seal or sea lion!', layout=La…"
            ],
            "application/vnd.jupyter.widget-view+json": {
              "version_major": 2,
              "version_minor": 0,
              "model_id": "863eac0292aa4474ac548042af06ca72"
            }
          },
          "metadata": {}
        }
      ]
    }
  ]
}