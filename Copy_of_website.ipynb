{
  "nbformat": 4,
  "nbformat_minor": 0,
  "metadata": {
    "colab": {
      "provenance": [],
      "collapsed_sections": []
    },
    "kernelspec": {
      "name": "python3",
      "display_name": "Python 3"
    },
    "language_info": {
      "name": "python"
    },
    "widgets": {
      "application/vnd.jupyter.widget-state+json": {
        "acae1f8f1cad4e1d8324f39991ddbe4d": {
          "model_module": "@jupyter-widgets/controls",
          "model_name": "VBoxModel",
          "model_module_version": "1.5.0",
          "state": {
            "_dom_classes": [],
            "_model_module": "@jupyter-widgets/controls",
            "_model_module_version": "1.5.0",
            "_model_name": "VBoxModel",
            "_view_count": null,
            "_view_module": "@jupyter-widgets/controls",
            "_view_module_version": "1.5.0",
            "_view_name": "VBoxView",
            "box_style": "",
            "children": [
              "IPY_MODEL_7983dfbe2e034a56ad113853d11a802a",
              "IPY_MODEL_4058e9f0270146d39a21d956dcc60ece",
              "IPY_MODEL_6b07663fc01d43b48899abcf652332c2",
              "IPY_MODEL_c7dc13a32c8d42faa9dbba09ec1f1355",
              "IPY_MODEL_057c2fde953c4a6c846cdf1d6cd20a45",
              "IPY_MODEL_dab8cbf470eb42908460f532eb78040b",
              "IPY_MODEL_58c581bd80a9441fbf8a231f02a2aa2d"
            ],
            "layout": "IPY_MODEL_a9c815d8a0af4c1b97d971b09fb9615b"
          }
        },
        "7983dfbe2e034a56ad113853d11a802a": {
          "model_module": "@jupyter-widgets/controls",
          "model_name": "LabelModel",
          "model_module_version": "1.5.0",
          "state": {
            "_dom_classes": [],
            "_model_module": "@jupyter-widgets/controls",
            "_model_module_version": "1.5.0",
            "_model_name": "LabelModel",
            "_view_count": null,
            "_view_module": "@jupyter-widgets/controls",
            "_view_module_version": "1.5.0",
            "_view_name": "LabelView",
            "description": "",
            "description_tooltip": null,
            "layout": "IPY_MODEL_c72038d42617446a807d12c0f0c9f14f",
            "placeholder": "​",
            "style": "IPY_MODEL_9d9e479d93664966b6b4dc66c688e410",
            "value": "Upload a photo of either a sea lion or a seal!"
          }
        },
        "4058e9f0270146d39a21d956dcc60ece": {
          "model_module": "@jupyter-widgets/controls",
          "model_name": "FileUploadModel",
          "model_module_version": "1.5.0",
          "state": {
            "_counter": 6,
            "_dom_classes": [],
            "_model_module": "@jupyter-widgets/controls",
            "_model_module_version": "1.5.0",
            "_model_name": "FileUploadModel",
            "_view_count": null,
            "_view_module": "@jupyter-widgets/controls",
            "_view_module_version": "1.5.0",
            "_view_name": "FileUploadView",
            "accept": "",
            "button_style": "",
            "data": [
              null
            ],
            "description": "Upload",
            "description_tooltip": null,
            "disabled": false,
            "error": "",
            "icon": "upload",
            "layout": "IPY_MODEL_a59ac084409141b6a3e401cbe7dcf9ed",
            "metadata": [
              {
                "name": "Screenshot 2022-11-03 151025.png",
                "type": "image/png",
                "size": 497952,
                "lastModified": 1667513431543
              }
            ],
            "multiple": false,
            "style": "IPY_MODEL_5a6be96e575a46488d8124802de31ec8"
          }
        },
        "6b07663fc01d43b48899abcf652332c2": {
          "model_module": "@jupyter-widgets/controls",
          "model_name": "ButtonModel",
          "model_module_version": "1.5.0",
          "state": {
            "_dom_classes": [],
            "_model_module": "@jupyter-widgets/controls",
            "_model_module_version": "1.5.0",
            "_model_name": "ButtonModel",
            "_view_count": null,
            "_view_module": "@jupyter-widgets/controls",
            "_view_module_version": "1.5.0",
            "_view_name": "ButtonView",
            "button_style": "",
            "description": "Classify",
            "disabled": false,
            "icon": "",
            "layout": "IPY_MODEL_7e82c09c022848839d2bd42c918743f0",
            "style": "IPY_MODEL_9c2b4f3a3b3d48ba870f43e62ecbb599",
            "tooltip": ""
          }
        },
        "c7dc13a32c8d42faa9dbba09ec1f1355": {
          "model_module": "@jupyter-widgets/output",
          "model_name": "OutputModel",
          "model_module_version": "1.0.0",
          "state": {
            "_dom_classes": [],
            "_model_module": "@jupyter-widgets/output",
            "_model_module_version": "1.0.0",
            "_model_name": "OutputModel",
            "_view_count": null,
            "_view_module": "@jupyter-widgets/output",
            "_view_module_version": "1.0.0",
            "_view_name": "OutputView",
            "layout": "IPY_MODEL_093906445a404305b0dcc3ab82c41c49",
            "msg_id": "",
            "outputs": [
              {
                "output_type": "display_data",
                "data": {
                  "text/plain": "<PIL.Image.Image image mode=RGB size=128x127>",
                  "image/png": "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\n"
                },
                "metadata": {}
              }
            ]
          }
        },
        "057c2fde953c4a6c846cdf1d6cd20a45": {
          "model_module": "@jupyter-widgets/controls",
          "model_name": "LabelModel",
          "model_module_version": "1.5.0",
          "state": {
            "_dom_classes": [],
            "_model_module": "@jupyter-widgets/controls",
            "_model_module_version": "1.5.0",
            "_model_name": "LabelModel",
            "_view_count": null,
            "_view_module": "@jupyter-widgets/controls",
            "_view_module_version": "1.5.0",
            "_view_name": "LabelView",
            "description": "",
            "description_tooltip": null,
            "layout": "IPY_MODEL_f9fbed961dea409dadf8a78ae8e2b910",
            "placeholder": "​",
            "style": "IPY_MODEL_bd7d8a1fd7d94e10a8595eae828685fe",
            "value": "Prediction: California sea lion; Probability: 0.6431"
          }
        },
        "dab8cbf470eb42908460f532eb78040b": {
          "model_module": "@jupyter-widgets/controls",
          "model_name": "LabelModel",
          "model_module_version": "1.5.0",
          "state": {
            "_dom_classes": [],
            "_model_module": "@jupyter-widgets/controls",
            "_model_module_version": "1.5.0",
            "_model_name": "LabelModel",
            "_view_count": null,
            "_view_module": "@jupyter-widgets/controls",
            "_view_module_version": "1.5.0",
            "_view_name": "LabelView",
            "description": "",
            "description_tooltip": null,
            "layout": "IPY_MODEL_65f1614068824b248a8e31a0479dde18",
            "placeholder": "​",
            "style": "IPY_MODEL_34b35c5722aa4ee59b03eff353e4c683",
            "value": "Prediction: Harbor seal; Probability: 0.0020"
          }
        },
        "58c581bd80a9441fbf8a231f02a2aa2d": {
          "model_module": "@jupyter-widgets/controls",
          "model_name": "LabelModel",
          "model_module_version": "1.5.0",
          "state": {
            "_dom_classes": [],
            "_model_module": "@jupyter-widgets/controls",
            "_model_module_version": "1.5.0",
            "_model_name": "LabelModel",
            "_view_count": null,
            "_view_module": "@jupyter-widgets/controls",
            "_view_module_version": "1.5.0",
            "_view_name": "LabelView",
            "description": "",
            "description_tooltip": null,
            "layout": "IPY_MODEL_4f19d8904af64b079799b97cfcda7cca",
            "placeholder": "​",
            "style": "IPY_MODEL_cabe5da6f8b94d6da16fa5c73f8dba2c",
            "value": ""
          }
        },
        "a9c815d8a0af4c1b97d971b09fb9615b": {
          "model_module": "@jupyter-widgets/base",
          "model_name": "LayoutModel",
          "model_module_version": "1.2.0",
          "state": {
            "_model_module": "@jupyter-widgets/base",
            "_model_module_version": "1.2.0",
            "_model_name": "LayoutModel",
            "_view_count": null,
            "_view_module": "@jupyter-widgets/base",
            "_view_module_version": "1.2.0",
            "_view_name": "LayoutView",
            "align_content": null,
            "align_items": null,
            "align_self": null,
            "border": null,
            "bottom": null,
            "display": null,
            "flex": null,
            "flex_flow": null,
            "grid_area": null,
            "grid_auto_columns": null,
            "grid_auto_flow": null,
            "grid_auto_rows": null,
            "grid_column": null,
            "grid_gap": null,
            "grid_row": null,
            "grid_template_areas": null,
            "grid_template_columns": null,
            "grid_template_rows": null,
            "height": null,
            "justify_content": null,
            "justify_items": null,
            "left": null,
            "margin": null,
            "max_height": null,
            "max_width": null,
            "min_height": null,
            "min_width": null,
            "object_fit": null,
            "object_position": null,
            "order": null,
            "overflow": null,
            "overflow_x": null,
            "overflow_y": null,
            "padding": null,
            "right": null,
            "top": null,
            "visibility": null,
            "width": null
          }
        },
        "c72038d42617446a807d12c0f0c9f14f": {
          "model_module": "@jupyter-widgets/base",
          "model_name": "LayoutModel",
          "model_module_version": "1.2.0",
          "state": {
            "_model_module": "@jupyter-widgets/base",
            "_model_module_version": "1.2.0",
            "_model_name": "LayoutModel",
            "_view_count": null,
            "_view_module": "@jupyter-widgets/base",
            "_view_module_version": "1.2.0",
            "_view_name": "LayoutView",
            "align_content": null,
            "align_items": null,
            "align_self": null,
            "border": null,
            "bottom": null,
            "display": null,
            "flex": null,
            "flex_flow": null,
            "grid_area": null,
            "grid_auto_columns": null,
            "grid_auto_flow": null,
            "grid_auto_rows": null,
            "grid_column": null,
            "grid_gap": null,
            "grid_row": null,
            "grid_template_areas": null,
            "grid_template_columns": null,
            "grid_template_rows": null,
            "height": null,
            "justify_content": null,
            "justify_items": null,
            "left": null,
            "margin": null,
            "max_height": null,
            "max_width": null,
            "min_height": null,
            "min_width": null,
            "object_fit": null,
            "object_position": null,
            "order": null,
            "overflow": null,
            "overflow_x": null,
            "overflow_y": null,
            "padding": null,
            "right": null,
            "top": null,
            "visibility": null,
            "width": null
          }
        },
        "9d9e479d93664966b6b4dc66c688e410": {
          "model_module": "@jupyter-widgets/controls",
          "model_name": "DescriptionStyleModel",
          "model_module_version": "1.5.0",
          "state": {
            "_model_module": "@jupyter-widgets/controls",
            "_model_module_version": "1.5.0",
            "_model_name": "DescriptionStyleModel",
            "_view_count": null,
            "_view_module": "@jupyter-widgets/base",
            "_view_module_version": "1.2.0",
            "_view_name": "StyleView",
            "description_width": ""
          }
        },
        "a59ac084409141b6a3e401cbe7dcf9ed": {
          "model_module": "@jupyter-widgets/base",
          "model_name": "LayoutModel",
          "model_module_version": "1.2.0",
          "state": {
            "_model_module": "@jupyter-widgets/base",
            "_model_module_version": "1.2.0",
            "_model_name": "LayoutModel",
            "_view_count": null,
            "_view_module": "@jupyter-widgets/base",
            "_view_module_version": "1.2.0",
            "_view_name": "LayoutView",
            "align_content": null,
            "align_items": null,
            "align_self": null,
            "border": null,
            "bottom": null,
            "display": null,
            "flex": null,
            "flex_flow": null,
            "grid_area": null,
            "grid_auto_columns": null,
            "grid_auto_flow": null,
            "grid_auto_rows": null,
            "grid_column": null,
            "grid_gap": null,
            "grid_row": null,
            "grid_template_areas": null,
            "grid_template_columns": null,
            "grid_template_rows": null,
            "height": null,
            "justify_content": null,
            "justify_items": null,
            "left": null,
            "margin": null,
            "max_height": null,
            "max_width": null,
            "min_height": null,
            "min_width": null,
            "object_fit": null,
            "object_position": null,
            "order": null,
            "overflow": null,
            "overflow_x": null,
            "overflow_y": null,
            "padding": null,
            "right": null,
            "top": null,
            "visibility": null,
            "width": null
          }
        },
        "5a6be96e575a46488d8124802de31ec8": {
          "model_module": "@jupyter-widgets/controls",
          "model_name": "ButtonStyleModel",
          "model_module_version": "1.5.0",
          "state": {
            "_model_module": "@jupyter-widgets/controls",
            "_model_module_version": "1.5.0",
            "_model_name": "ButtonStyleModel",
            "_view_count": null,
            "_view_module": "@jupyter-widgets/base",
            "_view_module_version": "1.2.0",
            "_view_name": "StyleView",
            "button_color": null,
            "font_weight": ""
          }
        },
        "7e82c09c022848839d2bd42c918743f0": {
          "model_module": "@jupyter-widgets/base",
          "model_name": "LayoutModel",
          "model_module_version": "1.2.0",
          "state": {
            "_model_module": "@jupyter-widgets/base",
            "_model_module_version": "1.2.0",
            "_model_name": "LayoutModel",
            "_view_count": null,
            "_view_module": "@jupyter-widgets/base",
            "_view_module_version": "1.2.0",
            "_view_name": "LayoutView",
            "align_content": null,
            "align_items": null,
            "align_self": null,
            "border": null,
            "bottom": null,
            "display": null,
            "flex": null,
            "flex_flow": null,
            "grid_area": null,
            "grid_auto_columns": null,
            "grid_auto_flow": null,
            "grid_auto_rows": null,
            "grid_column": null,
            "grid_gap": null,
            "grid_row": null,
            "grid_template_areas": null,
            "grid_template_columns": null,
            "grid_template_rows": null,
            "height": null,
            "justify_content": null,
            "justify_items": null,
            "left": null,
            "margin": null,
            "max_height": null,
            "max_width": null,
            "min_height": null,
            "min_width": null,
            "object_fit": null,
            "object_position": null,
            "order": null,
            "overflow": null,
            "overflow_x": null,
            "overflow_y": null,
            "padding": null,
            "right": null,
            "top": null,
            "visibility": null,
            "width": null
          }
        },
        "9c2b4f3a3b3d48ba870f43e62ecbb599": {
          "model_module": "@jupyter-widgets/controls",
          "model_name": "ButtonStyleModel",
          "model_module_version": "1.5.0",
          "state": {
            "_model_module": "@jupyter-widgets/controls",
            "_model_module_version": "1.5.0",
            "_model_name": "ButtonStyleModel",
            "_view_count": null,
            "_view_module": "@jupyter-widgets/base",
            "_view_module_version": "1.2.0",
            "_view_name": "StyleView",
            "button_color": null,
            "font_weight": ""
          }
        },
        "f9fbed961dea409dadf8a78ae8e2b910": {
          "model_module": "@jupyter-widgets/base",
          "model_name": "LayoutModel",
          "model_module_version": "1.2.0",
          "state": {
            "_model_module": "@jupyter-widgets/base",
            "_model_module_version": "1.2.0",
            "_model_name": "LayoutModel",
            "_view_count": null,
            "_view_module": "@jupyter-widgets/base",
            "_view_module_version": "1.2.0",
            "_view_name": "LayoutView",
            "align_content": null,
            "align_items": null,
            "align_self": null,
            "border": null,
            "bottom": null,
            "display": null,
            "flex": null,
            "flex_flow": null,
            "grid_area": null,
            "grid_auto_columns": null,
            "grid_auto_flow": null,
            "grid_auto_rows": null,
            "grid_column": null,
            "grid_gap": null,
            "grid_row": null,
            "grid_template_areas": null,
            "grid_template_columns": null,
            "grid_template_rows": null,
            "height": null,
            "justify_content": null,
            "justify_items": null,
            "left": null,
            "margin": null,
            "max_height": null,
            "max_width": null,
            "min_height": null,
            "min_width": null,
            "object_fit": null,
            "object_position": null,
            "order": null,
            "overflow": null,
            "overflow_x": null,
            "overflow_y": null,
            "padding": null,
            "right": null,
            "top": null,
            "visibility": null,
            "width": null
          }
        },
        "bd7d8a1fd7d94e10a8595eae828685fe": {
          "model_module": "@jupyter-widgets/controls",
          "model_name": "DescriptionStyleModel",
          "model_module_version": "1.5.0",
          "state": {
            "_model_module": "@jupyter-widgets/controls",
            "_model_module_version": "1.5.0",
            "_model_name": "DescriptionStyleModel",
            "_view_count": null,
            "_view_module": "@jupyter-widgets/base",
            "_view_module_version": "1.2.0",
            "_view_name": "StyleView",
            "description_width": ""
          }
        },
        "65f1614068824b248a8e31a0479dde18": {
          "model_module": "@jupyter-widgets/base",
          "model_name": "LayoutModel",
          "model_module_version": "1.2.0",
          "state": {
            "_model_module": "@jupyter-widgets/base",
            "_model_module_version": "1.2.0",
            "_model_name": "LayoutModel",
            "_view_count": null,
            "_view_module": "@jupyter-widgets/base",
            "_view_module_version": "1.2.0",
            "_view_name": "LayoutView",
            "align_content": null,
            "align_items": null,
            "align_self": null,
            "border": null,
            "bottom": null,
            "display": null,
            "flex": null,
            "flex_flow": null,
            "grid_area": null,
            "grid_auto_columns": null,
            "grid_auto_flow": null,
            "grid_auto_rows": null,
            "grid_column": null,
            "grid_gap": null,
            "grid_row": null,
            "grid_template_areas": null,
            "grid_template_columns": null,
            "grid_template_rows": null,
            "height": null,
            "justify_content": null,
            "justify_items": null,
            "left": null,
            "margin": null,
            "max_height": null,
            "max_width": null,
            "min_height": null,
            "min_width": null,
            "object_fit": null,
            "object_position": null,
            "order": null,
            "overflow": null,
            "overflow_x": null,
            "overflow_y": null,
            "padding": null,
            "right": null,
            "top": null,
            "visibility": null,
            "width": null
          }
        },
        "34b35c5722aa4ee59b03eff353e4c683": {
          "model_module": "@jupyter-widgets/controls",
          "model_name": "DescriptionStyleModel",
          "model_module_version": "1.5.0",
          "state": {
            "_model_module": "@jupyter-widgets/controls",
            "_model_module_version": "1.5.0",
            "_model_name": "DescriptionStyleModel",
            "_view_count": null,
            "_view_module": "@jupyter-widgets/base",
            "_view_module_version": "1.2.0",
            "_view_name": "StyleView",
            "description_width": ""
          }
        },
        "4f19d8904af64b079799b97cfcda7cca": {
          "model_module": "@jupyter-widgets/base",
          "model_name": "LayoutModel",
          "model_module_version": "1.2.0",
          "state": {
            "_model_module": "@jupyter-widgets/base",
            "_model_module_version": "1.2.0",
            "_model_name": "LayoutModel",
            "_view_count": null,
            "_view_module": "@jupyter-widgets/base",
            "_view_module_version": "1.2.0",
            "_view_name": "LayoutView",
            "align_content": null,
            "align_items": null,
            "align_self": null,
            "border": null,
            "bottom": null,
            "display": null,
            "flex": null,
            "flex_flow": null,
            "grid_area": null,
            "grid_auto_columns": null,
            "grid_auto_flow": null,
            "grid_auto_rows": null,
            "grid_column": null,
            "grid_gap": null,
            "grid_row": null,
            "grid_template_areas": null,
            "grid_template_columns": null,
            "grid_template_rows": null,
            "height": null,
            "justify_content": null,
            "justify_items": null,
            "left": null,
            "margin": null,
            "max_height": null,
            "max_width": null,
            "min_height": null,
            "min_width": null,
            "object_fit": null,
            "object_position": null,
            "order": null,
            "overflow": null,
            "overflow_x": null,
            "overflow_y": null,
            "padding": null,
            "right": null,
            "top": null,
            "visibility": null,
            "width": null
          }
        },
        "cabe5da6f8b94d6da16fa5c73f8dba2c": {
          "model_module": "@jupyter-widgets/controls",
          "model_name": "DescriptionStyleModel",
          "model_module_version": "1.5.0",
          "state": {
            "_model_module": "@jupyter-widgets/controls",
            "_model_module_version": "1.5.0",
            "_model_name": "DescriptionStyleModel",
            "_view_count": null,
            "_view_module": "@jupyter-widgets/base",
            "_view_module_version": "1.2.0",
            "_view_name": "StyleView",
            "description_width": ""
          }
        },
        "093906445a404305b0dcc3ab82c41c49": {
          "model_module": "@jupyter-widgets/base",
          "model_name": "LayoutModel",
          "model_module_version": "1.2.0",
          "state": {
            "_model_module": "@jupyter-widgets/base",
            "_model_module_version": "1.2.0",
            "_model_name": "LayoutModel",
            "_view_count": null,
            "_view_module": "@jupyter-widgets/base",
            "_view_module_version": "1.2.0",
            "_view_name": "LayoutView",
            "align_content": null,
            "align_items": null,
            "align_self": null,
            "border": null,
            "bottom": null,
            "display": null,
            "flex": null,
            "flex_flow": null,
            "grid_area": null,
            "grid_auto_columns": null,
            "grid_auto_flow": null,
            "grid_auto_rows": null,
            "grid_column": null,
            "grid_gap": null,
            "grid_row": null,
            "grid_template_areas": null,
            "grid_template_columns": null,
            "grid_template_rows": null,
            "height": null,
            "justify_content": null,
            "justify_items": null,
            "left": null,
            "margin": null,
            "max_height": null,
            "max_width": null,
            "min_height": null,
            "min_width": null,
            "object_fit": null,
            "object_position": null,
            "order": null,
            "overflow": null,
            "overflow_x": null,
            "overflow_y": null,
            "padding": null,
            "right": null,
            "top": null,
            "visibility": null,
            "width": null
          }
        }
      }
    }
  },
  "cells": [
    {
      "cell_type": "code",
      "source": [],
      "metadata": {
        "id": "Oi8OuffSkMmp"
      },
      "execution_count": 12,
      "outputs": []
    },
    {
      "cell_type": "code",
      "source": [
        "from fastai.vision.all import *\n",
        "from fastai.vision.widgets import *\n",
        "def get_x(r): return r['fname']\n",
        "def get_y(r): return r['labels'].split(' ')"
      ],
      "metadata": {
        "id": "jHJhk49WJZUi"
      },
      "execution_count": 10,
      "outputs": []
    },
    {
      "cell_type": "code",
      "source": [
        "learn_inf = load_learner('export.pkl')\n"
      ],
      "metadata": {
        "id": "MWIQXfQZLKQ7"
      },
      "execution_count": 13,
      "outputs": []
    },
    {
      "cell_type": "code",
      "source": [
        "btn_upload = widgets.FileUpload()"
      ],
      "metadata": {
        "id": "h9OwONHMMKTE"
      },
      "execution_count": 14,
      "outputs": []
    },
    {
      "cell_type": "code",
      "source": [
        "btn_run = widgets.Button(description='Classify')"
      ],
      "metadata": {
        "id": "qW44mWNAMReC"
      },
      "execution_count": 5,
      "outputs": []
    },
    {
      "cell_type": "code",
      "source": [
        "out_pl = widgets.Output()\n",
        "lbl_pred = widgets.Label()\n",
        "hi = [widgets.Label(), widgets.Label(), widgets.Label()]\n"
      ],
      "metadata": {
        "id": "zbBkGi2YMpxO"
      },
      "execution_count": 6,
      "outputs": []
    },
    {
      "cell_type": "code",
      "source": [
        "def nameProbDisplay(animal, prob):\n",
        "  return f'Prediction: {animal.replace(\"_\", \" \").capitalize()}; Probability: {prob:.4f}'"
      ],
      "metadata": {
        "id": "DKOJYC4rq18F"
      },
      "execution_count": 15,
      "outputs": []
    },
    {
      "cell_type": "code",
      "source": [
        "def on_click_classify(change):\n",
        "    img = PILImage.create(btn_upload.data[-1])\n",
        "    out_pl.clear_output()\n",
        "    with out_pl: display(img.to_thumb(128,128))\n",
        "    pred_class,pred_idx,probabilities = learn_inf.predict(img)\n",
        "    for i in range(len(pred_class)):\n",
        "      hi[i].value = nameProbDisplay(pred_class[i], probabilities[i])\n",
        "\n",
        "btn_run.on_click(on_click_classify)"
      ],
      "metadata": {
        "id": "1XAMEU2dKjJZ"
      },
      "execution_count": 25,
      "outputs": []
    },
    {
      "cell_type": "code",
      "source": [
        "ack = [widgets.Label('Upload a photo of either a sea lion or a seal!'), \n",
        "      btn_upload, btn_run, out_pl] + hi\n",
        "VBox([widgets.Label('Upload a photo of either a sea lion or a seal!'), \n",
        "      btn_upload, btn_run, out_pl] + hi)"
      ],
      "metadata": {
        "colab": {
          "base_uri": "https://localhost:8080/",
          "height": 1000,
          "referenced_widgets": [
            "acae1f8f1cad4e1d8324f39991ddbe4d",
            "7983dfbe2e034a56ad113853d11a802a",
            "4058e9f0270146d39a21d956dcc60ece",
            "6b07663fc01d43b48899abcf652332c2",
            "c7dc13a32c8d42faa9dbba09ec1f1355",
            "057c2fde953c4a6c846cdf1d6cd20a45",
            "dab8cbf470eb42908460f532eb78040b",
            "58c581bd80a9441fbf8a231f02a2aa2d",
            "a9c815d8a0af4c1b97d971b09fb9615b",
            "c72038d42617446a807d12c0f0c9f14f",
            "9d9e479d93664966b6b4dc66c688e410",
            "a59ac084409141b6a3e401cbe7dcf9ed",
            "5a6be96e575a46488d8124802de31ec8",
            "7e82c09c022848839d2bd42c918743f0",
            "9c2b4f3a3b3d48ba870f43e62ecbb599",
            "f9fbed961dea409dadf8a78ae8e2b910",
            "bd7d8a1fd7d94e10a8595eae828685fe",
            "65f1614068824b248a8e31a0479dde18",
            "34b35c5722aa4ee59b03eff353e4c683",
            "4f19d8904af64b079799b97cfcda7cca",
            "cabe5da6f8b94d6da16fa5c73f8dba2c",
            "093906445a404305b0dcc3ab82c41c49"
          ]
        },
        "id": "Dp0tR3ipMx6M",
        "outputId": "982a37d3-d908-443d-8bd1-176979163c86"
      },
      "execution_count": 28,
      "outputs": [
        {
          "output_type": "display_data",
          "data": {
            "text/plain": [
              "VBox(children=(Label(value='Upload a photo of either a sea lion or a seal!'), FileUpload(value={'20221031_1758…"
            ],
            "application/vnd.jupyter.widget-view+json": {
              "version_major": 2,
              "version_minor": 0,
              "model_id": "acae1f8f1cad4e1d8324f39991ddbe4d"
            }
          },
          "metadata": {}
        },
        {
          "output_type": "display_data",
          "data": {
            "text/plain": [
              "<IPython.core.display.HTML object>"
            ],
            "text/html": [
              "\n",
              "<style>\n",
              "    /* Turns off some styling */\n",
              "    progress {\n",
              "        /* gets rid of default border in Firefox and Opera. */\n",
              "        border: none;\n",
              "        /* Needs to be in here for Safari polyfill so background images work as expected. */\n",
              "        background-size: auto;\n",
              "    }\n",
              "    progress:not([value]), progress:not([value])::-webkit-progress-bar {\n",
              "        background: repeating-linear-gradient(45deg, #7e7e7e, #7e7e7e 10px, #5c5c5c 10px, #5c5c5c 20px);\n",
              "    }\n",
              "    .progress-bar-interrupted, .progress-bar-interrupted::-webkit-progress-bar {\n",
              "        background: #F44336;\n",
              "    }\n",
              "</style>\n"
            ]
          },
          "metadata": {}
        },
        {
          "output_type": "display_data",
          "data": {
            "text/plain": [
              "<IPython.core.display.HTML object>"
            ],
            "text/html": []
          },
          "metadata": {}
        },
        {
          "output_type": "error",
          "ename": "TypeError",
          "evalue": "ignored",
          "traceback": [
            "\u001b[0;31m---------------------------------------------------------------------------\u001b[0m",
            "\u001b[0;31mTypeError\u001b[0m                                 Traceback (most recent call last)",
            "\u001b[0;32m<ipython-input-16-240bba0fbc5f>\u001b[0m in \u001b[0;36mon_click_classify\u001b[0;34m(change)\u001b[0m\n\u001b[1;32m      5\u001b[0m     \u001b[0mpred_class\u001b[0m\u001b[0;34m,\u001b[0m\u001b[0mpred_idx\u001b[0m\u001b[0;34m,\u001b[0m\u001b[0mprobabilities\u001b[0m \u001b[0;34m=\u001b[0m \u001b[0mlearn_inf\u001b[0m\u001b[0;34m.\u001b[0m\u001b[0mpredict\u001b[0m\u001b[0;34m(\u001b[0m\u001b[0mimg\u001b[0m\u001b[0;34m)\u001b[0m\u001b[0;34m\u001b[0m\u001b[0;34m\u001b[0m\u001b[0m\n\u001b[1;32m      6\u001b[0m     \u001b[0;32mfor\u001b[0m \u001b[0mi\u001b[0m \u001b[0;32min\u001b[0m \u001b[0mhi\u001b[0m\u001b[0;34m:\u001b[0m\u001b[0;34m\u001b[0m\u001b[0;34m\u001b[0m\u001b[0m\n\u001b[0;32m----> 7\u001b[0;31m       \u001b[0mi\u001b[0m\u001b[0;34m.\u001b[0m\u001b[0mvalue\u001b[0m \u001b[0;34m=\u001b[0m \u001b[0mnameProbDisplay\u001b[0m\u001b[0;34m(\u001b[0m\u001b[0mpred_class\u001b[0m\u001b[0;34m[\u001b[0m\u001b[0mi\u001b[0m\u001b[0;34m]\u001b[0m\u001b[0;34m,\u001b[0m \u001b[0mprobabilities\u001b[0m\u001b[0;34m[\u001b[0m\u001b[0mi\u001b[0m\u001b[0;34m]\u001b[0m\u001b[0;34m)\u001b[0m\u001b[0;34m\u001b[0m\u001b[0;34m\u001b[0m\u001b[0m\n\u001b[0m\u001b[1;32m      8\u001b[0m     VBox([widgets.Label('Upload a photo of either a sea lion or a seal!'), \n\u001b[1;32m      9\u001b[0m       btn_upload, btn_run, out_pl] + hi)\n",
            "\u001b[0;32m/usr/local/lib/python3.7/dist-packages/fastcore/foundation.py\u001b[0m in \u001b[0;36m__getitem__\u001b[0;34m(self, idx)\u001b[0m\n\u001b[1;32m    110\u001b[0m     \u001b[0;32mdef\u001b[0m \u001b[0m_xtra\u001b[0m\u001b[0;34m(\u001b[0m\u001b[0mself\u001b[0m\u001b[0;34m)\u001b[0m\u001b[0;34m:\u001b[0m \u001b[0;32mreturn\u001b[0m \u001b[0;32mNone\u001b[0m\u001b[0;34m\u001b[0m\u001b[0;34m\u001b[0m\u001b[0m\n\u001b[1;32m    111\u001b[0m     \u001b[0;32mdef\u001b[0m \u001b[0m_new\u001b[0m\u001b[0;34m(\u001b[0m\u001b[0mself\u001b[0m\u001b[0;34m,\u001b[0m \u001b[0mitems\u001b[0m\u001b[0;34m,\u001b[0m \u001b[0;34m*\u001b[0m\u001b[0margs\u001b[0m\u001b[0;34m,\u001b[0m \u001b[0;34m**\u001b[0m\u001b[0mkwargs\u001b[0m\u001b[0;34m)\u001b[0m\u001b[0;34m:\u001b[0m \u001b[0;32mreturn\u001b[0m \u001b[0mtype\u001b[0m\u001b[0;34m(\u001b[0m\u001b[0mself\u001b[0m\u001b[0;34m)\u001b[0m\u001b[0;34m(\u001b[0m\u001b[0mitems\u001b[0m\u001b[0;34m,\u001b[0m \u001b[0;34m*\u001b[0m\u001b[0margs\u001b[0m\u001b[0;34m,\u001b[0m \u001b[0muse_list\u001b[0m\u001b[0;34m=\u001b[0m\u001b[0;32mNone\u001b[0m\u001b[0;34m,\u001b[0m \u001b[0;34m**\u001b[0m\u001b[0mkwargs\u001b[0m\u001b[0;34m)\u001b[0m\u001b[0;34m\u001b[0m\u001b[0;34m\u001b[0m\u001b[0m\n\u001b[0;32m--> 112\u001b[0;31m     \u001b[0;32mdef\u001b[0m \u001b[0m__getitem__\u001b[0m\u001b[0;34m(\u001b[0m\u001b[0mself\u001b[0m\u001b[0;34m,\u001b[0m \u001b[0midx\u001b[0m\u001b[0;34m)\u001b[0m\u001b[0;34m:\u001b[0m \u001b[0;32mreturn\u001b[0m \u001b[0mself\u001b[0m\u001b[0;34m.\u001b[0m\u001b[0m_get\u001b[0m\u001b[0;34m(\u001b[0m\u001b[0midx\u001b[0m\u001b[0;34m)\u001b[0m \u001b[0;32mif\u001b[0m \u001b[0mis_indexer\u001b[0m\u001b[0;34m(\u001b[0m\u001b[0midx\u001b[0m\u001b[0;34m)\u001b[0m \u001b[0;32melse\u001b[0m \u001b[0mL\u001b[0m\u001b[0;34m(\u001b[0m\u001b[0mself\u001b[0m\u001b[0;34m.\u001b[0m\u001b[0m_get\u001b[0m\u001b[0;34m(\u001b[0m\u001b[0midx\u001b[0m\u001b[0;34m)\u001b[0m\u001b[0;34m,\u001b[0m \u001b[0muse_list\u001b[0m\u001b[0;34m=\u001b[0m\u001b[0;32mNone\u001b[0m\u001b[0;34m)\u001b[0m\u001b[0;34m\u001b[0m\u001b[0;34m\u001b[0m\u001b[0m\n\u001b[0m\u001b[1;32m    113\u001b[0m     \u001b[0;32mdef\u001b[0m \u001b[0mcopy\u001b[0m\u001b[0;34m(\u001b[0m\u001b[0mself\u001b[0m\u001b[0;34m)\u001b[0m\u001b[0;34m:\u001b[0m \u001b[0;32mreturn\u001b[0m \u001b[0mself\u001b[0m\u001b[0;34m.\u001b[0m\u001b[0m_new\u001b[0m\u001b[0;34m(\u001b[0m\u001b[0mself\u001b[0m\u001b[0;34m.\u001b[0m\u001b[0mitems\u001b[0m\u001b[0;34m.\u001b[0m\u001b[0mcopy\u001b[0m\u001b[0;34m(\u001b[0m\u001b[0;34m)\u001b[0m\u001b[0;34m)\u001b[0m\u001b[0;34m\u001b[0m\u001b[0;34m\u001b[0m\u001b[0m\n\u001b[1;32m    114\u001b[0m \u001b[0;34m\u001b[0m\u001b[0m\n",
            "\u001b[0;32m/usr/local/lib/python3.7/dist-packages/fastcore/foundation.py\u001b[0m in \u001b[0;36m_get\u001b[0;34m(self, i)\u001b[0m\n\u001b[1;32m    115\u001b[0m     \u001b[0;32mdef\u001b[0m \u001b[0m_get\u001b[0m\u001b[0;34m(\u001b[0m\u001b[0mself\u001b[0m\u001b[0;34m,\u001b[0m \u001b[0mi\u001b[0m\u001b[0;34m)\u001b[0m\u001b[0;34m:\u001b[0m\u001b[0;34m\u001b[0m\u001b[0;34m\u001b[0m\u001b[0m\n\u001b[1;32m    116\u001b[0m         \u001b[0;32mif\u001b[0m \u001b[0mis_indexer\u001b[0m\u001b[0;34m(\u001b[0m\u001b[0mi\u001b[0m\u001b[0;34m)\u001b[0m \u001b[0;32mor\u001b[0m \u001b[0misinstance\u001b[0m\u001b[0;34m(\u001b[0m\u001b[0mi\u001b[0m\u001b[0;34m,\u001b[0m\u001b[0mslice\u001b[0m\u001b[0;34m)\u001b[0m\u001b[0;34m:\u001b[0m \u001b[0;32mreturn\u001b[0m \u001b[0mgetattr\u001b[0m\u001b[0;34m(\u001b[0m\u001b[0mself\u001b[0m\u001b[0;34m.\u001b[0m\u001b[0mitems\u001b[0m\u001b[0;34m,\u001b[0m\u001b[0;34m'iloc'\u001b[0m\u001b[0;34m,\u001b[0m\u001b[0mself\u001b[0m\u001b[0;34m.\u001b[0m\u001b[0mitems\u001b[0m\u001b[0;34m)\u001b[0m\u001b[0;34m[\u001b[0m\u001b[0mi\u001b[0m\u001b[0;34m]\u001b[0m\u001b[0;34m\u001b[0m\u001b[0;34m\u001b[0m\u001b[0m\n\u001b[0;32m--> 117\u001b[0;31m         \u001b[0mi\u001b[0m \u001b[0;34m=\u001b[0m \u001b[0mmask2idxs\u001b[0m\u001b[0;34m(\u001b[0m\u001b[0mi\u001b[0m\u001b[0;34m)\u001b[0m\u001b[0;34m\u001b[0m\u001b[0;34m\u001b[0m\u001b[0m\n\u001b[0m\u001b[1;32m    118\u001b[0m         return (self.items.iloc[list(i)] if hasattr(self.items,'iloc')\n\u001b[1;32m    119\u001b[0m                 \u001b[0;32melse\u001b[0m \u001b[0mself\u001b[0m\u001b[0;34m.\u001b[0m\u001b[0mitems\u001b[0m\u001b[0;34m.\u001b[0m\u001b[0m__array__\u001b[0m\u001b[0;34m(\u001b[0m\u001b[0;34m)\u001b[0m\u001b[0;34m[\u001b[0m\u001b[0;34m(\u001b[0m\u001b[0mi\u001b[0m\u001b[0;34m,\u001b[0m\u001b[0;34m)\u001b[0m\u001b[0;34m]\u001b[0m \u001b[0;32mif\u001b[0m \u001b[0mhasattr\u001b[0m\u001b[0;34m(\u001b[0m\u001b[0mself\u001b[0m\u001b[0;34m.\u001b[0m\u001b[0mitems\u001b[0m\u001b[0;34m,\u001b[0m\u001b[0;34m'__array__'\u001b[0m\u001b[0;34m)\u001b[0m\u001b[0;34m\u001b[0m\u001b[0;34m\u001b[0m\u001b[0m\n",
            "\u001b[0;32m/usr/local/lib/python3.7/dist-packages/fastcore/foundation.py\u001b[0m in \u001b[0;36mmask2idxs\u001b[0;34m(mask)\u001b[0m\n\u001b[1;32m     58\u001b[0m     \u001b[0;34m\"Convert bool mask or index list to index `L`\"\u001b[0m\u001b[0;34m\u001b[0m\u001b[0;34m\u001b[0m\u001b[0m\n\u001b[1;32m     59\u001b[0m     \u001b[0;32mif\u001b[0m \u001b[0misinstance\u001b[0m\u001b[0;34m(\u001b[0m\u001b[0mmask\u001b[0m\u001b[0;34m,\u001b[0m\u001b[0mslice\u001b[0m\u001b[0;34m)\u001b[0m\u001b[0;34m:\u001b[0m \u001b[0;32mreturn\u001b[0m \u001b[0mmask\u001b[0m\u001b[0;34m\u001b[0m\u001b[0;34m\u001b[0m\u001b[0m\n\u001b[0;32m---> 60\u001b[0;31m     \u001b[0mmask\u001b[0m \u001b[0;34m=\u001b[0m \u001b[0mlist\u001b[0m\u001b[0;34m(\u001b[0m\u001b[0mmask\u001b[0m\u001b[0;34m)\u001b[0m\u001b[0;34m\u001b[0m\u001b[0;34m\u001b[0m\u001b[0m\n\u001b[0m\u001b[1;32m     61\u001b[0m     \u001b[0;32mif\u001b[0m \u001b[0mlen\u001b[0m\u001b[0;34m(\u001b[0m\u001b[0mmask\u001b[0m\u001b[0;34m)\u001b[0m\u001b[0;34m==\u001b[0m\u001b[0;36m0\u001b[0m\u001b[0;34m:\u001b[0m \u001b[0;32mreturn\u001b[0m \u001b[0;34m[\u001b[0m\u001b[0;34m]\u001b[0m\u001b[0;34m\u001b[0m\u001b[0;34m\u001b[0m\u001b[0m\n\u001b[1;32m     62\u001b[0m     \u001b[0mit\u001b[0m \u001b[0;34m=\u001b[0m \u001b[0mmask\u001b[0m\u001b[0;34m[\u001b[0m\u001b[0;36m0\u001b[0m\u001b[0;34m]\u001b[0m\u001b[0;34m\u001b[0m\u001b[0;34m\u001b[0m\u001b[0m\n",
            "\u001b[0;31mTypeError\u001b[0m: 'Label' object is not iterable"
          ]
        },
        {
          "output_type": "display_data",
          "data": {
            "text/plain": [
              "<IPython.core.display.HTML object>"
            ],
            "text/html": [
              "\n",
              "<style>\n",
              "    /* Turns off some styling */\n",
              "    progress {\n",
              "        /* gets rid of default border in Firefox and Opera. */\n",
              "        border: none;\n",
              "        /* Needs to be in here for Safari polyfill so background images work as expected. */\n",
              "        background-size: auto;\n",
              "    }\n",
              "    progress:not([value]), progress:not([value])::-webkit-progress-bar {\n",
              "        background: repeating-linear-gradient(45deg, #7e7e7e, #7e7e7e 10px, #5c5c5c 10px, #5c5c5c 20px);\n",
              "    }\n",
              "    .progress-bar-interrupted, .progress-bar-interrupted::-webkit-progress-bar {\n",
              "        background: #F44336;\n",
              "    }\n",
              "</style>\n"
            ]
          },
          "metadata": {}
        },
        {
          "output_type": "display_data",
          "data": {
            "text/plain": [
              "<IPython.core.display.HTML object>"
            ],
            "text/html": []
          },
          "metadata": {}
        },
        {
          "output_type": "error",
          "ename": "TypeError",
          "evalue": "ignored",
          "traceback": [
            "\u001b[0;31m---------------------------------------------------------------------------\u001b[0m",
            "\u001b[0;31mTypeError\u001b[0m                                 Traceback (most recent call last)",
            "\u001b[0;32m<ipython-input-18-f8a1fd42c29a>\u001b[0m in \u001b[0;36mon_click_classify\u001b[0;34m(change)\u001b[0m\n\u001b[1;32m      5\u001b[0m     \u001b[0mpred_class\u001b[0m\u001b[0;34m,\u001b[0m\u001b[0mpred_idx\u001b[0m\u001b[0;34m,\u001b[0m\u001b[0mprobabilities\u001b[0m \u001b[0;34m=\u001b[0m \u001b[0mlearn_inf\u001b[0m\u001b[0;34m.\u001b[0m\u001b[0mpredict\u001b[0m\u001b[0;34m(\u001b[0m\u001b[0mimg\u001b[0m\u001b[0;34m)\u001b[0m\u001b[0;34m\u001b[0m\u001b[0;34m\u001b[0m\u001b[0m\n\u001b[1;32m      6\u001b[0m     \u001b[0;32mfor\u001b[0m \u001b[0mi\u001b[0m \u001b[0;32min\u001b[0m \u001b[0mhi\u001b[0m\u001b[0;34m:\u001b[0m\u001b[0;34m\u001b[0m\u001b[0;34m\u001b[0m\u001b[0m\n\u001b[0;32m----> 7\u001b[0;31m       \u001b[0mi\u001b[0m\u001b[0;34m.\u001b[0m\u001b[0mvalue\u001b[0m \u001b[0;34m=\u001b[0m \u001b[0mnameProbDisplay\u001b[0m\u001b[0;34m(\u001b[0m\u001b[0mpred_class\u001b[0m\u001b[0;34m[\u001b[0m\u001b[0mi\u001b[0m\u001b[0;34m]\u001b[0m\u001b[0;34m,\u001b[0m \u001b[0mprobabilities\u001b[0m\u001b[0;34m[\u001b[0m\u001b[0mi\u001b[0m\u001b[0;34m]\u001b[0m\u001b[0;34m)\u001b[0m\u001b[0;34m\u001b[0m\u001b[0;34m\u001b[0m\u001b[0m\n\u001b[0m\u001b[1;32m      8\u001b[0m \u001b[0;34m\u001b[0m\u001b[0m\n\u001b[1;32m      9\u001b[0m \u001b[0mbtn_run\u001b[0m\u001b[0;34m.\u001b[0m\u001b[0mon_click\u001b[0m\u001b[0;34m(\u001b[0m\u001b[0mon_click_classify\u001b[0m\u001b[0;34m)\u001b[0m\u001b[0;34m\u001b[0m\u001b[0;34m\u001b[0m\u001b[0m\n",
            "\u001b[0;32m/usr/local/lib/python3.7/dist-packages/fastcore/foundation.py\u001b[0m in \u001b[0;36m__getitem__\u001b[0;34m(self, idx)\u001b[0m\n\u001b[1;32m    110\u001b[0m     \u001b[0;32mdef\u001b[0m \u001b[0m_xtra\u001b[0m\u001b[0;34m(\u001b[0m\u001b[0mself\u001b[0m\u001b[0;34m)\u001b[0m\u001b[0;34m:\u001b[0m \u001b[0;32mreturn\u001b[0m \u001b[0;32mNone\u001b[0m\u001b[0;34m\u001b[0m\u001b[0;34m\u001b[0m\u001b[0m\n\u001b[1;32m    111\u001b[0m     \u001b[0;32mdef\u001b[0m \u001b[0m_new\u001b[0m\u001b[0;34m(\u001b[0m\u001b[0mself\u001b[0m\u001b[0;34m,\u001b[0m \u001b[0mitems\u001b[0m\u001b[0;34m,\u001b[0m \u001b[0;34m*\u001b[0m\u001b[0margs\u001b[0m\u001b[0;34m,\u001b[0m \u001b[0;34m**\u001b[0m\u001b[0mkwargs\u001b[0m\u001b[0;34m)\u001b[0m\u001b[0;34m:\u001b[0m \u001b[0;32mreturn\u001b[0m \u001b[0mtype\u001b[0m\u001b[0;34m(\u001b[0m\u001b[0mself\u001b[0m\u001b[0;34m)\u001b[0m\u001b[0;34m(\u001b[0m\u001b[0mitems\u001b[0m\u001b[0;34m,\u001b[0m \u001b[0;34m*\u001b[0m\u001b[0margs\u001b[0m\u001b[0;34m,\u001b[0m \u001b[0muse_list\u001b[0m\u001b[0;34m=\u001b[0m\u001b[0;32mNone\u001b[0m\u001b[0;34m,\u001b[0m \u001b[0;34m**\u001b[0m\u001b[0mkwargs\u001b[0m\u001b[0;34m)\u001b[0m\u001b[0;34m\u001b[0m\u001b[0;34m\u001b[0m\u001b[0m\n\u001b[0;32m--> 112\u001b[0;31m     \u001b[0;32mdef\u001b[0m \u001b[0m__getitem__\u001b[0m\u001b[0;34m(\u001b[0m\u001b[0mself\u001b[0m\u001b[0;34m,\u001b[0m \u001b[0midx\u001b[0m\u001b[0;34m)\u001b[0m\u001b[0;34m:\u001b[0m \u001b[0;32mreturn\u001b[0m \u001b[0mself\u001b[0m\u001b[0;34m.\u001b[0m\u001b[0m_get\u001b[0m\u001b[0;34m(\u001b[0m\u001b[0midx\u001b[0m\u001b[0;34m)\u001b[0m \u001b[0;32mif\u001b[0m \u001b[0mis_indexer\u001b[0m\u001b[0;34m(\u001b[0m\u001b[0midx\u001b[0m\u001b[0;34m)\u001b[0m \u001b[0;32melse\u001b[0m \u001b[0mL\u001b[0m\u001b[0;34m(\u001b[0m\u001b[0mself\u001b[0m\u001b[0;34m.\u001b[0m\u001b[0m_get\u001b[0m\u001b[0;34m(\u001b[0m\u001b[0midx\u001b[0m\u001b[0;34m)\u001b[0m\u001b[0;34m,\u001b[0m \u001b[0muse_list\u001b[0m\u001b[0;34m=\u001b[0m\u001b[0;32mNone\u001b[0m\u001b[0;34m)\u001b[0m\u001b[0;34m\u001b[0m\u001b[0;34m\u001b[0m\u001b[0m\n\u001b[0m\u001b[1;32m    113\u001b[0m     \u001b[0;32mdef\u001b[0m \u001b[0mcopy\u001b[0m\u001b[0;34m(\u001b[0m\u001b[0mself\u001b[0m\u001b[0;34m)\u001b[0m\u001b[0;34m:\u001b[0m \u001b[0;32mreturn\u001b[0m \u001b[0mself\u001b[0m\u001b[0;34m.\u001b[0m\u001b[0m_new\u001b[0m\u001b[0;34m(\u001b[0m\u001b[0mself\u001b[0m\u001b[0;34m.\u001b[0m\u001b[0mitems\u001b[0m\u001b[0;34m.\u001b[0m\u001b[0mcopy\u001b[0m\u001b[0;34m(\u001b[0m\u001b[0;34m)\u001b[0m\u001b[0;34m)\u001b[0m\u001b[0;34m\u001b[0m\u001b[0;34m\u001b[0m\u001b[0m\n\u001b[1;32m    114\u001b[0m \u001b[0;34m\u001b[0m\u001b[0m\n",
            "\u001b[0;32m/usr/local/lib/python3.7/dist-packages/fastcore/foundation.py\u001b[0m in \u001b[0;36m_get\u001b[0;34m(self, i)\u001b[0m\n\u001b[1;32m    115\u001b[0m     \u001b[0;32mdef\u001b[0m \u001b[0m_get\u001b[0m\u001b[0;34m(\u001b[0m\u001b[0mself\u001b[0m\u001b[0;34m,\u001b[0m \u001b[0mi\u001b[0m\u001b[0;34m)\u001b[0m\u001b[0;34m:\u001b[0m\u001b[0;34m\u001b[0m\u001b[0;34m\u001b[0m\u001b[0m\n\u001b[1;32m    116\u001b[0m         \u001b[0;32mif\u001b[0m \u001b[0mis_indexer\u001b[0m\u001b[0;34m(\u001b[0m\u001b[0mi\u001b[0m\u001b[0;34m)\u001b[0m \u001b[0;32mor\u001b[0m \u001b[0misinstance\u001b[0m\u001b[0;34m(\u001b[0m\u001b[0mi\u001b[0m\u001b[0;34m,\u001b[0m\u001b[0mslice\u001b[0m\u001b[0;34m)\u001b[0m\u001b[0;34m:\u001b[0m \u001b[0;32mreturn\u001b[0m \u001b[0mgetattr\u001b[0m\u001b[0;34m(\u001b[0m\u001b[0mself\u001b[0m\u001b[0;34m.\u001b[0m\u001b[0mitems\u001b[0m\u001b[0;34m,\u001b[0m\u001b[0;34m'iloc'\u001b[0m\u001b[0;34m,\u001b[0m\u001b[0mself\u001b[0m\u001b[0;34m.\u001b[0m\u001b[0mitems\u001b[0m\u001b[0;34m)\u001b[0m\u001b[0;34m[\u001b[0m\u001b[0mi\u001b[0m\u001b[0;34m]\u001b[0m\u001b[0;34m\u001b[0m\u001b[0;34m\u001b[0m\u001b[0m\n\u001b[0;32m--> 117\u001b[0;31m         \u001b[0mi\u001b[0m \u001b[0;34m=\u001b[0m \u001b[0mmask2idxs\u001b[0m\u001b[0;34m(\u001b[0m\u001b[0mi\u001b[0m\u001b[0;34m)\u001b[0m\u001b[0;34m\u001b[0m\u001b[0;34m\u001b[0m\u001b[0m\n\u001b[0m\u001b[1;32m    118\u001b[0m         return (self.items.iloc[list(i)] if hasattr(self.items,'iloc')\n\u001b[1;32m    119\u001b[0m                 \u001b[0;32melse\u001b[0m \u001b[0mself\u001b[0m\u001b[0;34m.\u001b[0m\u001b[0mitems\u001b[0m\u001b[0;34m.\u001b[0m\u001b[0m__array__\u001b[0m\u001b[0;34m(\u001b[0m\u001b[0;34m)\u001b[0m\u001b[0;34m[\u001b[0m\u001b[0;34m(\u001b[0m\u001b[0mi\u001b[0m\u001b[0;34m,\u001b[0m\u001b[0;34m)\u001b[0m\u001b[0;34m]\u001b[0m \u001b[0;32mif\u001b[0m \u001b[0mhasattr\u001b[0m\u001b[0;34m(\u001b[0m\u001b[0mself\u001b[0m\u001b[0;34m.\u001b[0m\u001b[0mitems\u001b[0m\u001b[0;34m,\u001b[0m\u001b[0;34m'__array__'\u001b[0m\u001b[0;34m)\u001b[0m\u001b[0;34m\u001b[0m\u001b[0;34m\u001b[0m\u001b[0m\n",
            "\u001b[0;32m/usr/local/lib/python3.7/dist-packages/fastcore/foundation.py\u001b[0m in \u001b[0;36mmask2idxs\u001b[0;34m(mask)\u001b[0m\n\u001b[1;32m     58\u001b[0m     \u001b[0;34m\"Convert bool mask or index list to index `L`\"\u001b[0m\u001b[0;34m\u001b[0m\u001b[0;34m\u001b[0m\u001b[0m\n\u001b[1;32m     59\u001b[0m     \u001b[0;32mif\u001b[0m \u001b[0misinstance\u001b[0m\u001b[0;34m(\u001b[0m\u001b[0mmask\u001b[0m\u001b[0;34m,\u001b[0m\u001b[0mslice\u001b[0m\u001b[0;34m)\u001b[0m\u001b[0;34m:\u001b[0m \u001b[0;32mreturn\u001b[0m \u001b[0mmask\u001b[0m\u001b[0;34m\u001b[0m\u001b[0;34m\u001b[0m\u001b[0m\n\u001b[0;32m---> 60\u001b[0;31m     \u001b[0mmask\u001b[0m \u001b[0;34m=\u001b[0m \u001b[0mlist\u001b[0m\u001b[0;34m(\u001b[0m\u001b[0mmask\u001b[0m\u001b[0;34m)\u001b[0m\u001b[0;34m\u001b[0m\u001b[0;34m\u001b[0m\u001b[0m\n\u001b[0m\u001b[1;32m     61\u001b[0m     \u001b[0;32mif\u001b[0m \u001b[0mlen\u001b[0m\u001b[0;34m(\u001b[0m\u001b[0mmask\u001b[0m\u001b[0;34m)\u001b[0m\u001b[0;34m==\u001b[0m\u001b[0;36m0\u001b[0m\u001b[0;34m:\u001b[0m \u001b[0;32mreturn\u001b[0m \u001b[0;34m[\u001b[0m\u001b[0;34m]\u001b[0m\u001b[0;34m\u001b[0m\u001b[0;34m\u001b[0m\u001b[0m\n\u001b[1;32m     62\u001b[0m     \u001b[0mit\u001b[0m \u001b[0;34m=\u001b[0m \u001b[0mmask\u001b[0m\u001b[0;34m[\u001b[0m\u001b[0;36m0\u001b[0m\u001b[0;34m]\u001b[0m\u001b[0;34m\u001b[0m\u001b[0;34m\u001b[0m\u001b[0m\n",
            "\u001b[0;31mTypeError\u001b[0m: 'Label' object is not iterable"
          ]
        },
        {
          "output_type": "display_data",
          "data": {
            "text/plain": [
              "<IPython.core.display.HTML object>"
            ],
            "text/html": [
              "\n",
              "<style>\n",
              "    /* Turns off some styling */\n",
              "    progress {\n",
              "        /* gets rid of default border in Firefox and Opera. */\n",
              "        border: none;\n",
              "        /* Needs to be in here for Safari polyfill so background images work as expected. */\n",
              "        background-size: auto;\n",
              "    }\n",
              "    progress:not([value]), progress:not([value])::-webkit-progress-bar {\n",
              "        background: repeating-linear-gradient(45deg, #7e7e7e, #7e7e7e 10px, #5c5c5c 10px, #5c5c5c 20px);\n",
              "    }\n",
              "    .progress-bar-interrupted, .progress-bar-interrupted::-webkit-progress-bar {\n",
              "        background: #F44336;\n",
              "    }\n",
              "</style>\n"
            ]
          },
          "metadata": {}
        },
        {
          "output_type": "display_data",
          "data": {
            "text/plain": [
              "<IPython.core.display.HTML object>"
            ],
            "text/html": []
          },
          "metadata": {}
        },
        {
          "output_type": "error",
          "ename": "IndexError",
          "evalue": "ignored",
          "traceback": [
            "\u001b[0;31m---------------------------------------------------------------------------\u001b[0m",
            "\u001b[0;31mIndexError\u001b[0m                                Traceback (most recent call last)",
            "\u001b[0;32m<ipython-input-21-3605b429eebd>\u001b[0m in \u001b[0;36mon_click_classify\u001b[0;34m(change)\u001b[0m\n\u001b[1;32m      5\u001b[0m     \u001b[0mpred_class\u001b[0m\u001b[0;34m,\u001b[0m\u001b[0mpred_idx\u001b[0m\u001b[0;34m,\u001b[0m\u001b[0mprobabilities\u001b[0m \u001b[0;34m=\u001b[0m \u001b[0mlearn_inf\u001b[0m\u001b[0;34m.\u001b[0m\u001b[0mpredict\u001b[0m\u001b[0;34m(\u001b[0m\u001b[0mimg\u001b[0m\u001b[0;34m)\u001b[0m\u001b[0;34m\u001b[0m\u001b[0;34m\u001b[0m\u001b[0m\n\u001b[1;32m      6\u001b[0m     \u001b[0;32mfor\u001b[0m \u001b[0mi\u001b[0m \u001b[0;32min\u001b[0m \u001b[0mrange\u001b[0m\u001b[0;34m(\u001b[0m\u001b[0;36m2\u001b[0m\u001b[0;34m)\u001b[0m\u001b[0;34m:\u001b[0m\u001b[0;34m\u001b[0m\u001b[0;34m\u001b[0m\u001b[0m\n\u001b[0;32m----> 7\u001b[0;31m       \u001b[0mhi\u001b[0m\u001b[0;34m[\u001b[0m\u001b[0mi\u001b[0m\u001b[0;34m]\u001b[0m\u001b[0;34m.\u001b[0m\u001b[0mvalue\u001b[0m \u001b[0;34m=\u001b[0m \u001b[0mnameProbDisplay\u001b[0m\u001b[0;34m(\u001b[0m\u001b[0mpred_class\u001b[0m\u001b[0;34m[\u001b[0m\u001b[0mi\u001b[0m\u001b[0;34m]\u001b[0m\u001b[0;34m,\u001b[0m \u001b[0mprobabilities\u001b[0m\u001b[0;34m[\u001b[0m\u001b[0mi\u001b[0m\u001b[0;34m]\u001b[0m\u001b[0;34m)\u001b[0m\u001b[0;34m\u001b[0m\u001b[0;34m\u001b[0m\u001b[0m\n\u001b[0m\u001b[1;32m      8\u001b[0m \u001b[0;34m\u001b[0m\u001b[0m\n\u001b[1;32m      9\u001b[0m \u001b[0mbtn_run\u001b[0m\u001b[0;34m.\u001b[0m\u001b[0mon_click\u001b[0m\u001b[0;34m(\u001b[0m\u001b[0mon_click_classify\u001b[0m\u001b[0;34m)\u001b[0m\u001b[0;34m\u001b[0m\u001b[0;34m\u001b[0m\u001b[0m\n",
            "\u001b[0;32m/usr/local/lib/python3.7/dist-packages/fastcore/foundation.py\u001b[0m in \u001b[0;36m__getitem__\u001b[0;34m(self, idx)\u001b[0m\n\u001b[1;32m    110\u001b[0m     \u001b[0;32mdef\u001b[0m \u001b[0m_xtra\u001b[0m\u001b[0;34m(\u001b[0m\u001b[0mself\u001b[0m\u001b[0;34m)\u001b[0m\u001b[0;34m:\u001b[0m \u001b[0;32mreturn\u001b[0m \u001b[0;32mNone\u001b[0m\u001b[0;34m\u001b[0m\u001b[0;34m\u001b[0m\u001b[0m\n\u001b[1;32m    111\u001b[0m     \u001b[0;32mdef\u001b[0m \u001b[0m_new\u001b[0m\u001b[0;34m(\u001b[0m\u001b[0mself\u001b[0m\u001b[0;34m,\u001b[0m \u001b[0mitems\u001b[0m\u001b[0;34m,\u001b[0m \u001b[0;34m*\u001b[0m\u001b[0margs\u001b[0m\u001b[0;34m,\u001b[0m \u001b[0;34m**\u001b[0m\u001b[0mkwargs\u001b[0m\u001b[0;34m)\u001b[0m\u001b[0;34m:\u001b[0m \u001b[0;32mreturn\u001b[0m \u001b[0mtype\u001b[0m\u001b[0;34m(\u001b[0m\u001b[0mself\u001b[0m\u001b[0;34m)\u001b[0m\u001b[0;34m(\u001b[0m\u001b[0mitems\u001b[0m\u001b[0;34m,\u001b[0m \u001b[0;34m*\u001b[0m\u001b[0margs\u001b[0m\u001b[0;34m,\u001b[0m \u001b[0muse_list\u001b[0m\u001b[0;34m=\u001b[0m\u001b[0;32mNone\u001b[0m\u001b[0;34m,\u001b[0m \u001b[0;34m**\u001b[0m\u001b[0mkwargs\u001b[0m\u001b[0;34m)\u001b[0m\u001b[0;34m\u001b[0m\u001b[0;34m\u001b[0m\u001b[0m\n\u001b[0;32m--> 112\u001b[0;31m     \u001b[0;32mdef\u001b[0m \u001b[0m__getitem__\u001b[0m\u001b[0;34m(\u001b[0m\u001b[0mself\u001b[0m\u001b[0;34m,\u001b[0m \u001b[0midx\u001b[0m\u001b[0;34m)\u001b[0m\u001b[0;34m:\u001b[0m \u001b[0;32mreturn\u001b[0m \u001b[0mself\u001b[0m\u001b[0;34m.\u001b[0m\u001b[0m_get\u001b[0m\u001b[0;34m(\u001b[0m\u001b[0midx\u001b[0m\u001b[0;34m)\u001b[0m \u001b[0;32mif\u001b[0m \u001b[0mis_indexer\u001b[0m\u001b[0;34m(\u001b[0m\u001b[0midx\u001b[0m\u001b[0;34m)\u001b[0m \u001b[0;32melse\u001b[0m \u001b[0mL\u001b[0m\u001b[0;34m(\u001b[0m\u001b[0mself\u001b[0m\u001b[0;34m.\u001b[0m\u001b[0m_get\u001b[0m\u001b[0;34m(\u001b[0m\u001b[0midx\u001b[0m\u001b[0;34m)\u001b[0m\u001b[0;34m,\u001b[0m \u001b[0muse_list\u001b[0m\u001b[0;34m=\u001b[0m\u001b[0;32mNone\u001b[0m\u001b[0;34m)\u001b[0m\u001b[0;34m\u001b[0m\u001b[0;34m\u001b[0m\u001b[0m\n\u001b[0m\u001b[1;32m    113\u001b[0m     \u001b[0;32mdef\u001b[0m \u001b[0mcopy\u001b[0m\u001b[0;34m(\u001b[0m\u001b[0mself\u001b[0m\u001b[0;34m)\u001b[0m\u001b[0;34m:\u001b[0m \u001b[0;32mreturn\u001b[0m \u001b[0mself\u001b[0m\u001b[0;34m.\u001b[0m\u001b[0m_new\u001b[0m\u001b[0;34m(\u001b[0m\u001b[0mself\u001b[0m\u001b[0;34m.\u001b[0m\u001b[0mitems\u001b[0m\u001b[0;34m.\u001b[0m\u001b[0mcopy\u001b[0m\u001b[0;34m(\u001b[0m\u001b[0;34m)\u001b[0m\u001b[0;34m)\u001b[0m\u001b[0;34m\u001b[0m\u001b[0;34m\u001b[0m\u001b[0m\n\u001b[1;32m    114\u001b[0m \u001b[0;34m\u001b[0m\u001b[0m\n",
            "\u001b[0;32m/usr/local/lib/python3.7/dist-packages/fastcore/foundation.py\u001b[0m in \u001b[0;36m_get\u001b[0;34m(self, i)\u001b[0m\n\u001b[1;32m    114\u001b[0m \u001b[0;34m\u001b[0m\u001b[0m\n\u001b[1;32m    115\u001b[0m     \u001b[0;32mdef\u001b[0m \u001b[0m_get\u001b[0m\u001b[0;34m(\u001b[0m\u001b[0mself\u001b[0m\u001b[0;34m,\u001b[0m \u001b[0mi\u001b[0m\u001b[0;34m)\u001b[0m\u001b[0;34m:\u001b[0m\u001b[0;34m\u001b[0m\u001b[0;34m\u001b[0m\u001b[0m\n\u001b[0;32m--> 116\u001b[0;31m         \u001b[0;32mif\u001b[0m \u001b[0mis_indexer\u001b[0m\u001b[0;34m(\u001b[0m\u001b[0mi\u001b[0m\u001b[0;34m)\u001b[0m \u001b[0;32mor\u001b[0m \u001b[0misinstance\u001b[0m\u001b[0;34m(\u001b[0m\u001b[0mi\u001b[0m\u001b[0;34m,\u001b[0m\u001b[0mslice\u001b[0m\u001b[0;34m)\u001b[0m\u001b[0;34m:\u001b[0m \u001b[0;32mreturn\u001b[0m \u001b[0mgetattr\u001b[0m\u001b[0;34m(\u001b[0m\u001b[0mself\u001b[0m\u001b[0;34m.\u001b[0m\u001b[0mitems\u001b[0m\u001b[0;34m,\u001b[0m\u001b[0;34m'iloc'\u001b[0m\u001b[0;34m,\u001b[0m\u001b[0mself\u001b[0m\u001b[0;34m.\u001b[0m\u001b[0mitems\u001b[0m\u001b[0;34m)\u001b[0m\u001b[0;34m[\u001b[0m\u001b[0mi\u001b[0m\u001b[0;34m]\u001b[0m\u001b[0;34m\u001b[0m\u001b[0;34m\u001b[0m\u001b[0m\n\u001b[0m\u001b[1;32m    117\u001b[0m         \u001b[0mi\u001b[0m \u001b[0;34m=\u001b[0m \u001b[0mmask2idxs\u001b[0m\u001b[0;34m(\u001b[0m\u001b[0mi\u001b[0m\u001b[0;34m)\u001b[0m\u001b[0;34m\u001b[0m\u001b[0;34m\u001b[0m\u001b[0m\n\u001b[1;32m    118\u001b[0m         return (self.items.iloc[list(i)] if hasattr(self.items,'iloc')\n",
            "\u001b[0;31mIndexError\u001b[0m: list index out of range"
          ]
        },
        {
          "output_type": "display_data",
          "data": {
            "text/plain": [
              "<IPython.core.display.HTML object>"
            ],
            "text/html": [
              "\n",
              "<style>\n",
              "    /* Turns off some styling */\n",
              "    progress {\n",
              "        /* gets rid of default border in Firefox and Opera. */\n",
              "        border: none;\n",
              "        /* Needs to be in here for Safari polyfill so background images work as expected. */\n",
              "        background-size: auto;\n",
              "    }\n",
              "    progress:not([value]), progress:not([value])::-webkit-progress-bar {\n",
              "        background: repeating-linear-gradient(45deg, #7e7e7e, #7e7e7e 10px, #5c5c5c 10px, #5c5c5c 20px);\n",
              "    }\n",
              "    .progress-bar-interrupted, .progress-bar-interrupted::-webkit-progress-bar {\n",
              "        background: #F44336;\n",
              "    }\n",
              "</style>\n"
            ]
          },
          "metadata": {}
        },
        {
          "output_type": "display_data",
          "data": {
            "text/plain": [
              "<IPython.core.display.HTML object>"
            ],
            "text/html": []
          },
          "metadata": {}
        },
        {
          "output_type": "error",
          "ename": "TypeError",
          "evalue": "ignored",
          "traceback": [
            "\u001b[0;31m---------------------------------------------------------------------------\u001b[0m",
            "\u001b[0;31mTypeError\u001b[0m                                 Traceback (most recent call last)",
            "\u001b[0;32m<ipython-input-23-f2745e7e80fd>\u001b[0m in \u001b[0;36mon_click_classify\u001b[0;34m(change)\u001b[0m\n\u001b[1;32m      4\u001b[0m     \u001b[0;32mwith\u001b[0m \u001b[0mout_pl\u001b[0m\u001b[0;34m:\u001b[0m \u001b[0mdisplay\u001b[0m\u001b[0;34m(\u001b[0m\u001b[0mimg\u001b[0m\u001b[0;34m.\u001b[0m\u001b[0mto_thumb\u001b[0m\u001b[0;34m(\u001b[0m\u001b[0;36m128\u001b[0m\u001b[0;34m,\u001b[0m\u001b[0;36m128\u001b[0m\u001b[0;34m)\u001b[0m\u001b[0;34m)\u001b[0m\u001b[0;34m\u001b[0m\u001b[0;34m\u001b[0m\u001b[0m\n\u001b[1;32m      5\u001b[0m     \u001b[0mpred_class\u001b[0m\u001b[0;34m,\u001b[0m\u001b[0mpred_idx\u001b[0m\u001b[0;34m,\u001b[0m\u001b[0mprobabilities\u001b[0m \u001b[0;34m=\u001b[0m \u001b[0mlearn_inf\u001b[0m\u001b[0;34m.\u001b[0m\u001b[0mpredict\u001b[0m\u001b[0;34m(\u001b[0m\u001b[0mimg\u001b[0m\u001b[0;34m)\u001b[0m\u001b[0;34m\u001b[0m\u001b[0;34m\u001b[0m\u001b[0m\n\u001b[0;32m----> 6\u001b[0;31m     \u001b[0;32mfor\u001b[0m \u001b[0mi\u001b[0m \u001b[0;32min\u001b[0m \u001b[0mrange\u001b[0m\u001b[0;34m(\u001b[0m\u001b[0mpred_class\u001b[0m\u001b[0;34m)\u001b[0m\u001b[0;34m:\u001b[0m\u001b[0;34m\u001b[0m\u001b[0;34m\u001b[0m\u001b[0m\n\u001b[0m\u001b[1;32m      7\u001b[0m       \u001b[0mhi\u001b[0m\u001b[0;34m[\u001b[0m\u001b[0mi\u001b[0m\u001b[0;34m]\u001b[0m\u001b[0;34m.\u001b[0m\u001b[0mvalue\u001b[0m \u001b[0;34m=\u001b[0m \u001b[0mnameProbDisplay\u001b[0m\u001b[0;34m(\u001b[0m\u001b[0mpred_class\u001b[0m\u001b[0;34m[\u001b[0m\u001b[0mi\u001b[0m\u001b[0;34m]\u001b[0m\u001b[0;34m,\u001b[0m \u001b[0mprobabilities\u001b[0m\u001b[0;34m[\u001b[0m\u001b[0mi\u001b[0m\u001b[0;34m]\u001b[0m\u001b[0;34m)\u001b[0m\u001b[0;34m\u001b[0m\u001b[0;34m\u001b[0m\u001b[0m\n\u001b[1;32m      8\u001b[0m \u001b[0;34m\u001b[0m\u001b[0m\n",
            "\u001b[0;31mTypeError\u001b[0m: 'MultiCategory' object cannot be interpreted as an integer"
          ]
        },
        {
          "output_type": "display_data",
          "data": {
            "text/plain": [
              "<IPython.core.display.HTML object>"
            ],
            "text/html": [
              "\n",
              "<style>\n",
              "    /* Turns off some styling */\n",
              "    progress {\n",
              "        /* gets rid of default border in Firefox and Opera. */\n",
              "        border: none;\n",
              "        /* Needs to be in here for Safari polyfill so background images work as expected. */\n",
              "        background-size: auto;\n",
              "    }\n",
              "    progress:not([value]), progress:not([value])::-webkit-progress-bar {\n",
              "        background: repeating-linear-gradient(45deg, #7e7e7e, #7e7e7e 10px, #5c5c5c 10px, #5c5c5c 20px);\n",
              "    }\n",
              "    .progress-bar-interrupted, .progress-bar-interrupted::-webkit-progress-bar {\n",
              "        background: #F44336;\n",
              "    }\n",
              "</style>\n"
            ]
          },
          "metadata": {}
        },
        {
          "output_type": "display_data",
          "data": {
            "text/plain": [
              "<IPython.core.display.HTML object>"
            ],
            "text/html": []
          },
          "metadata": {}
        },
        {
          "output_type": "display_data",
          "data": {
            "text/plain": [
              "<IPython.core.display.HTML object>"
            ],
            "text/html": [
              "\n",
              "<style>\n",
              "    /* Turns off some styling */\n",
              "    progress {\n",
              "        /* gets rid of default border in Firefox and Opera. */\n",
              "        border: none;\n",
              "        /* Needs to be in here for Safari polyfill so background images work as expected. */\n",
              "        background-size: auto;\n",
              "    }\n",
              "    progress:not([value]), progress:not([value])::-webkit-progress-bar {\n",
              "        background: repeating-linear-gradient(45deg, #7e7e7e, #7e7e7e 10px, #5c5c5c 10px, #5c5c5c 20px);\n",
              "    }\n",
              "    .progress-bar-interrupted, .progress-bar-interrupted::-webkit-progress-bar {\n",
              "        background: #F44336;\n",
              "    }\n",
              "</style>\n"
            ]
          },
          "metadata": {}
        },
        {
          "output_type": "display_data",
          "data": {
            "text/plain": [
              "<IPython.core.display.HTML object>"
            ],
            "text/html": []
          },
          "metadata": {}
        },
        {
          "output_type": "error",
          "ename": "TypeError",
          "evalue": "ignored",
          "traceback": [
            "\u001b[0;31m---------------------------------------------------------------------------\u001b[0m",
            "\u001b[0;31mTypeError\u001b[0m                                 Traceback (most recent call last)",
            "\u001b[0;32m<ipython-input-16-240bba0fbc5f>\u001b[0m in \u001b[0;36mon_click_classify\u001b[0;34m(change)\u001b[0m\n\u001b[1;32m      5\u001b[0m     \u001b[0mpred_class\u001b[0m\u001b[0;34m,\u001b[0m\u001b[0mpred_idx\u001b[0m\u001b[0;34m,\u001b[0m\u001b[0mprobabilities\u001b[0m \u001b[0;34m=\u001b[0m \u001b[0mlearn_inf\u001b[0m\u001b[0;34m.\u001b[0m\u001b[0mpredict\u001b[0m\u001b[0;34m(\u001b[0m\u001b[0mimg\u001b[0m\u001b[0;34m)\u001b[0m\u001b[0;34m\u001b[0m\u001b[0;34m\u001b[0m\u001b[0m\n\u001b[1;32m      6\u001b[0m     \u001b[0;32mfor\u001b[0m \u001b[0mi\u001b[0m \u001b[0;32min\u001b[0m \u001b[0mhi\u001b[0m\u001b[0;34m:\u001b[0m\u001b[0;34m\u001b[0m\u001b[0;34m\u001b[0m\u001b[0m\n\u001b[0;32m----> 7\u001b[0;31m       \u001b[0mi\u001b[0m\u001b[0;34m.\u001b[0m\u001b[0mvalue\u001b[0m \u001b[0;34m=\u001b[0m \u001b[0mnameProbDisplay\u001b[0m\u001b[0;34m(\u001b[0m\u001b[0mpred_class\u001b[0m\u001b[0;34m[\u001b[0m\u001b[0mi\u001b[0m\u001b[0;34m]\u001b[0m\u001b[0;34m,\u001b[0m \u001b[0mprobabilities\u001b[0m\u001b[0;34m[\u001b[0m\u001b[0mi\u001b[0m\u001b[0;34m]\u001b[0m\u001b[0;34m)\u001b[0m\u001b[0;34m\u001b[0m\u001b[0;34m\u001b[0m\u001b[0m\n\u001b[0m\u001b[1;32m      8\u001b[0m     VBox([widgets.Label('Upload a photo of either a sea lion or a seal!'), \n\u001b[1;32m      9\u001b[0m       btn_upload, btn_run, out_pl] + hi)\n",
            "\u001b[0;32m/usr/local/lib/python3.7/dist-packages/fastcore/foundation.py\u001b[0m in \u001b[0;36m__getitem__\u001b[0;34m(self, idx)\u001b[0m\n\u001b[1;32m    110\u001b[0m     \u001b[0;32mdef\u001b[0m \u001b[0m_xtra\u001b[0m\u001b[0;34m(\u001b[0m\u001b[0mself\u001b[0m\u001b[0;34m)\u001b[0m\u001b[0;34m:\u001b[0m \u001b[0;32mreturn\u001b[0m \u001b[0;32mNone\u001b[0m\u001b[0;34m\u001b[0m\u001b[0;34m\u001b[0m\u001b[0m\n\u001b[1;32m    111\u001b[0m     \u001b[0;32mdef\u001b[0m \u001b[0m_new\u001b[0m\u001b[0;34m(\u001b[0m\u001b[0mself\u001b[0m\u001b[0;34m,\u001b[0m \u001b[0mitems\u001b[0m\u001b[0;34m,\u001b[0m \u001b[0;34m*\u001b[0m\u001b[0margs\u001b[0m\u001b[0;34m,\u001b[0m \u001b[0;34m**\u001b[0m\u001b[0mkwargs\u001b[0m\u001b[0;34m)\u001b[0m\u001b[0;34m:\u001b[0m \u001b[0;32mreturn\u001b[0m \u001b[0mtype\u001b[0m\u001b[0;34m(\u001b[0m\u001b[0mself\u001b[0m\u001b[0;34m)\u001b[0m\u001b[0;34m(\u001b[0m\u001b[0mitems\u001b[0m\u001b[0;34m,\u001b[0m \u001b[0;34m*\u001b[0m\u001b[0margs\u001b[0m\u001b[0;34m,\u001b[0m \u001b[0muse_list\u001b[0m\u001b[0;34m=\u001b[0m\u001b[0;32mNone\u001b[0m\u001b[0;34m,\u001b[0m \u001b[0;34m**\u001b[0m\u001b[0mkwargs\u001b[0m\u001b[0;34m)\u001b[0m\u001b[0;34m\u001b[0m\u001b[0;34m\u001b[0m\u001b[0m\n\u001b[0;32m--> 112\u001b[0;31m     \u001b[0;32mdef\u001b[0m \u001b[0m__getitem__\u001b[0m\u001b[0;34m(\u001b[0m\u001b[0mself\u001b[0m\u001b[0;34m,\u001b[0m \u001b[0midx\u001b[0m\u001b[0;34m)\u001b[0m\u001b[0;34m:\u001b[0m \u001b[0;32mreturn\u001b[0m \u001b[0mself\u001b[0m\u001b[0;34m.\u001b[0m\u001b[0m_get\u001b[0m\u001b[0;34m(\u001b[0m\u001b[0midx\u001b[0m\u001b[0;34m)\u001b[0m \u001b[0;32mif\u001b[0m \u001b[0mis_indexer\u001b[0m\u001b[0;34m(\u001b[0m\u001b[0midx\u001b[0m\u001b[0;34m)\u001b[0m \u001b[0;32melse\u001b[0m \u001b[0mL\u001b[0m\u001b[0;34m(\u001b[0m\u001b[0mself\u001b[0m\u001b[0;34m.\u001b[0m\u001b[0m_get\u001b[0m\u001b[0;34m(\u001b[0m\u001b[0midx\u001b[0m\u001b[0;34m)\u001b[0m\u001b[0;34m,\u001b[0m \u001b[0muse_list\u001b[0m\u001b[0;34m=\u001b[0m\u001b[0;32mNone\u001b[0m\u001b[0;34m)\u001b[0m\u001b[0;34m\u001b[0m\u001b[0;34m\u001b[0m\u001b[0m\n\u001b[0m\u001b[1;32m    113\u001b[0m     \u001b[0;32mdef\u001b[0m \u001b[0mcopy\u001b[0m\u001b[0;34m(\u001b[0m\u001b[0mself\u001b[0m\u001b[0;34m)\u001b[0m\u001b[0;34m:\u001b[0m \u001b[0;32mreturn\u001b[0m \u001b[0mself\u001b[0m\u001b[0;34m.\u001b[0m\u001b[0m_new\u001b[0m\u001b[0;34m(\u001b[0m\u001b[0mself\u001b[0m\u001b[0;34m.\u001b[0m\u001b[0mitems\u001b[0m\u001b[0;34m.\u001b[0m\u001b[0mcopy\u001b[0m\u001b[0;34m(\u001b[0m\u001b[0;34m)\u001b[0m\u001b[0;34m)\u001b[0m\u001b[0;34m\u001b[0m\u001b[0;34m\u001b[0m\u001b[0m\n\u001b[1;32m    114\u001b[0m \u001b[0;34m\u001b[0m\u001b[0m\n",
            "\u001b[0;32m/usr/local/lib/python3.7/dist-packages/fastcore/foundation.py\u001b[0m in \u001b[0;36m_get\u001b[0;34m(self, i)\u001b[0m\n\u001b[1;32m    115\u001b[0m     \u001b[0;32mdef\u001b[0m \u001b[0m_get\u001b[0m\u001b[0;34m(\u001b[0m\u001b[0mself\u001b[0m\u001b[0;34m,\u001b[0m \u001b[0mi\u001b[0m\u001b[0;34m)\u001b[0m\u001b[0;34m:\u001b[0m\u001b[0;34m\u001b[0m\u001b[0;34m\u001b[0m\u001b[0m\n\u001b[1;32m    116\u001b[0m         \u001b[0;32mif\u001b[0m \u001b[0mis_indexer\u001b[0m\u001b[0;34m(\u001b[0m\u001b[0mi\u001b[0m\u001b[0;34m)\u001b[0m \u001b[0;32mor\u001b[0m \u001b[0misinstance\u001b[0m\u001b[0;34m(\u001b[0m\u001b[0mi\u001b[0m\u001b[0;34m,\u001b[0m\u001b[0mslice\u001b[0m\u001b[0;34m)\u001b[0m\u001b[0;34m:\u001b[0m \u001b[0;32mreturn\u001b[0m \u001b[0mgetattr\u001b[0m\u001b[0;34m(\u001b[0m\u001b[0mself\u001b[0m\u001b[0;34m.\u001b[0m\u001b[0mitems\u001b[0m\u001b[0;34m,\u001b[0m\u001b[0;34m'iloc'\u001b[0m\u001b[0;34m,\u001b[0m\u001b[0mself\u001b[0m\u001b[0;34m.\u001b[0m\u001b[0mitems\u001b[0m\u001b[0;34m)\u001b[0m\u001b[0;34m[\u001b[0m\u001b[0mi\u001b[0m\u001b[0;34m]\u001b[0m\u001b[0;34m\u001b[0m\u001b[0;34m\u001b[0m\u001b[0m\n\u001b[0;32m--> 117\u001b[0;31m         \u001b[0mi\u001b[0m \u001b[0;34m=\u001b[0m \u001b[0mmask2idxs\u001b[0m\u001b[0;34m(\u001b[0m\u001b[0mi\u001b[0m\u001b[0;34m)\u001b[0m\u001b[0;34m\u001b[0m\u001b[0;34m\u001b[0m\u001b[0m\n\u001b[0m\u001b[1;32m    118\u001b[0m         return (self.items.iloc[list(i)] if hasattr(self.items,'iloc')\n\u001b[1;32m    119\u001b[0m                 \u001b[0;32melse\u001b[0m \u001b[0mself\u001b[0m\u001b[0;34m.\u001b[0m\u001b[0mitems\u001b[0m\u001b[0;34m.\u001b[0m\u001b[0m__array__\u001b[0m\u001b[0;34m(\u001b[0m\u001b[0;34m)\u001b[0m\u001b[0;34m[\u001b[0m\u001b[0;34m(\u001b[0m\u001b[0mi\u001b[0m\u001b[0;34m,\u001b[0m\u001b[0;34m)\u001b[0m\u001b[0;34m]\u001b[0m \u001b[0;32mif\u001b[0m \u001b[0mhasattr\u001b[0m\u001b[0;34m(\u001b[0m\u001b[0mself\u001b[0m\u001b[0;34m.\u001b[0m\u001b[0mitems\u001b[0m\u001b[0;34m,\u001b[0m\u001b[0;34m'__array__'\u001b[0m\u001b[0;34m)\u001b[0m\u001b[0;34m\u001b[0m\u001b[0;34m\u001b[0m\u001b[0m\n",
            "\u001b[0;32m/usr/local/lib/python3.7/dist-packages/fastcore/foundation.py\u001b[0m in \u001b[0;36mmask2idxs\u001b[0;34m(mask)\u001b[0m\n\u001b[1;32m     58\u001b[0m     \u001b[0;34m\"Convert bool mask or index list to index `L`\"\u001b[0m\u001b[0;34m\u001b[0m\u001b[0;34m\u001b[0m\u001b[0m\n\u001b[1;32m     59\u001b[0m     \u001b[0;32mif\u001b[0m \u001b[0misinstance\u001b[0m\u001b[0;34m(\u001b[0m\u001b[0mmask\u001b[0m\u001b[0;34m,\u001b[0m\u001b[0mslice\u001b[0m\u001b[0;34m)\u001b[0m\u001b[0;34m:\u001b[0m \u001b[0;32mreturn\u001b[0m \u001b[0mmask\u001b[0m\u001b[0;34m\u001b[0m\u001b[0;34m\u001b[0m\u001b[0m\n\u001b[0;32m---> 60\u001b[0;31m     \u001b[0mmask\u001b[0m \u001b[0;34m=\u001b[0m \u001b[0mlist\u001b[0m\u001b[0;34m(\u001b[0m\u001b[0mmask\u001b[0m\u001b[0;34m)\u001b[0m\u001b[0;34m\u001b[0m\u001b[0;34m\u001b[0m\u001b[0m\n\u001b[0m\u001b[1;32m     61\u001b[0m     \u001b[0;32mif\u001b[0m \u001b[0mlen\u001b[0m\u001b[0;34m(\u001b[0m\u001b[0mmask\u001b[0m\u001b[0;34m)\u001b[0m\u001b[0;34m==\u001b[0m\u001b[0;36m0\u001b[0m\u001b[0;34m:\u001b[0m \u001b[0;32mreturn\u001b[0m \u001b[0;34m[\u001b[0m\u001b[0;34m]\u001b[0m\u001b[0;34m\u001b[0m\u001b[0;34m\u001b[0m\u001b[0m\n\u001b[1;32m     62\u001b[0m     \u001b[0mit\u001b[0m \u001b[0;34m=\u001b[0m \u001b[0mmask\u001b[0m\u001b[0;34m[\u001b[0m\u001b[0;36m0\u001b[0m\u001b[0;34m]\u001b[0m\u001b[0;34m\u001b[0m\u001b[0;34m\u001b[0m\u001b[0m\n",
            "\u001b[0;31mTypeError\u001b[0m: 'Label' object is not iterable"
          ]
        },
        {
          "output_type": "display_data",
          "data": {
            "text/plain": [
              "<IPython.core.display.HTML object>"
            ],
            "text/html": [
              "\n",
              "<style>\n",
              "    /* Turns off some styling */\n",
              "    progress {\n",
              "        /* gets rid of default border in Firefox and Opera. */\n",
              "        border: none;\n",
              "        /* Needs to be in here for Safari polyfill so background images work as expected. */\n",
              "        background-size: auto;\n",
              "    }\n",
              "    progress:not([value]), progress:not([value])::-webkit-progress-bar {\n",
              "        background: repeating-linear-gradient(45deg, #7e7e7e, #7e7e7e 10px, #5c5c5c 10px, #5c5c5c 20px);\n",
              "    }\n",
              "    .progress-bar-interrupted, .progress-bar-interrupted::-webkit-progress-bar {\n",
              "        background: #F44336;\n",
              "    }\n",
              "</style>\n"
            ]
          },
          "metadata": {}
        },
        {
          "output_type": "display_data",
          "data": {
            "text/plain": [
              "<IPython.core.display.HTML object>"
            ],
            "text/html": []
          },
          "metadata": {}
        },
        {
          "output_type": "error",
          "ename": "TypeError",
          "evalue": "ignored",
          "traceback": [
            "\u001b[0;31m---------------------------------------------------------------------------\u001b[0m",
            "\u001b[0;31mTypeError\u001b[0m                                 Traceback (most recent call last)",
            "\u001b[0;32m<ipython-input-18-f8a1fd42c29a>\u001b[0m in \u001b[0;36mon_click_classify\u001b[0;34m(change)\u001b[0m\n\u001b[1;32m      5\u001b[0m     \u001b[0mpred_class\u001b[0m\u001b[0;34m,\u001b[0m\u001b[0mpred_idx\u001b[0m\u001b[0;34m,\u001b[0m\u001b[0mprobabilities\u001b[0m \u001b[0;34m=\u001b[0m \u001b[0mlearn_inf\u001b[0m\u001b[0;34m.\u001b[0m\u001b[0mpredict\u001b[0m\u001b[0;34m(\u001b[0m\u001b[0mimg\u001b[0m\u001b[0;34m)\u001b[0m\u001b[0;34m\u001b[0m\u001b[0;34m\u001b[0m\u001b[0m\n\u001b[1;32m      6\u001b[0m     \u001b[0;32mfor\u001b[0m \u001b[0mi\u001b[0m \u001b[0;32min\u001b[0m \u001b[0mhi\u001b[0m\u001b[0;34m:\u001b[0m\u001b[0;34m\u001b[0m\u001b[0;34m\u001b[0m\u001b[0m\n\u001b[0;32m----> 7\u001b[0;31m       \u001b[0mi\u001b[0m\u001b[0;34m.\u001b[0m\u001b[0mvalue\u001b[0m \u001b[0;34m=\u001b[0m \u001b[0mnameProbDisplay\u001b[0m\u001b[0;34m(\u001b[0m\u001b[0mpred_class\u001b[0m\u001b[0;34m[\u001b[0m\u001b[0mi\u001b[0m\u001b[0;34m]\u001b[0m\u001b[0;34m,\u001b[0m \u001b[0mprobabilities\u001b[0m\u001b[0;34m[\u001b[0m\u001b[0mi\u001b[0m\u001b[0;34m]\u001b[0m\u001b[0;34m)\u001b[0m\u001b[0;34m\u001b[0m\u001b[0;34m\u001b[0m\u001b[0m\n\u001b[0m\u001b[1;32m      8\u001b[0m \u001b[0;34m\u001b[0m\u001b[0m\n\u001b[1;32m      9\u001b[0m \u001b[0mbtn_run\u001b[0m\u001b[0;34m.\u001b[0m\u001b[0mon_click\u001b[0m\u001b[0;34m(\u001b[0m\u001b[0mon_click_classify\u001b[0m\u001b[0;34m)\u001b[0m\u001b[0;34m\u001b[0m\u001b[0;34m\u001b[0m\u001b[0m\n",
            "\u001b[0;32m/usr/local/lib/python3.7/dist-packages/fastcore/foundation.py\u001b[0m in \u001b[0;36m__getitem__\u001b[0;34m(self, idx)\u001b[0m\n\u001b[1;32m    110\u001b[0m     \u001b[0;32mdef\u001b[0m \u001b[0m_xtra\u001b[0m\u001b[0;34m(\u001b[0m\u001b[0mself\u001b[0m\u001b[0;34m)\u001b[0m\u001b[0;34m:\u001b[0m \u001b[0;32mreturn\u001b[0m \u001b[0;32mNone\u001b[0m\u001b[0;34m\u001b[0m\u001b[0;34m\u001b[0m\u001b[0m\n\u001b[1;32m    111\u001b[0m     \u001b[0;32mdef\u001b[0m \u001b[0m_new\u001b[0m\u001b[0;34m(\u001b[0m\u001b[0mself\u001b[0m\u001b[0;34m,\u001b[0m \u001b[0mitems\u001b[0m\u001b[0;34m,\u001b[0m \u001b[0;34m*\u001b[0m\u001b[0margs\u001b[0m\u001b[0;34m,\u001b[0m \u001b[0;34m**\u001b[0m\u001b[0mkwargs\u001b[0m\u001b[0;34m)\u001b[0m\u001b[0;34m:\u001b[0m \u001b[0;32mreturn\u001b[0m \u001b[0mtype\u001b[0m\u001b[0;34m(\u001b[0m\u001b[0mself\u001b[0m\u001b[0;34m)\u001b[0m\u001b[0;34m(\u001b[0m\u001b[0mitems\u001b[0m\u001b[0;34m,\u001b[0m \u001b[0;34m*\u001b[0m\u001b[0margs\u001b[0m\u001b[0;34m,\u001b[0m \u001b[0muse_list\u001b[0m\u001b[0;34m=\u001b[0m\u001b[0;32mNone\u001b[0m\u001b[0;34m,\u001b[0m \u001b[0;34m**\u001b[0m\u001b[0mkwargs\u001b[0m\u001b[0;34m)\u001b[0m\u001b[0;34m\u001b[0m\u001b[0;34m\u001b[0m\u001b[0m\n\u001b[0;32m--> 112\u001b[0;31m     \u001b[0;32mdef\u001b[0m \u001b[0m__getitem__\u001b[0m\u001b[0;34m(\u001b[0m\u001b[0mself\u001b[0m\u001b[0;34m,\u001b[0m \u001b[0midx\u001b[0m\u001b[0;34m)\u001b[0m\u001b[0;34m:\u001b[0m \u001b[0;32mreturn\u001b[0m \u001b[0mself\u001b[0m\u001b[0;34m.\u001b[0m\u001b[0m_get\u001b[0m\u001b[0;34m(\u001b[0m\u001b[0midx\u001b[0m\u001b[0;34m)\u001b[0m \u001b[0;32mif\u001b[0m \u001b[0mis_indexer\u001b[0m\u001b[0;34m(\u001b[0m\u001b[0midx\u001b[0m\u001b[0;34m)\u001b[0m \u001b[0;32melse\u001b[0m \u001b[0mL\u001b[0m\u001b[0;34m(\u001b[0m\u001b[0mself\u001b[0m\u001b[0;34m.\u001b[0m\u001b[0m_get\u001b[0m\u001b[0;34m(\u001b[0m\u001b[0midx\u001b[0m\u001b[0;34m)\u001b[0m\u001b[0;34m,\u001b[0m \u001b[0muse_list\u001b[0m\u001b[0;34m=\u001b[0m\u001b[0;32mNone\u001b[0m\u001b[0;34m)\u001b[0m\u001b[0;34m\u001b[0m\u001b[0;34m\u001b[0m\u001b[0m\n\u001b[0m\u001b[1;32m    113\u001b[0m     \u001b[0;32mdef\u001b[0m \u001b[0mcopy\u001b[0m\u001b[0;34m(\u001b[0m\u001b[0mself\u001b[0m\u001b[0;34m)\u001b[0m\u001b[0;34m:\u001b[0m \u001b[0;32mreturn\u001b[0m \u001b[0mself\u001b[0m\u001b[0;34m.\u001b[0m\u001b[0m_new\u001b[0m\u001b[0;34m(\u001b[0m\u001b[0mself\u001b[0m\u001b[0;34m.\u001b[0m\u001b[0mitems\u001b[0m\u001b[0;34m.\u001b[0m\u001b[0mcopy\u001b[0m\u001b[0;34m(\u001b[0m\u001b[0;34m)\u001b[0m\u001b[0;34m)\u001b[0m\u001b[0;34m\u001b[0m\u001b[0;34m\u001b[0m\u001b[0m\n\u001b[1;32m    114\u001b[0m \u001b[0;34m\u001b[0m\u001b[0m\n",
            "\u001b[0;32m/usr/local/lib/python3.7/dist-packages/fastcore/foundation.py\u001b[0m in \u001b[0;36m_get\u001b[0;34m(self, i)\u001b[0m\n\u001b[1;32m    115\u001b[0m     \u001b[0;32mdef\u001b[0m \u001b[0m_get\u001b[0m\u001b[0;34m(\u001b[0m\u001b[0mself\u001b[0m\u001b[0;34m,\u001b[0m \u001b[0mi\u001b[0m\u001b[0;34m)\u001b[0m\u001b[0;34m:\u001b[0m\u001b[0;34m\u001b[0m\u001b[0;34m\u001b[0m\u001b[0m\n\u001b[1;32m    116\u001b[0m         \u001b[0;32mif\u001b[0m \u001b[0mis_indexer\u001b[0m\u001b[0;34m(\u001b[0m\u001b[0mi\u001b[0m\u001b[0;34m)\u001b[0m \u001b[0;32mor\u001b[0m \u001b[0misinstance\u001b[0m\u001b[0;34m(\u001b[0m\u001b[0mi\u001b[0m\u001b[0;34m,\u001b[0m\u001b[0mslice\u001b[0m\u001b[0;34m)\u001b[0m\u001b[0;34m:\u001b[0m \u001b[0;32mreturn\u001b[0m \u001b[0mgetattr\u001b[0m\u001b[0;34m(\u001b[0m\u001b[0mself\u001b[0m\u001b[0;34m.\u001b[0m\u001b[0mitems\u001b[0m\u001b[0;34m,\u001b[0m\u001b[0;34m'iloc'\u001b[0m\u001b[0;34m,\u001b[0m\u001b[0mself\u001b[0m\u001b[0;34m.\u001b[0m\u001b[0mitems\u001b[0m\u001b[0;34m)\u001b[0m\u001b[0;34m[\u001b[0m\u001b[0mi\u001b[0m\u001b[0;34m]\u001b[0m\u001b[0;34m\u001b[0m\u001b[0;34m\u001b[0m\u001b[0m\n\u001b[0;32m--> 117\u001b[0;31m         \u001b[0mi\u001b[0m \u001b[0;34m=\u001b[0m \u001b[0mmask2idxs\u001b[0m\u001b[0;34m(\u001b[0m\u001b[0mi\u001b[0m\u001b[0;34m)\u001b[0m\u001b[0;34m\u001b[0m\u001b[0;34m\u001b[0m\u001b[0m\n\u001b[0m\u001b[1;32m    118\u001b[0m         return (self.items.iloc[list(i)] if hasattr(self.items,'iloc')\n\u001b[1;32m    119\u001b[0m                 \u001b[0;32melse\u001b[0m \u001b[0mself\u001b[0m\u001b[0;34m.\u001b[0m\u001b[0mitems\u001b[0m\u001b[0;34m.\u001b[0m\u001b[0m__array__\u001b[0m\u001b[0;34m(\u001b[0m\u001b[0;34m)\u001b[0m\u001b[0;34m[\u001b[0m\u001b[0;34m(\u001b[0m\u001b[0mi\u001b[0m\u001b[0;34m,\u001b[0m\u001b[0;34m)\u001b[0m\u001b[0;34m]\u001b[0m \u001b[0;32mif\u001b[0m \u001b[0mhasattr\u001b[0m\u001b[0;34m(\u001b[0m\u001b[0mself\u001b[0m\u001b[0;34m.\u001b[0m\u001b[0mitems\u001b[0m\u001b[0;34m,\u001b[0m\u001b[0;34m'__array__'\u001b[0m\u001b[0;34m)\u001b[0m\u001b[0;34m\u001b[0m\u001b[0;34m\u001b[0m\u001b[0m\n",
            "\u001b[0;32m/usr/local/lib/python3.7/dist-packages/fastcore/foundation.py\u001b[0m in \u001b[0;36mmask2idxs\u001b[0;34m(mask)\u001b[0m\n\u001b[1;32m     58\u001b[0m     \u001b[0;34m\"Convert bool mask or index list to index `L`\"\u001b[0m\u001b[0;34m\u001b[0m\u001b[0;34m\u001b[0m\u001b[0m\n\u001b[1;32m     59\u001b[0m     \u001b[0;32mif\u001b[0m \u001b[0misinstance\u001b[0m\u001b[0;34m(\u001b[0m\u001b[0mmask\u001b[0m\u001b[0;34m,\u001b[0m\u001b[0mslice\u001b[0m\u001b[0;34m)\u001b[0m\u001b[0;34m:\u001b[0m \u001b[0;32mreturn\u001b[0m \u001b[0mmask\u001b[0m\u001b[0;34m\u001b[0m\u001b[0;34m\u001b[0m\u001b[0m\n\u001b[0;32m---> 60\u001b[0;31m     \u001b[0mmask\u001b[0m \u001b[0;34m=\u001b[0m \u001b[0mlist\u001b[0m\u001b[0;34m(\u001b[0m\u001b[0mmask\u001b[0m\u001b[0;34m)\u001b[0m\u001b[0;34m\u001b[0m\u001b[0;34m\u001b[0m\u001b[0m\n\u001b[0m\u001b[1;32m     61\u001b[0m     \u001b[0;32mif\u001b[0m \u001b[0mlen\u001b[0m\u001b[0;34m(\u001b[0m\u001b[0mmask\u001b[0m\u001b[0;34m)\u001b[0m\u001b[0;34m==\u001b[0m\u001b[0;36m0\u001b[0m\u001b[0;34m:\u001b[0m \u001b[0;32mreturn\u001b[0m \u001b[0;34m[\u001b[0m\u001b[0;34m]\u001b[0m\u001b[0;34m\u001b[0m\u001b[0;34m\u001b[0m\u001b[0m\n\u001b[1;32m     62\u001b[0m     \u001b[0mit\u001b[0m \u001b[0;34m=\u001b[0m \u001b[0mmask\u001b[0m\u001b[0;34m[\u001b[0m\u001b[0;36m0\u001b[0m\u001b[0;34m]\u001b[0m\u001b[0;34m\u001b[0m\u001b[0;34m\u001b[0m\u001b[0m\n",
            "\u001b[0;31mTypeError\u001b[0m: 'Label' object is not iterable"
          ]
        },
        {
          "output_type": "display_data",
          "data": {
            "text/plain": [
              "<IPython.core.display.HTML object>"
            ],
            "text/html": [
              "\n",
              "<style>\n",
              "    /* Turns off some styling */\n",
              "    progress {\n",
              "        /* gets rid of default border in Firefox and Opera. */\n",
              "        border: none;\n",
              "        /* Needs to be in here for Safari polyfill so background images work as expected. */\n",
              "        background-size: auto;\n",
              "    }\n",
              "    progress:not([value]), progress:not([value])::-webkit-progress-bar {\n",
              "        background: repeating-linear-gradient(45deg, #7e7e7e, #7e7e7e 10px, #5c5c5c 10px, #5c5c5c 20px);\n",
              "    }\n",
              "    .progress-bar-interrupted, .progress-bar-interrupted::-webkit-progress-bar {\n",
              "        background: #F44336;\n",
              "    }\n",
              "</style>\n"
            ]
          },
          "metadata": {}
        },
        {
          "output_type": "display_data",
          "data": {
            "text/plain": [
              "<IPython.core.display.HTML object>"
            ],
            "text/html": []
          },
          "metadata": {}
        },
        {
          "output_type": "error",
          "ename": "IndexError",
          "evalue": "ignored",
          "traceback": [
            "\u001b[0;31m---------------------------------------------------------------------------\u001b[0m",
            "\u001b[0;31mIndexError\u001b[0m                                Traceback (most recent call last)",
            "\u001b[0;32m<ipython-input-21-3605b429eebd>\u001b[0m in \u001b[0;36mon_click_classify\u001b[0;34m(change)\u001b[0m\n\u001b[1;32m      5\u001b[0m     \u001b[0mpred_class\u001b[0m\u001b[0;34m,\u001b[0m\u001b[0mpred_idx\u001b[0m\u001b[0;34m,\u001b[0m\u001b[0mprobabilities\u001b[0m \u001b[0;34m=\u001b[0m \u001b[0mlearn_inf\u001b[0m\u001b[0;34m.\u001b[0m\u001b[0mpredict\u001b[0m\u001b[0;34m(\u001b[0m\u001b[0mimg\u001b[0m\u001b[0;34m)\u001b[0m\u001b[0;34m\u001b[0m\u001b[0;34m\u001b[0m\u001b[0m\n\u001b[1;32m      6\u001b[0m     \u001b[0;32mfor\u001b[0m \u001b[0mi\u001b[0m \u001b[0;32min\u001b[0m \u001b[0mrange\u001b[0m\u001b[0;34m(\u001b[0m\u001b[0;36m2\u001b[0m\u001b[0;34m)\u001b[0m\u001b[0;34m:\u001b[0m\u001b[0;34m\u001b[0m\u001b[0;34m\u001b[0m\u001b[0m\n\u001b[0;32m----> 7\u001b[0;31m       \u001b[0mhi\u001b[0m\u001b[0;34m[\u001b[0m\u001b[0mi\u001b[0m\u001b[0;34m]\u001b[0m\u001b[0;34m.\u001b[0m\u001b[0mvalue\u001b[0m \u001b[0;34m=\u001b[0m \u001b[0mnameProbDisplay\u001b[0m\u001b[0;34m(\u001b[0m\u001b[0mpred_class\u001b[0m\u001b[0;34m[\u001b[0m\u001b[0mi\u001b[0m\u001b[0;34m]\u001b[0m\u001b[0;34m,\u001b[0m \u001b[0mprobabilities\u001b[0m\u001b[0;34m[\u001b[0m\u001b[0mi\u001b[0m\u001b[0;34m]\u001b[0m\u001b[0;34m)\u001b[0m\u001b[0;34m\u001b[0m\u001b[0;34m\u001b[0m\u001b[0m\n\u001b[0m\u001b[1;32m      8\u001b[0m \u001b[0;34m\u001b[0m\u001b[0m\n\u001b[1;32m      9\u001b[0m \u001b[0mbtn_run\u001b[0m\u001b[0;34m.\u001b[0m\u001b[0mon_click\u001b[0m\u001b[0;34m(\u001b[0m\u001b[0mon_click_classify\u001b[0m\u001b[0;34m)\u001b[0m\u001b[0;34m\u001b[0m\u001b[0;34m\u001b[0m\u001b[0m\n",
            "\u001b[0;32m/usr/local/lib/python3.7/dist-packages/fastcore/foundation.py\u001b[0m in \u001b[0;36m__getitem__\u001b[0;34m(self, idx)\u001b[0m\n\u001b[1;32m    110\u001b[0m     \u001b[0;32mdef\u001b[0m \u001b[0m_xtra\u001b[0m\u001b[0;34m(\u001b[0m\u001b[0mself\u001b[0m\u001b[0;34m)\u001b[0m\u001b[0;34m:\u001b[0m \u001b[0;32mreturn\u001b[0m \u001b[0;32mNone\u001b[0m\u001b[0;34m\u001b[0m\u001b[0;34m\u001b[0m\u001b[0m\n\u001b[1;32m    111\u001b[0m     \u001b[0;32mdef\u001b[0m \u001b[0m_new\u001b[0m\u001b[0;34m(\u001b[0m\u001b[0mself\u001b[0m\u001b[0;34m,\u001b[0m \u001b[0mitems\u001b[0m\u001b[0;34m,\u001b[0m \u001b[0;34m*\u001b[0m\u001b[0margs\u001b[0m\u001b[0;34m,\u001b[0m \u001b[0;34m**\u001b[0m\u001b[0mkwargs\u001b[0m\u001b[0;34m)\u001b[0m\u001b[0;34m:\u001b[0m \u001b[0;32mreturn\u001b[0m \u001b[0mtype\u001b[0m\u001b[0;34m(\u001b[0m\u001b[0mself\u001b[0m\u001b[0;34m)\u001b[0m\u001b[0;34m(\u001b[0m\u001b[0mitems\u001b[0m\u001b[0;34m,\u001b[0m \u001b[0;34m*\u001b[0m\u001b[0margs\u001b[0m\u001b[0;34m,\u001b[0m \u001b[0muse_list\u001b[0m\u001b[0;34m=\u001b[0m\u001b[0;32mNone\u001b[0m\u001b[0;34m,\u001b[0m \u001b[0;34m**\u001b[0m\u001b[0mkwargs\u001b[0m\u001b[0;34m)\u001b[0m\u001b[0;34m\u001b[0m\u001b[0;34m\u001b[0m\u001b[0m\n\u001b[0;32m--> 112\u001b[0;31m     \u001b[0;32mdef\u001b[0m \u001b[0m__getitem__\u001b[0m\u001b[0;34m(\u001b[0m\u001b[0mself\u001b[0m\u001b[0;34m,\u001b[0m \u001b[0midx\u001b[0m\u001b[0;34m)\u001b[0m\u001b[0;34m:\u001b[0m \u001b[0;32mreturn\u001b[0m \u001b[0mself\u001b[0m\u001b[0;34m.\u001b[0m\u001b[0m_get\u001b[0m\u001b[0;34m(\u001b[0m\u001b[0midx\u001b[0m\u001b[0;34m)\u001b[0m \u001b[0;32mif\u001b[0m \u001b[0mis_indexer\u001b[0m\u001b[0;34m(\u001b[0m\u001b[0midx\u001b[0m\u001b[0;34m)\u001b[0m \u001b[0;32melse\u001b[0m \u001b[0mL\u001b[0m\u001b[0;34m(\u001b[0m\u001b[0mself\u001b[0m\u001b[0;34m.\u001b[0m\u001b[0m_get\u001b[0m\u001b[0;34m(\u001b[0m\u001b[0midx\u001b[0m\u001b[0;34m)\u001b[0m\u001b[0;34m,\u001b[0m \u001b[0muse_list\u001b[0m\u001b[0;34m=\u001b[0m\u001b[0;32mNone\u001b[0m\u001b[0;34m)\u001b[0m\u001b[0;34m\u001b[0m\u001b[0;34m\u001b[0m\u001b[0m\n\u001b[0m\u001b[1;32m    113\u001b[0m     \u001b[0;32mdef\u001b[0m \u001b[0mcopy\u001b[0m\u001b[0;34m(\u001b[0m\u001b[0mself\u001b[0m\u001b[0;34m)\u001b[0m\u001b[0;34m:\u001b[0m \u001b[0;32mreturn\u001b[0m \u001b[0mself\u001b[0m\u001b[0;34m.\u001b[0m\u001b[0m_new\u001b[0m\u001b[0;34m(\u001b[0m\u001b[0mself\u001b[0m\u001b[0;34m.\u001b[0m\u001b[0mitems\u001b[0m\u001b[0;34m.\u001b[0m\u001b[0mcopy\u001b[0m\u001b[0;34m(\u001b[0m\u001b[0;34m)\u001b[0m\u001b[0;34m)\u001b[0m\u001b[0;34m\u001b[0m\u001b[0;34m\u001b[0m\u001b[0m\n\u001b[1;32m    114\u001b[0m \u001b[0;34m\u001b[0m\u001b[0m\n",
            "\u001b[0;32m/usr/local/lib/python3.7/dist-packages/fastcore/foundation.py\u001b[0m in \u001b[0;36m_get\u001b[0;34m(self, i)\u001b[0m\n\u001b[1;32m    114\u001b[0m \u001b[0;34m\u001b[0m\u001b[0m\n\u001b[1;32m    115\u001b[0m     \u001b[0;32mdef\u001b[0m \u001b[0m_get\u001b[0m\u001b[0;34m(\u001b[0m\u001b[0mself\u001b[0m\u001b[0;34m,\u001b[0m \u001b[0mi\u001b[0m\u001b[0;34m)\u001b[0m\u001b[0;34m:\u001b[0m\u001b[0;34m\u001b[0m\u001b[0;34m\u001b[0m\u001b[0m\n\u001b[0;32m--> 116\u001b[0;31m         \u001b[0;32mif\u001b[0m \u001b[0mis_indexer\u001b[0m\u001b[0;34m(\u001b[0m\u001b[0mi\u001b[0m\u001b[0;34m)\u001b[0m \u001b[0;32mor\u001b[0m \u001b[0misinstance\u001b[0m\u001b[0;34m(\u001b[0m\u001b[0mi\u001b[0m\u001b[0;34m,\u001b[0m\u001b[0mslice\u001b[0m\u001b[0;34m)\u001b[0m\u001b[0;34m:\u001b[0m \u001b[0;32mreturn\u001b[0m \u001b[0mgetattr\u001b[0m\u001b[0;34m(\u001b[0m\u001b[0mself\u001b[0m\u001b[0;34m.\u001b[0m\u001b[0mitems\u001b[0m\u001b[0;34m,\u001b[0m\u001b[0;34m'iloc'\u001b[0m\u001b[0;34m,\u001b[0m\u001b[0mself\u001b[0m\u001b[0;34m.\u001b[0m\u001b[0mitems\u001b[0m\u001b[0;34m)\u001b[0m\u001b[0;34m[\u001b[0m\u001b[0mi\u001b[0m\u001b[0;34m]\u001b[0m\u001b[0;34m\u001b[0m\u001b[0;34m\u001b[0m\u001b[0m\n\u001b[0m\u001b[1;32m    117\u001b[0m         \u001b[0mi\u001b[0m \u001b[0;34m=\u001b[0m \u001b[0mmask2idxs\u001b[0m\u001b[0;34m(\u001b[0m\u001b[0mi\u001b[0m\u001b[0;34m)\u001b[0m\u001b[0;34m\u001b[0m\u001b[0;34m\u001b[0m\u001b[0m\n\u001b[1;32m    118\u001b[0m         return (self.items.iloc[list(i)] if hasattr(self.items,'iloc')\n",
            "\u001b[0;31mIndexError\u001b[0m: list index out of range"
          ]
        },
        {
          "output_type": "display_data",
          "data": {
            "text/plain": [
              "<IPython.core.display.HTML object>"
            ],
            "text/html": [
              "\n",
              "<style>\n",
              "    /* Turns off some styling */\n",
              "    progress {\n",
              "        /* gets rid of default border in Firefox and Opera. */\n",
              "        border: none;\n",
              "        /* Needs to be in here for Safari polyfill so background images work as expected. */\n",
              "        background-size: auto;\n",
              "    }\n",
              "    progress:not([value]), progress:not([value])::-webkit-progress-bar {\n",
              "        background: repeating-linear-gradient(45deg, #7e7e7e, #7e7e7e 10px, #5c5c5c 10px, #5c5c5c 20px);\n",
              "    }\n",
              "    .progress-bar-interrupted, .progress-bar-interrupted::-webkit-progress-bar {\n",
              "        background: #F44336;\n",
              "    }\n",
              "</style>\n"
            ]
          },
          "metadata": {}
        },
        {
          "output_type": "display_data",
          "data": {
            "text/plain": [
              "<IPython.core.display.HTML object>"
            ],
            "text/html": []
          },
          "metadata": {}
        },
        {
          "output_type": "error",
          "ename": "TypeError",
          "evalue": "ignored",
          "traceback": [
            "\u001b[0;31m---------------------------------------------------------------------------\u001b[0m",
            "\u001b[0;31mTypeError\u001b[0m                                 Traceback (most recent call last)",
            "\u001b[0;32m<ipython-input-23-f2745e7e80fd>\u001b[0m in \u001b[0;36mon_click_classify\u001b[0;34m(change)\u001b[0m\n\u001b[1;32m      4\u001b[0m     \u001b[0;32mwith\u001b[0m \u001b[0mout_pl\u001b[0m\u001b[0;34m:\u001b[0m \u001b[0mdisplay\u001b[0m\u001b[0;34m(\u001b[0m\u001b[0mimg\u001b[0m\u001b[0;34m.\u001b[0m\u001b[0mto_thumb\u001b[0m\u001b[0;34m(\u001b[0m\u001b[0;36m128\u001b[0m\u001b[0;34m,\u001b[0m\u001b[0;36m128\u001b[0m\u001b[0;34m)\u001b[0m\u001b[0;34m)\u001b[0m\u001b[0;34m\u001b[0m\u001b[0;34m\u001b[0m\u001b[0m\n\u001b[1;32m      5\u001b[0m     \u001b[0mpred_class\u001b[0m\u001b[0;34m,\u001b[0m\u001b[0mpred_idx\u001b[0m\u001b[0;34m,\u001b[0m\u001b[0mprobabilities\u001b[0m \u001b[0;34m=\u001b[0m \u001b[0mlearn_inf\u001b[0m\u001b[0;34m.\u001b[0m\u001b[0mpredict\u001b[0m\u001b[0;34m(\u001b[0m\u001b[0mimg\u001b[0m\u001b[0;34m)\u001b[0m\u001b[0;34m\u001b[0m\u001b[0;34m\u001b[0m\u001b[0m\n\u001b[0;32m----> 6\u001b[0;31m     \u001b[0;32mfor\u001b[0m \u001b[0mi\u001b[0m \u001b[0;32min\u001b[0m \u001b[0mrange\u001b[0m\u001b[0;34m(\u001b[0m\u001b[0mpred_class\u001b[0m\u001b[0;34m)\u001b[0m\u001b[0;34m:\u001b[0m\u001b[0;34m\u001b[0m\u001b[0;34m\u001b[0m\u001b[0m\n\u001b[0m\u001b[1;32m      7\u001b[0m       \u001b[0mhi\u001b[0m\u001b[0;34m[\u001b[0m\u001b[0mi\u001b[0m\u001b[0;34m]\u001b[0m\u001b[0;34m.\u001b[0m\u001b[0mvalue\u001b[0m \u001b[0;34m=\u001b[0m \u001b[0mnameProbDisplay\u001b[0m\u001b[0;34m(\u001b[0m\u001b[0mpred_class\u001b[0m\u001b[0;34m[\u001b[0m\u001b[0mi\u001b[0m\u001b[0;34m]\u001b[0m\u001b[0;34m,\u001b[0m \u001b[0mprobabilities\u001b[0m\u001b[0;34m[\u001b[0m\u001b[0mi\u001b[0m\u001b[0;34m]\u001b[0m\u001b[0;34m)\u001b[0m\u001b[0;34m\u001b[0m\u001b[0;34m\u001b[0m\u001b[0m\n\u001b[1;32m      8\u001b[0m \u001b[0;34m\u001b[0m\u001b[0m\n",
            "\u001b[0;31mTypeError\u001b[0m: 'MultiCategory' object cannot be interpreted as an integer"
          ]
        },
        {
          "output_type": "display_data",
          "data": {
            "text/plain": [
              "<IPython.core.display.HTML object>"
            ],
            "text/html": [
              "\n",
              "<style>\n",
              "    /* Turns off some styling */\n",
              "    progress {\n",
              "        /* gets rid of default border in Firefox and Opera. */\n",
              "        border: none;\n",
              "        /* Needs to be in here for Safari polyfill so background images work as expected. */\n",
              "        background-size: auto;\n",
              "    }\n",
              "    progress:not([value]), progress:not([value])::-webkit-progress-bar {\n",
              "        background: repeating-linear-gradient(45deg, #7e7e7e, #7e7e7e 10px, #5c5c5c 10px, #5c5c5c 20px);\n",
              "    }\n",
              "    .progress-bar-interrupted, .progress-bar-interrupted::-webkit-progress-bar {\n",
              "        background: #F44336;\n",
              "    }\n",
              "</style>\n"
            ]
          },
          "metadata": {}
        },
        {
          "output_type": "display_data",
          "data": {
            "text/plain": [
              "<IPython.core.display.HTML object>"
            ],
            "text/html": []
          },
          "metadata": {}
        },
        {
          "output_type": "display_data",
          "data": {
            "text/plain": [
              "<IPython.core.display.HTML object>"
            ],
            "text/html": [
              "\n",
              "<style>\n",
              "    /* Turns off some styling */\n",
              "    progress {\n",
              "        /* gets rid of default border in Firefox and Opera. */\n",
              "        border: none;\n",
              "        /* Needs to be in here for Safari polyfill so background images work as expected. */\n",
              "        background-size: auto;\n",
              "    }\n",
              "    progress:not([value]), progress:not([value])::-webkit-progress-bar {\n",
              "        background: repeating-linear-gradient(45deg, #7e7e7e, #7e7e7e 10px, #5c5c5c 10px, #5c5c5c 20px);\n",
              "    }\n",
              "    .progress-bar-interrupted, .progress-bar-interrupted::-webkit-progress-bar {\n",
              "        background: #F44336;\n",
              "    }\n",
              "</style>\n"
            ]
          },
          "metadata": {}
        },
        {
          "output_type": "display_data",
          "data": {
            "text/plain": [
              "<IPython.core.display.HTML object>"
            ],
            "text/html": []
          },
          "metadata": {}
        },
        {
          "output_type": "error",
          "ename": "TypeError",
          "evalue": "ignored",
          "traceback": [
            "\u001b[0;31m---------------------------------------------------------------------------\u001b[0m",
            "\u001b[0;31mTypeError\u001b[0m                                 Traceback (most recent call last)",
            "\u001b[0;32m<ipython-input-16-240bba0fbc5f>\u001b[0m in \u001b[0;36mon_click_classify\u001b[0;34m(change)\u001b[0m\n\u001b[1;32m      5\u001b[0m     \u001b[0mpred_class\u001b[0m\u001b[0;34m,\u001b[0m\u001b[0mpred_idx\u001b[0m\u001b[0;34m,\u001b[0m\u001b[0mprobabilities\u001b[0m \u001b[0;34m=\u001b[0m \u001b[0mlearn_inf\u001b[0m\u001b[0;34m.\u001b[0m\u001b[0mpredict\u001b[0m\u001b[0;34m(\u001b[0m\u001b[0mimg\u001b[0m\u001b[0;34m)\u001b[0m\u001b[0;34m\u001b[0m\u001b[0;34m\u001b[0m\u001b[0m\n\u001b[1;32m      6\u001b[0m     \u001b[0;32mfor\u001b[0m \u001b[0mi\u001b[0m \u001b[0;32min\u001b[0m \u001b[0mhi\u001b[0m\u001b[0;34m:\u001b[0m\u001b[0;34m\u001b[0m\u001b[0;34m\u001b[0m\u001b[0m\n\u001b[0;32m----> 7\u001b[0;31m       \u001b[0mi\u001b[0m\u001b[0;34m.\u001b[0m\u001b[0mvalue\u001b[0m \u001b[0;34m=\u001b[0m \u001b[0mnameProbDisplay\u001b[0m\u001b[0;34m(\u001b[0m\u001b[0mpred_class\u001b[0m\u001b[0;34m[\u001b[0m\u001b[0mi\u001b[0m\u001b[0;34m]\u001b[0m\u001b[0;34m,\u001b[0m \u001b[0mprobabilities\u001b[0m\u001b[0;34m[\u001b[0m\u001b[0mi\u001b[0m\u001b[0;34m]\u001b[0m\u001b[0;34m)\u001b[0m\u001b[0;34m\u001b[0m\u001b[0;34m\u001b[0m\u001b[0m\n\u001b[0m\u001b[1;32m      8\u001b[0m     VBox([widgets.Label('Upload a photo of either a sea lion or a seal!'), \n\u001b[1;32m      9\u001b[0m       btn_upload, btn_run, out_pl] + hi)\n",
            "\u001b[0;32m/usr/local/lib/python3.7/dist-packages/fastcore/foundation.py\u001b[0m in \u001b[0;36m__getitem__\u001b[0;34m(self, idx)\u001b[0m\n\u001b[1;32m    110\u001b[0m     \u001b[0;32mdef\u001b[0m \u001b[0m_xtra\u001b[0m\u001b[0;34m(\u001b[0m\u001b[0mself\u001b[0m\u001b[0;34m)\u001b[0m\u001b[0;34m:\u001b[0m \u001b[0;32mreturn\u001b[0m \u001b[0;32mNone\u001b[0m\u001b[0;34m\u001b[0m\u001b[0;34m\u001b[0m\u001b[0m\n\u001b[1;32m    111\u001b[0m     \u001b[0;32mdef\u001b[0m \u001b[0m_new\u001b[0m\u001b[0;34m(\u001b[0m\u001b[0mself\u001b[0m\u001b[0;34m,\u001b[0m \u001b[0mitems\u001b[0m\u001b[0;34m,\u001b[0m \u001b[0;34m*\u001b[0m\u001b[0margs\u001b[0m\u001b[0;34m,\u001b[0m \u001b[0;34m**\u001b[0m\u001b[0mkwargs\u001b[0m\u001b[0;34m)\u001b[0m\u001b[0;34m:\u001b[0m \u001b[0;32mreturn\u001b[0m \u001b[0mtype\u001b[0m\u001b[0;34m(\u001b[0m\u001b[0mself\u001b[0m\u001b[0;34m)\u001b[0m\u001b[0;34m(\u001b[0m\u001b[0mitems\u001b[0m\u001b[0;34m,\u001b[0m \u001b[0;34m*\u001b[0m\u001b[0margs\u001b[0m\u001b[0;34m,\u001b[0m \u001b[0muse_list\u001b[0m\u001b[0;34m=\u001b[0m\u001b[0;32mNone\u001b[0m\u001b[0;34m,\u001b[0m \u001b[0;34m**\u001b[0m\u001b[0mkwargs\u001b[0m\u001b[0;34m)\u001b[0m\u001b[0;34m\u001b[0m\u001b[0;34m\u001b[0m\u001b[0m\n\u001b[0;32m--> 112\u001b[0;31m     \u001b[0;32mdef\u001b[0m \u001b[0m__getitem__\u001b[0m\u001b[0;34m(\u001b[0m\u001b[0mself\u001b[0m\u001b[0;34m,\u001b[0m \u001b[0midx\u001b[0m\u001b[0;34m)\u001b[0m\u001b[0;34m:\u001b[0m \u001b[0;32mreturn\u001b[0m \u001b[0mself\u001b[0m\u001b[0;34m.\u001b[0m\u001b[0m_get\u001b[0m\u001b[0;34m(\u001b[0m\u001b[0midx\u001b[0m\u001b[0;34m)\u001b[0m \u001b[0;32mif\u001b[0m \u001b[0mis_indexer\u001b[0m\u001b[0;34m(\u001b[0m\u001b[0midx\u001b[0m\u001b[0;34m)\u001b[0m \u001b[0;32melse\u001b[0m \u001b[0mL\u001b[0m\u001b[0;34m(\u001b[0m\u001b[0mself\u001b[0m\u001b[0;34m.\u001b[0m\u001b[0m_get\u001b[0m\u001b[0;34m(\u001b[0m\u001b[0midx\u001b[0m\u001b[0;34m)\u001b[0m\u001b[0;34m,\u001b[0m \u001b[0muse_list\u001b[0m\u001b[0;34m=\u001b[0m\u001b[0;32mNone\u001b[0m\u001b[0;34m)\u001b[0m\u001b[0;34m\u001b[0m\u001b[0;34m\u001b[0m\u001b[0m\n\u001b[0m\u001b[1;32m    113\u001b[0m     \u001b[0;32mdef\u001b[0m \u001b[0mcopy\u001b[0m\u001b[0;34m(\u001b[0m\u001b[0mself\u001b[0m\u001b[0;34m)\u001b[0m\u001b[0;34m:\u001b[0m \u001b[0;32mreturn\u001b[0m \u001b[0mself\u001b[0m\u001b[0;34m.\u001b[0m\u001b[0m_new\u001b[0m\u001b[0;34m(\u001b[0m\u001b[0mself\u001b[0m\u001b[0;34m.\u001b[0m\u001b[0mitems\u001b[0m\u001b[0;34m.\u001b[0m\u001b[0mcopy\u001b[0m\u001b[0;34m(\u001b[0m\u001b[0;34m)\u001b[0m\u001b[0;34m)\u001b[0m\u001b[0;34m\u001b[0m\u001b[0;34m\u001b[0m\u001b[0m\n\u001b[1;32m    114\u001b[0m \u001b[0;34m\u001b[0m\u001b[0m\n",
            "\u001b[0;32m/usr/local/lib/python3.7/dist-packages/fastcore/foundation.py\u001b[0m in \u001b[0;36m_get\u001b[0;34m(self, i)\u001b[0m\n\u001b[1;32m    115\u001b[0m     \u001b[0;32mdef\u001b[0m \u001b[0m_get\u001b[0m\u001b[0;34m(\u001b[0m\u001b[0mself\u001b[0m\u001b[0;34m,\u001b[0m \u001b[0mi\u001b[0m\u001b[0;34m)\u001b[0m\u001b[0;34m:\u001b[0m\u001b[0;34m\u001b[0m\u001b[0;34m\u001b[0m\u001b[0m\n\u001b[1;32m    116\u001b[0m         \u001b[0;32mif\u001b[0m \u001b[0mis_indexer\u001b[0m\u001b[0;34m(\u001b[0m\u001b[0mi\u001b[0m\u001b[0;34m)\u001b[0m \u001b[0;32mor\u001b[0m \u001b[0misinstance\u001b[0m\u001b[0;34m(\u001b[0m\u001b[0mi\u001b[0m\u001b[0;34m,\u001b[0m\u001b[0mslice\u001b[0m\u001b[0;34m)\u001b[0m\u001b[0;34m:\u001b[0m \u001b[0;32mreturn\u001b[0m \u001b[0mgetattr\u001b[0m\u001b[0;34m(\u001b[0m\u001b[0mself\u001b[0m\u001b[0;34m.\u001b[0m\u001b[0mitems\u001b[0m\u001b[0;34m,\u001b[0m\u001b[0;34m'iloc'\u001b[0m\u001b[0;34m,\u001b[0m\u001b[0mself\u001b[0m\u001b[0;34m.\u001b[0m\u001b[0mitems\u001b[0m\u001b[0;34m)\u001b[0m\u001b[0;34m[\u001b[0m\u001b[0mi\u001b[0m\u001b[0;34m]\u001b[0m\u001b[0;34m\u001b[0m\u001b[0;34m\u001b[0m\u001b[0m\n\u001b[0;32m--> 117\u001b[0;31m         \u001b[0mi\u001b[0m \u001b[0;34m=\u001b[0m \u001b[0mmask2idxs\u001b[0m\u001b[0;34m(\u001b[0m\u001b[0mi\u001b[0m\u001b[0;34m)\u001b[0m\u001b[0;34m\u001b[0m\u001b[0;34m\u001b[0m\u001b[0m\n\u001b[0m\u001b[1;32m    118\u001b[0m         return (self.items.iloc[list(i)] if hasattr(self.items,'iloc')\n\u001b[1;32m    119\u001b[0m                 \u001b[0;32melse\u001b[0m \u001b[0mself\u001b[0m\u001b[0;34m.\u001b[0m\u001b[0mitems\u001b[0m\u001b[0;34m.\u001b[0m\u001b[0m__array__\u001b[0m\u001b[0;34m(\u001b[0m\u001b[0;34m)\u001b[0m\u001b[0;34m[\u001b[0m\u001b[0;34m(\u001b[0m\u001b[0mi\u001b[0m\u001b[0;34m,\u001b[0m\u001b[0;34m)\u001b[0m\u001b[0;34m]\u001b[0m \u001b[0;32mif\u001b[0m \u001b[0mhasattr\u001b[0m\u001b[0;34m(\u001b[0m\u001b[0mself\u001b[0m\u001b[0;34m.\u001b[0m\u001b[0mitems\u001b[0m\u001b[0;34m,\u001b[0m\u001b[0;34m'__array__'\u001b[0m\u001b[0;34m)\u001b[0m\u001b[0;34m\u001b[0m\u001b[0;34m\u001b[0m\u001b[0m\n",
            "\u001b[0;32m/usr/local/lib/python3.7/dist-packages/fastcore/foundation.py\u001b[0m in \u001b[0;36mmask2idxs\u001b[0;34m(mask)\u001b[0m\n\u001b[1;32m     58\u001b[0m     \u001b[0;34m\"Convert bool mask or index list to index `L`\"\u001b[0m\u001b[0;34m\u001b[0m\u001b[0;34m\u001b[0m\u001b[0m\n\u001b[1;32m     59\u001b[0m     \u001b[0;32mif\u001b[0m \u001b[0misinstance\u001b[0m\u001b[0;34m(\u001b[0m\u001b[0mmask\u001b[0m\u001b[0;34m,\u001b[0m\u001b[0mslice\u001b[0m\u001b[0;34m)\u001b[0m\u001b[0;34m:\u001b[0m \u001b[0;32mreturn\u001b[0m \u001b[0mmask\u001b[0m\u001b[0;34m\u001b[0m\u001b[0;34m\u001b[0m\u001b[0m\n\u001b[0;32m---> 60\u001b[0;31m     \u001b[0mmask\u001b[0m \u001b[0;34m=\u001b[0m \u001b[0mlist\u001b[0m\u001b[0;34m(\u001b[0m\u001b[0mmask\u001b[0m\u001b[0;34m)\u001b[0m\u001b[0;34m\u001b[0m\u001b[0;34m\u001b[0m\u001b[0m\n\u001b[0m\u001b[1;32m     61\u001b[0m     \u001b[0;32mif\u001b[0m \u001b[0mlen\u001b[0m\u001b[0;34m(\u001b[0m\u001b[0mmask\u001b[0m\u001b[0;34m)\u001b[0m\u001b[0;34m==\u001b[0m\u001b[0;36m0\u001b[0m\u001b[0;34m:\u001b[0m \u001b[0;32mreturn\u001b[0m \u001b[0;34m[\u001b[0m\u001b[0;34m]\u001b[0m\u001b[0;34m\u001b[0m\u001b[0;34m\u001b[0m\u001b[0m\n\u001b[1;32m     62\u001b[0m     \u001b[0mit\u001b[0m \u001b[0;34m=\u001b[0m \u001b[0mmask\u001b[0m\u001b[0;34m[\u001b[0m\u001b[0;36m0\u001b[0m\u001b[0;34m]\u001b[0m\u001b[0;34m\u001b[0m\u001b[0;34m\u001b[0m\u001b[0m\n",
            "\u001b[0;31mTypeError\u001b[0m: 'Label' object is not iterable"
          ]
        },
        {
          "output_type": "display_data",
          "data": {
            "text/plain": [
              "<IPython.core.display.HTML object>"
            ],
            "text/html": [
              "\n",
              "<style>\n",
              "    /* Turns off some styling */\n",
              "    progress {\n",
              "        /* gets rid of default border in Firefox and Opera. */\n",
              "        border: none;\n",
              "        /* Needs to be in here for Safari polyfill so background images work as expected. */\n",
              "        background-size: auto;\n",
              "    }\n",
              "    progress:not([value]), progress:not([value])::-webkit-progress-bar {\n",
              "        background: repeating-linear-gradient(45deg, #7e7e7e, #7e7e7e 10px, #5c5c5c 10px, #5c5c5c 20px);\n",
              "    }\n",
              "    .progress-bar-interrupted, .progress-bar-interrupted::-webkit-progress-bar {\n",
              "        background: #F44336;\n",
              "    }\n",
              "</style>\n"
            ]
          },
          "metadata": {}
        },
        {
          "output_type": "display_data",
          "data": {
            "text/plain": [
              "<IPython.core.display.HTML object>"
            ],
            "text/html": []
          },
          "metadata": {}
        },
        {
          "output_type": "error",
          "ename": "TypeError",
          "evalue": "ignored",
          "traceback": [
            "\u001b[0;31m---------------------------------------------------------------------------\u001b[0m",
            "\u001b[0;31mTypeError\u001b[0m                                 Traceback (most recent call last)",
            "\u001b[0;32m<ipython-input-18-f8a1fd42c29a>\u001b[0m in \u001b[0;36mon_click_classify\u001b[0;34m(change)\u001b[0m\n\u001b[1;32m      5\u001b[0m     \u001b[0mpred_class\u001b[0m\u001b[0;34m,\u001b[0m\u001b[0mpred_idx\u001b[0m\u001b[0;34m,\u001b[0m\u001b[0mprobabilities\u001b[0m \u001b[0;34m=\u001b[0m \u001b[0mlearn_inf\u001b[0m\u001b[0;34m.\u001b[0m\u001b[0mpredict\u001b[0m\u001b[0;34m(\u001b[0m\u001b[0mimg\u001b[0m\u001b[0;34m)\u001b[0m\u001b[0;34m\u001b[0m\u001b[0;34m\u001b[0m\u001b[0m\n\u001b[1;32m      6\u001b[0m     \u001b[0;32mfor\u001b[0m \u001b[0mi\u001b[0m \u001b[0;32min\u001b[0m \u001b[0mhi\u001b[0m\u001b[0;34m:\u001b[0m\u001b[0;34m\u001b[0m\u001b[0;34m\u001b[0m\u001b[0m\n\u001b[0;32m----> 7\u001b[0;31m       \u001b[0mi\u001b[0m\u001b[0;34m.\u001b[0m\u001b[0mvalue\u001b[0m \u001b[0;34m=\u001b[0m \u001b[0mnameProbDisplay\u001b[0m\u001b[0;34m(\u001b[0m\u001b[0mpred_class\u001b[0m\u001b[0;34m[\u001b[0m\u001b[0mi\u001b[0m\u001b[0;34m]\u001b[0m\u001b[0;34m,\u001b[0m \u001b[0mprobabilities\u001b[0m\u001b[0;34m[\u001b[0m\u001b[0mi\u001b[0m\u001b[0;34m]\u001b[0m\u001b[0;34m)\u001b[0m\u001b[0;34m\u001b[0m\u001b[0;34m\u001b[0m\u001b[0m\n\u001b[0m\u001b[1;32m      8\u001b[0m \u001b[0;34m\u001b[0m\u001b[0m\n\u001b[1;32m      9\u001b[0m \u001b[0mbtn_run\u001b[0m\u001b[0;34m.\u001b[0m\u001b[0mon_click\u001b[0m\u001b[0;34m(\u001b[0m\u001b[0mon_click_classify\u001b[0m\u001b[0;34m)\u001b[0m\u001b[0;34m\u001b[0m\u001b[0;34m\u001b[0m\u001b[0m\n",
            "\u001b[0;32m/usr/local/lib/python3.7/dist-packages/fastcore/foundation.py\u001b[0m in \u001b[0;36m__getitem__\u001b[0;34m(self, idx)\u001b[0m\n\u001b[1;32m    110\u001b[0m     \u001b[0;32mdef\u001b[0m \u001b[0m_xtra\u001b[0m\u001b[0;34m(\u001b[0m\u001b[0mself\u001b[0m\u001b[0;34m)\u001b[0m\u001b[0;34m:\u001b[0m \u001b[0;32mreturn\u001b[0m \u001b[0;32mNone\u001b[0m\u001b[0;34m\u001b[0m\u001b[0;34m\u001b[0m\u001b[0m\n\u001b[1;32m    111\u001b[0m     \u001b[0;32mdef\u001b[0m \u001b[0m_new\u001b[0m\u001b[0;34m(\u001b[0m\u001b[0mself\u001b[0m\u001b[0;34m,\u001b[0m \u001b[0mitems\u001b[0m\u001b[0;34m,\u001b[0m \u001b[0;34m*\u001b[0m\u001b[0margs\u001b[0m\u001b[0;34m,\u001b[0m \u001b[0;34m**\u001b[0m\u001b[0mkwargs\u001b[0m\u001b[0;34m)\u001b[0m\u001b[0;34m:\u001b[0m \u001b[0;32mreturn\u001b[0m \u001b[0mtype\u001b[0m\u001b[0;34m(\u001b[0m\u001b[0mself\u001b[0m\u001b[0;34m)\u001b[0m\u001b[0;34m(\u001b[0m\u001b[0mitems\u001b[0m\u001b[0;34m,\u001b[0m \u001b[0;34m*\u001b[0m\u001b[0margs\u001b[0m\u001b[0;34m,\u001b[0m \u001b[0muse_list\u001b[0m\u001b[0;34m=\u001b[0m\u001b[0;32mNone\u001b[0m\u001b[0;34m,\u001b[0m \u001b[0;34m**\u001b[0m\u001b[0mkwargs\u001b[0m\u001b[0;34m)\u001b[0m\u001b[0;34m\u001b[0m\u001b[0;34m\u001b[0m\u001b[0m\n\u001b[0;32m--> 112\u001b[0;31m     \u001b[0;32mdef\u001b[0m \u001b[0m__getitem__\u001b[0m\u001b[0;34m(\u001b[0m\u001b[0mself\u001b[0m\u001b[0;34m,\u001b[0m \u001b[0midx\u001b[0m\u001b[0;34m)\u001b[0m\u001b[0;34m:\u001b[0m \u001b[0;32mreturn\u001b[0m \u001b[0mself\u001b[0m\u001b[0;34m.\u001b[0m\u001b[0m_get\u001b[0m\u001b[0;34m(\u001b[0m\u001b[0midx\u001b[0m\u001b[0;34m)\u001b[0m \u001b[0;32mif\u001b[0m \u001b[0mis_indexer\u001b[0m\u001b[0;34m(\u001b[0m\u001b[0midx\u001b[0m\u001b[0;34m)\u001b[0m \u001b[0;32melse\u001b[0m \u001b[0mL\u001b[0m\u001b[0;34m(\u001b[0m\u001b[0mself\u001b[0m\u001b[0;34m.\u001b[0m\u001b[0m_get\u001b[0m\u001b[0;34m(\u001b[0m\u001b[0midx\u001b[0m\u001b[0;34m)\u001b[0m\u001b[0;34m,\u001b[0m \u001b[0muse_list\u001b[0m\u001b[0;34m=\u001b[0m\u001b[0;32mNone\u001b[0m\u001b[0;34m)\u001b[0m\u001b[0;34m\u001b[0m\u001b[0;34m\u001b[0m\u001b[0m\n\u001b[0m\u001b[1;32m    113\u001b[0m     \u001b[0;32mdef\u001b[0m \u001b[0mcopy\u001b[0m\u001b[0;34m(\u001b[0m\u001b[0mself\u001b[0m\u001b[0;34m)\u001b[0m\u001b[0;34m:\u001b[0m \u001b[0;32mreturn\u001b[0m \u001b[0mself\u001b[0m\u001b[0;34m.\u001b[0m\u001b[0m_new\u001b[0m\u001b[0;34m(\u001b[0m\u001b[0mself\u001b[0m\u001b[0;34m.\u001b[0m\u001b[0mitems\u001b[0m\u001b[0;34m.\u001b[0m\u001b[0mcopy\u001b[0m\u001b[0;34m(\u001b[0m\u001b[0;34m)\u001b[0m\u001b[0;34m)\u001b[0m\u001b[0;34m\u001b[0m\u001b[0;34m\u001b[0m\u001b[0m\n\u001b[1;32m    114\u001b[0m \u001b[0;34m\u001b[0m\u001b[0m\n",
            "\u001b[0;32m/usr/local/lib/python3.7/dist-packages/fastcore/foundation.py\u001b[0m in \u001b[0;36m_get\u001b[0;34m(self, i)\u001b[0m\n\u001b[1;32m    115\u001b[0m     \u001b[0;32mdef\u001b[0m \u001b[0m_get\u001b[0m\u001b[0;34m(\u001b[0m\u001b[0mself\u001b[0m\u001b[0;34m,\u001b[0m \u001b[0mi\u001b[0m\u001b[0;34m)\u001b[0m\u001b[0;34m:\u001b[0m\u001b[0;34m\u001b[0m\u001b[0;34m\u001b[0m\u001b[0m\n\u001b[1;32m    116\u001b[0m         \u001b[0;32mif\u001b[0m \u001b[0mis_indexer\u001b[0m\u001b[0;34m(\u001b[0m\u001b[0mi\u001b[0m\u001b[0;34m)\u001b[0m \u001b[0;32mor\u001b[0m \u001b[0misinstance\u001b[0m\u001b[0;34m(\u001b[0m\u001b[0mi\u001b[0m\u001b[0;34m,\u001b[0m\u001b[0mslice\u001b[0m\u001b[0;34m)\u001b[0m\u001b[0;34m:\u001b[0m \u001b[0;32mreturn\u001b[0m \u001b[0mgetattr\u001b[0m\u001b[0;34m(\u001b[0m\u001b[0mself\u001b[0m\u001b[0;34m.\u001b[0m\u001b[0mitems\u001b[0m\u001b[0;34m,\u001b[0m\u001b[0;34m'iloc'\u001b[0m\u001b[0;34m,\u001b[0m\u001b[0mself\u001b[0m\u001b[0;34m.\u001b[0m\u001b[0mitems\u001b[0m\u001b[0;34m)\u001b[0m\u001b[0;34m[\u001b[0m\u001b[0mi\u001b[0m\u001b[0;34m]\u001b[0m\u001b[0;34m\u001b[0m\u001b[0;34m\u001b[0m\u001b[0m\n\u001b[0;32m--> 117\u001b[0;31m         \u001b[0mi\u001b[0m \u001b[0;34m=\u001b[0m \u001b[0mmask2idxs\u001b[0m\u001b[0;34m(\u001b[0m\u001b[0mi\u001b[0m\u001b[0;34m)\u001b[0m\u001b[0;34m\u001b[0m\u001b[0;34m\u001b[0m\u001b[0m\n\u001b[0m\u001b[1;32m    118\u001b[0m         return (self.items.iloc[list(i)] if hasattr(self.items,'iloc')\n\u001b[1;32m    119\u001b[0m                 \u001b[0;32melse\u001b[0m \u001b[0mself\u001b[0m\u001b[0;34m.\u001b[0m\u001b[0mitems\u001b[0m\u001b[0;34m.\u001b[0m\u001b[0m__array__\u001b[0m\u001b[0;34m(\u001b[0m\u001b[0;34m)\u001b[0m\u001b[0;34m[\u001b[0m\u001b[0;34m(\u001b[0m\u001b[0mi\u001b[0m\u001b[0;34m,\u001b[0m\u001b[0;34m)\u001b[0m\u001b[0;34m]\u001b[0m \u001b[0;32mif\u001b[0m \u001b[0mhasattr\u001b[0m\u001b[0;34m(\u001b[0m\u001b[0mself\u001b[0m\u001b[0;34m.\u001b[0m\u001b[0mitems\u001b[0m\u001b[0;34m,\u001b[0m\u001b[0;34m'__array__'\u001b[0m\u001b[0;34m)\u001b[0m\u001b[0;34m\u001b[0m\u001b[0;34m\u001b[0m\u001b[0m\n",
            "\u001b[0;32m/usr/local/lib/python3.7/dist-packages/fastcore/foundation.py\u001b[0m in \u001b[0;36mmask2idxs\u001b[0;34m(mask)\u001b[0m\n\u001b[1;32m     58\u001b[0m     \u001b[0;34m\"Convert bool mask or index list to index `L`\"\u001b[0m\u001b[0;34m\u001b[0m\u001b[0;34m\u001b[0m\u001b[0m\n\u001b[1;32m     59\u001b[0m     \u001b[0;32mif\u001b[0m \u001b[0misinstance\u001b[0m\u001b[0;34m(\u001b[0m\u001b[0mmask\u001b[0m\u001b[0;34m,\u001b[0m\u001b[0mslice\u001b[0m\u001b[0;34m)\u001b[0m\u001b[0;34m:\u001b[0m \u001b[0;32mreturn\u001b[0m \u001b[0mmask\u001b[0m\u001b[0;34m\u001b[0m\u001b[0;34m\u001b[0m\u001b[0m\n\u001b[0;32m---> 60\u001b[0;31m     \u001b[0mmask\u001b[0m \u001b[0;34m=\u001b[0m \u001b[0mlist\u001b[0m\u001b[0;34m(\u001b[0m\u001b[0mmask\u001b[0m\u001b[0;34m)\u001b[0m\u001b[0;34m\u001b[0m\u001b[0;34m\u001b[0m\u001b[0m\n\u001b[0m\u001b[1;32m     61\u001b[0m     \u001b[0;32mif\u001b[0m \u001b[0mlen\u001b[0m\u001b[0;34m(\u001b[0m\u001b[0mmask\u001b[0m\u001b[0;34m)\u001b[0m\u001b[0;34m==\u001b[0m\u001b[0;36m0\u001b[0m\u001b[0;34m:\u001b[0m \u001b[0;32mreturn\u001b[0m \u001b[0;34m[\u001b[0m\u001b[0;34m]\u001b[0m\u001b[0;34m\u001b[0m\u001b[0;34m\u001b[0m\u001b[0m\n\u001b[1;32m     62\u001b[0m     \u001b[0mit\u001b[0m \u001b[0;34m=\u001b[0m \u001b[0mmask\u001b[0m\u001b[0;34m[\u001b[0m\u001b[0;36m0\u001b[0m\u001b[0;34m]\u001b[0m\u001b[0;34m\u001b[0m\u001b[0;34m\u001b[0m\u001b[0m\n",
            "\u001b[0;31mTypeError\u001b[0m: 'Label' object is not iterable"
          ]
        },
        {
          "output_type": "display_data",
          "data": {
            "text/plain": [
              "<IPython.core.display.HTML object>"
            ],
            "text/html": [
              "\n",
              "<style>\n",
              "    /* Turns off some styling */\n",
              "    progress {\n",
              "        /* gets rid of default border in Firefox and Opera. */\n",
              "        border: none;\n",
              "        /* Needs to be in here for Safari polyfill so background images work as expected. */\n",
              "        background-size: auto;\n",
              "    }\n",
              "    progress:not([value]), progress:not([value])::-webkit-progress-bar {\n",
              "        background: repeating-linear-gradient(45deg, #7e7e7e, #7e7e7e 10px, #5c5c5c 10px, #5c5c5c 20px);\n",
              "    }\n",
              "    .progress-bar-interrupted, .progress-bar-interrupted::-webkit-progress-bar {\n",
              "        background: #F44336;\n",
              "    }\n",
              "</style>\n"
            ]
          },
          "metadata": {}
        },
        {
          "output_type": "display_data",
          "data": {
            "text/plain": [
              "<IPython.core.display.HTML object>"
            ],
            "text/html": []
          },
          "metadata": {}
        },
        {
          "output_type": "error",
          "ename": "IndexError",
          "evalue": "ignored",
          "traceback": [
            "\u001b[0;31m---------------------------------------------------------------------------\u001b[0m",
            "\u001b[0;31mIndexError\u001b[0m                                Traceback (most recent call last)",
            "\u001b[0;32m<ipython-input-21-3605b429eebd>\u001b[0m in \u001b[0;36mon_click_classify\u001b[0;34m(change)\u001b[0m\n\u001b[1;32m      5\u001b[0m     \u001b[0mpred_class\u001b[0m\u001b[0;34m,\u001b[0m\u001b[0mpred_idx\u001b[0m\u001b[0;34m,\u001b[0m\u001b[0mprobabilities\u001b[0m \u001b[0;34m=\u001b[0m \u001b[0mlearn_inf\u001b[0m\u001b[0;34m.\u001b[0m\u001b[0mpredict\u001b[0m\u001b[0;34m(\u001b[0m\u001b[0mimg\u001b[0m\u001b[0;34m)\u001b[0m\u001b[0;34m\u001b[0m\u001b[0;34m\u001b[0m\u001b[0m\n\u001b[1;32m      6\u001b[0m     \u001b[0;32mfor\u001b[0m \u001b[0mi\u001b[0m \u001b[0;32min\u001b[0m \u001b[0mrange\u001b[0m\u001b[0;34m(\u001b[0m\u001b[0;36m2\u001b[0m\u001b[0;34m)\u001b[0m\u001b[0;34m:\u001b[0m\u001b[0;34m\u001b[0m\u001b[0;34m\u001b[0m\u001b[0m\n\u001b[0;32m----> 7\u001b[0;31m       \u001b[0mhi\u001b[0m\u001b[0;34m[\u001b[0m\u001b[0mi\u001b[0m\u001b[0;34m]\u001b[0m\u001b[0;34m.\u001b[0m\u001b[0mvalue\u001b[0m \u001b[0;34m=\u001b[0m \u001b[0mnameProbDisplay\u001b[0m\u001b[0;34m(\u001b[0m\u001b[0mpred_class\u001b[0m\u001b[0;34m[\u001b[0m\u001b[0mi\u001b[0m\u001b[0;34m]\u001b[0m\u001b[0;34m,\u001b[0m \u001b[0mprobabilities\u001b[0m\u001b[0;34m[\u001b[0m\u001b[0mi\u001b[0m\u001b[0;34m]\u001b[0m\u001b[0;34m)\u001b[0m\u001b[0;34m\u001b[0m\u001b[0;34m\u001b[0m\u001b[0m\n\u001b[0m\u001b[1;32m      8\u001b[0m \u001b[0;34m\u001b[0m\u001b[0m\n\u001b[1;32m      9\u001b[0m \u001b[0mbtn_run\u001b[0m\u001b[0;34m.\u001b[0m\u001b[0mon_click\u001b[0m\u001b[0;34m(\u001b[0m\u001b[0mon_click_classify\u001b[0m\u001b[0;34m)\u001b[0m\u001b[0;34m\u001b[0m\u001b[0;34m\u001b[0m\u001b[0m\n",
            "\u001b[0;32m/usr/local/lib/python3.7/dist-packages/fastcore/foundation.py\u001b[0m in \u001b[0;36m__getitem__\u001b[0;34m(self, idx)\u001b[0m\n\u001b[1;32m    110\u001b[0m     \u001b[0;32mdef\u001b[0m \u001b[0m_xtra\u001b[0m\u001b[0;34m(\u001b[0m\u001b[0mself\u001b[0m\u001b[0;34m)\u001b[0m\u001b[0;34m:\u001b[0m \u001b[0;32mreturn\u001b[0m \u001b[0;32mNone\u001b[0m\u001b[0;34m\u001b[0m\u001b[0;34m\u001b[0m\u001b[0m\n\u001b[1;32m    111\u001b[0m     \u001b[0;32mdef\u001b[0m \u001b[0m_new\u001b[0m\u001b[0;34m(\u001b[0m\u001b[0mself\u001b[0m\u001b[0;34m,\u001b[0m \u001b[0mitems\u001b[0m\u001b[0;34m,\u001b[0m \u001b[0;34m*\u001b[0m\u001b[0margs\u001b[0m\u001b[0;34m,\u001b[0m \u001b[0;34m**\u001b[0m\u001b[0mkwargs\u001b[0m\u001b[0;34m)\u001b[0m\u001b[0;34m:\u001b[0m \u001b[0;32mreturn\u001b[0m \u001b[0mtype\u001b[0m\u001b[0;34m(\u001b[0m\u001b[0mself\u001b[0m\u001b[0;34m)\u001b[0m\u001b[0;34m(\u001b[0m\u001b[0mitems\u001b[0m\u001b[0;34m,\u001b[0m \u001b[0;34m*\u001b[0m\u001b[0margs\u001b[0m\u001b[0;34m,\u001b[0m \u001b[0muse_list\u001b[0m\u001b[0;34m=\u001b[0m\u001b[0;32mNone\u001b[0m\u001b[0;34m,\u001b[0m \u001b[0;34m**\u001b[0m\u001b[0mkwargs\u001b[0m\u001b[0;34m)\u001b[0m\u001b[0;34m\u001b[0m\u001b[0;34m\u001b[0m\u001b[0m\n\u001b[0;32m--> 112\u001b[0;31m     \u001b[0;32mdef\u001b[0m \u001b[0m__getitem__\u001b[0m\u001b[0;34m(\u001b[0m\u001b[0mself\u001b[0m\u001b[0;34m,\u001b[0m \u001b[0midx\u001b[0m\u001b[0;34m)\u001b[0m\u001b[0;34m:\u001b[0m \u001b[0;32mreturn\u001b[0m \u001b[0mself\u001b[0m\u001b[0;34m.\u001b[0m\u001b[0m_get\u001b[0m\u001b[0;34m(\u001b[0m\u001b[0midx\u001b[0m\u001b[0;34m)\u001b[0m \u001b[0;32mif\u001b[0m \u001b[0mis_indexer\u001b[0m\u001b[0;34m(\u001b[0m\u001b[0midx\u001b[0m\u001b[0;34m)\u001b[0m \u001b[0;32melse\u001b[0m \u001b[0mL\u001b[0m\u001b[0;34m(\u001b[0m\u001b[0mself\u001b[0m\u001b[0;34m.\u001b[0m\u001b[0m_get\u001b[0m\u001b[0;34m(\u001b[0m\u001b[0midx\u001b[0m\u001b[0;34m)\u001b[0m\u001b[0;34m,\u001b[0m \u001b[0muse_list\u001b[0m\u001b[0;34m=\u001b[0m\u001b[0;32mNone\u001b[0m\u001b[0;34m)\u001b[0m\u001b[0;34m\u001b[0m\u001b[0;34m\u001b[0m\u001b[0m\n\u001b[0m\u001b[1;32m    113\u001b[0m     \u001b[0;32mdef\u001b[0m \u001b[0mcopy\u001b[0m\u001b[0;34m(\u001b[0m\u001b[0mself\u001b[0m\u001b[0;34m)\u001b[0m\u001b[0;34m:\u001b[0m \u001b[0;32mreturn\u001b[0m \u001b[0mself\u001b[0m\u001b[0;34m.\u001b[0m\u001b[0m_new\u001b[0m\u001b[0;34m(\u001b[0m\u001b[0mself\u001b[0m\u001b[0;34m.\u001b[0m\u001b[0mitems\u001b[0m\u001b[0;34m.\u001b[0m\u001b[0mcopy\u001b[0m\u001b[0;34m(\u001b[0m\u001b[0;34m)\u001b[0m\u001b[0;34m)\u001b[0m\u001b[0;34m\u001b[0m\u001b[0;34m\u001b[0m\u001b[0m\n\u001b[1;32m    114\u001b[0m \u001b[0;34m\u001b[0m\u001b[0m\n",
            "\u001b[0;32m/usr/local/lib/python3.7/dist-packages/fastcore/foundation.py\u001b[0m in \u001b[0;36m_get\u001b[0;34m(self, i)\u001b[0m\n\u001b[1;32m    114\u001b[0m \u001b[0;34m\u001b[0m\u001b[0m\n\u001b[1;32m    115\u001b[0m     \u001b[0;32mdef\u001b[0m \u001b[0m_get\u001b[0m\u001b[0;34m(\u001b[0m\u001b[0mself\u001b[0m\u001b[0;34m,\u001b[0m \u001b[0mi\u001b[0m\u001b[0;34m)\u001b[0m\u001b[0;34m:\u001b[0m\u001b[0;34m\u001b[0m\u001b[0;34m\u001b[0m\u001b[0m\n\u001b[0;32m--> 116\u001b[0;31m         \u001b[0;32mif\u001b[0m \u001b[0mis_indexer\u001b[0m\u001b[0;34m(\u001b[0m\u001b[0mi\u001b[0m\u001b[0;34m)\u001b[0m \u001b[0;32mor\u001b[0m \u001b[0misinstance\u001b[0m\u001b[0;34m(\u001b[0m\u001b[0mi\u001b[0m\u001b[0;34m,\u001b[0m\u001b[0mslice\u001b[0m\u001b[0;34m)\u001b[0m\u001b[0;34m:\u001b[0m \u001b[0;32mreturn\u001b[0m \u001b[0mgetattr\u001b[0m\u001b[0;34m(\u001b[0m\u001b[0mself\u001b[0m\u001b[0;34m.\u001b[0m\u001b[0mitems\u001b[0m\u001b[0;34m,\u001b[0m\u001b[0;34m'iloc'\u001b[0m\u001b[0;34m,\u001b[0m\u001b[0mself\u001b[0m\u001b[0;34m.\u001b[0m\u001b[0mitems\u001b[0m\u001b[0;34m)\u001b[0m\u001b[0;34m[\u001b[0m\u001b[0mi\u001b[0m\u001b[0;34m]\u001b[0m\u001b[0;34m\u001b[0m\u001b[0;34m\u001b[0m\u001b[0m\n\u001b[0m\u001b[1;32m    117\u001b[0m         \u001b[0mi\u001b[0m \u001b[0;34m=\u001b[0m \u001b[0mmask2idxs\u001b[0m\u001b[0;34m(\u001b[0m\u001b[0mi\u001b[0m\u001b[0;34m)\u001b[0m\u001b[0;34m\u001b[0m\u001b[0;34m\u001b[0m\u001b[0m\n\u001b[1;32m    118\u001b[0m         return (self.items.iloc[list(i)] if hasattr(self.items,'iloc')\n",
            "\u001b[0;31mIndexError\u001b[0m: list index out of range"
          ]
        },
        {
          "output_type": "display_data",
          "data": {
            "text/plain": [
              "<IPython.core.display.HTML object>"
            ],
            "text/html": [
              "\n",
              "<style>\n",
              "    /* Turns off some styling */\n",
              "    progress {\n",
              "        /* gets rid of default border in Firefox and Opera. */\n",
              "        border: none;\n",
              "        /* Needs to be in here for Safari polyfill so background images work as expected. */\n",
              "        background-size: auto;\n",
              "    }\n",
              "    progress:not([value]), progress:not([value])::-webkit-progress-bar {\n",
              "        background: repeating-linear-gradient(45deg, #7e7e7e, #7e7e7e 10px, #5c5c5c 10px, #5c5c5c 20px);\n",
              "    }\n",
              "    .progress-bar-interrupted, .progress-bar-interrupted::-webkit-progress-bar {\n",
              "        background: #F44336;\n",
              "    }\n",
              "</style>\n"
            ]
          },
          "metadata": {}
        },
        {
          "output_type": "display_data",
          "data": {
            "text/plain": [
              "<IPython.core.display.HTML object>"
            ],
            "text/html": []
          },
          "metadata": {}
        },
        {
          "output_type": "error",
          "ename": "TypeError",
          "evalue": "ignored",
          "traceback": [
            "\u001b[0;31m---------------------------------------------------------------------------\u001b[0m",
            "\u001b[0;31mTypeError\u001b[0m                                 Traceback (most recent call last)",
            "\u001b[0;32m<ipython-input-23-f2745e7e80fd>\u001b[0m in \u001b[0;36mon_click_classify\u001b[0;34m(change)\u001b[0m\n\u001b[1;32m      4\u001b[0m     \u001b[0;32mwith\u001b[0m \u001b[0mout_pl\u001b[0m\u001b[0;34m:\u001b[0m \u001b[0mdisplay\u001b[0m\u001b[0;34m(\u001b[0m\u001b[0mimg\u001b[0m\u001b[0;34m.\u001b[0m\u001b[0mto_thumb\u001b[0m\u001b[0;34m(\u001b[0m\u001b[0;36m128\u001b[0m\u001b[0;34m,\u001b[0m\u001b[0;36m128\u001b[0m\u001b[0;34m)\u001b[0m\u001b[0;34m)\u001b[0m\u001b[0;34m\u001b[0m\u001b[0;34m\u001b[0m\u001b[0m\n\u001b[1;32m      5\u001b[0m     \u001b[0mpred_class\u001b[0m\u001b[0;34m,\u001b[0m\u001b[0mpred_idx\u001b[0m\u001b[0;34m,\u001b[0m\u001b[0mprobabilities\u001b[0m \u001b[0;34m=\u001b[0m \u001b[0mlearn_inf\u001b[0m\u001b[0;34m.\u001b[0m\u001b[0mpredict\u001b[0m\u001b[0;34m(\u001b[0m\u001b[0mimg\u001b[0m\u001b[0;34m)\u001b[0m\u001b[0;34m\u001b[0m\u001b[0;34m\u001b[0m\u001b[0m\n\u001b[0;32m----> 6\u001b[0;31m     \u001b[0;32mfor\u001b[0m \u001b[0mi\u001b[0m \u001b[0;32min\u001b[0m \u001b[0mrange\u001b[0m\u001b[0;34m(\u001b[0m\u001b[0mpred_class\u001b[0m\u001b[0;34m)\u001b[0m\u001b[0;34m:\u001b[0m\u001b[0;34m\u001b[0m\u001b[0;34m\u001b[0m\u001b[0m\n\u001b[0m\u001b[1;32m      7\u001b[0m       \u001b[0mhi\u001b[0m\u001b[0;34m[\u001b[0m\u001b[0mi\u001b[0m\u001b[0;34m]\u001b[0m\u001b[0;34m.\u001b[0m\u001b[0mvalue\u001b[0m \u001b[0;34m=\u001b[0m \u001b[0mnameProbDisplay\u001b[0m\u001b[0;34m(\u001b[0m\u001b[0mpred_class\u001b[0m\u001b[0;34m[\u001b[0m\u001b[0mi\u001b[0m\u001b[0;34m]\u001b[0m\u001b[0;34m,\u001b[0m \u001b[0mprobabilities\u001b[0m\u001b[0;34m[\u001b[0m\u001b[0mi\u001b[0m\u001b[0;34m]\u001b[0m\u001b[0;34m)\u001b[0m\u001b[0;34m\u001b[0m\u001b[0;34m\u001b[0m\u001b[0m\n\u001b[1;32m      8\u001b[0m \u001b[0;34m\u001b[0m\u001b[0m\n",
            "\u001b[0;31mTypeError\u001b[0m: 'MultiCategory' object cannot be interpreted as an integer"
          ]
        },
        {
          "output_type": "display_data",
          "data": {
            "text/plain": [
              "<IPython.core.display.HTML object>"
            ],
            "text/html": [
              "\n",
              "<style>\n",
              "    /* Turns off some styling */\n",
              "    progress {\n",
              "        /* gets rid of default border in Firefox and Opera. */\n",
              "        border: none;\n",
              "        /* Needs to be in here for Safari polyfill so background images work as expected. */\n",
              "        background-size: auto;\n",
              "    }\n",
              "    progress:not([value]), progress:not([value])::-webkit-progress-bar {\n",
              "        background: repeating-linear-gradient(45deg, #7e7e7e, #7e7e7e 10px, #5c5c5c 10px, #5c5c5c 20px);\n",
              "    }\n",
              "    .progress-bar-interrupted, .progress-bar-interrupted::-webkit-progress-bar {\n",
              "        background: #F44336;\n",
              "    }\n",
              "</style>\n"
            ]
          },
          "metadata": {}
        },
        {
          "output_type": "display_data",
          "data": {
            "text/plain": [
              "<IPython.core.display.HTML object>"
            ],
            "text/html": []
          },
          "metadata": {}
        },
        {
          "output_type": "display_data",
          "data": {
            "text/plain": [
              "<IPython.core.display.HTML object>"
            ],
            "text/html": [
              "\n",
              "<style>\n",
              "    /* Turns off some styling */\n",
              "    progress {\n",
              "        /* gets rid of default border in Firefox and Opera. */\n",
              "        border: none;\n",
              "        /* Needs to be in here for Safari polyfill so background images work as expected. */\n",
              "        background-size: auto;\n",
              "    }\n",
              "    progress:not([value]), progress:not([value])::-webkit-progress-bar {\n",
              "        background: repeating-linear-gradient(45deg, #7e7e7e, #7e7e7e 10px, #5c5c5c 10px, #5c5c5c 20px);\n",
              "    }\n",
              "    .progress-bar-interrupted, .progress-bar-interrupted::-webkit-progress-bar {\n",
              "        background: #F44336;\n",
              "    }\n",
              "</style>\n"
            ]
          },
          "metadata": {}
        },
        {
          "output_type": "display_data",
          "data": {
            "text/plain": [
              "<IPython.core.display.HTML object>"
            ],
            "text/html": []
          },
          "metadata": {}
        },
        {
          "output_type": "error",
          "ename": "TypeError",
          "evalue": "ignored",
          "traceback": [
            "\u001b[0;31m---------------------------------------------------------------------------\u001b[0m",
            "\u001b[0;31mTypeError\u001b[0m                                 Traceback (most recent call last)",
            "\u001b[0;32m<ipython-input-16-240bba0fbc5f>\u001b[0m in \u001b[0;36mon_click_classify\u001b[0;34m(change)\u001b[0m\n\u001b[1;32m      5\u001b[0m     \u001b[0mpred_class\u001b[0m\u001b[0;34m,\u001b[0m\u001b[0mpred_idx\u001b[0m\u001b[0;34m,\u001b[0m\u001b[0mprobabilities\u001b[0m \u001b[0;34m=\u001b[0m \u001b[0mlearn_inf\u001b[0m\u001b[0;34m.\u001b[0m\u001b[0mpredict\u001b[0m\u001b[0;34m(\u001b[0m\u001b[0mimg\u001b[0m\u001b[0;34m)\u001b[0m\u001b[0;34m\u001b[0m\u001b[0;34m\u001b[0m\u001b[0m\n\u001b[1;32m      6\u001b[0m     \u001b[0;32mfor\u001b[0m \u001b[0mi\u001b[0m \u001b[0;32min\u001b[0m \u001b[0mhi\u001b[0m\u001b[0;34m:\u001b[0m\u001b[0;34m\u001b[0m\u001b[0;34m\u001b[0m\u001b[0m\n\u001b[0;32m----> 7\u001b[0;31m       \u001b[0mi\u001b[0m\u001b[0;34m.\u001b[0m\u001b[0mvalue\u001b[0m \u001b[0;34m=\u001b[0m \u001b[0mnameProbDisplay\u001b[0m\u001b[0;34m(\u001b[0m\u001b[0mpred_class\u001b[0m\u001b[0;34m[\u001b[0m\u001b[0mi\u001b[0m\u001b[0;34m]\u001b[0m\u001b[0;34m,\u001b[0m \u001b[0mprobabilities\u001b[0m\u001b[0;34m[\u001b[0m\u001b[0mi\u001b[0m\u001b[0;34m]\u001b[0m\u001b[0;34m)\u001b[0m\u001b[0;34m\u001b[0m\u001b[0;34m\u001b[0m\u001b[0m\n\u001b[0m\u001b[1;32m      8\u001b[0m     VBox([widgets.Label('Upload a photo of either a sea lion or a seal!'), \n\u001b[1;32m      9\u001b[0m       btn_upload, btn_run, out_pl] + hi)\n",
            "\u001b[0;32m/usr/local/lib/python3.7/dist-packages/fastcore/foundation.py\u001b[0m in \u001b[0;36m__getitem__\u001b[0;34m(self, idx)\u001b[0m\n\u001b[1;32m    110\u001b[0m     \u001b[0;32mdef\u001b[0m \u001b[0m_xtra\u001b[0m\u001b[0;34m(\u001b[0m\u001b[0mself\u001b[0m\u001b[0;34m)\u001b[0m\u001b[0;34m:\u001b[0m \u001b[0;32mreturn\u001b[0m \u001b[0;32mNone\u001b[0m\u001b[0;34m\u001b[0m\u001b[0;34m\u001b[0m\u001b[0m\n\u001b[1;32m    111\u001b[0m     \u001b[0;32mdef\u001b[0m \u001b[0m_new\u001b[0m\u001b[0;34m(\u001b[0m\u001b[0mself\u001b[0m\u001b[0;34m,\u001b[0m \u001b[0mitems\u001b[0m\u001b[0;34m,\u001b[0m \u001b[0;34m*\u001b[0m\u001b[0margs\u001b[0m\u001b[0;34m,\u001b[0m \u001b[0;34m**\u001b[0m\u001b[0mkwargs\u001b[0m\u001b[0;34m)\u001b[0m\u001b[0;34m:\u001b[0m \u001b[0;32mreturn\u001b[0m \u001b[0mtype\u001b[0m\u001b[0;34m(\u001b[0m\u001b[0mself\u001b[0m\u001b[0;34m)\u001b[0m\u001b[0;34m(\u001b[0m\u001b[0mitems\u001b[0m\u001b[0;34m,\u001b[0m \u001b[0;34m*\u001b[0m\u001b[0margs\u001b[0m\u001b[0;34m,\u001b[0m \u001b[0muse_list\u001b[0m\u001b[0;34m=\u001b[0m\u001b[0;32mNone\u001b[0m\u001b[0;34m,\u001b[0m \u001b[0;34m**\u001b[0m\u001b[0mkwargs\u001b[0m\u001b[0;34m)\u001b[0m\u001b[0;34m\u001b[0m\u001b[0;34m\u001b[0m\u001b[0m\n\u001b[0;32m--> 112\u001b[0;31m     \u001b[0;32mdef\u001b[0m \u001b[0m__getitem__\u001b[0m\u001b[0;34m(\u001b[0m\u001b[0mself\u001b[0m\u001b[0;34m,\u001b[0m \u001b[0midx\u001b[0m\u001b[0;34m)\u001b[0m\u001b[0;34m:\u001b[0m \u001b[0;32mreturn\u001b[0m \u001b[0mself\u001b[0m\u001b[0;34m.\u001b[0m\u001b[0m_get\u001b[0m\u001b[0;34m(\u001b[0m\u001b[0midx\u001b[0m\u001b[0;34m)\u001b[0m \u001b[0;32mif\u001b[0m \u001b[0mis_indexer\u001b[0m\u001b[0;34m(\u001b[0m\u001b[0midx\u001b[0m\u001b[0;34m)\u001b[0m \u001b[0;32melse\u001b[0m \u001b[0mL\u001b[0m\u001b[0;34m(\u001b[0m\u001b[0mself\u001b[0m\u001b[0;34m.\u001b[0m\u001b[0m_get\u001b[0m\u001b[0;34m(\u001b[0m\u001b[0midx\u001b[0m\u001b[0;34m)\u001b[0m\u001b[0;34m,\u001b[0m \u001b[0muse_list\u001b[0m\u001b[0;34m=\u001b[0m\u001b[0;32mNone\u001b[0m\u001b[0;34m)\u001b[0m\u001b[0;34m\u001b[0m\u001b[0;34m\u001b[0m\u001b[0m\n\u001b[0m\u001b[1;32m    113\u001b[0m     \u001b[0;32mdef\u001b[0m \u001b[0mcopy\u001b[0m\u001b[0;34m(\u001b[0m\u001b[0mself\u001b[0m\u001b[0;34m)\u001b[0m\u001b[0;34m:\u001b[0m \u001b[0;32mreturn\u001b[0m \u001b[0mself\u001b[0m\u001b[0;34m.\u001b[0m\u001b[0m_new\u001b[0m\u001b[0;34m(\u001b[0m\u001b[0mself\u001b[0m\u001b[0;34m.\u001b[0m\u001b[0mitems\u001b[0m\u001b[0;34m.\u001b[0m\u001b[0mcopy\u001b[0m\u001b[0;34m(\u001b[0m\u001b[0;34m)\u001b[0m\u001b[0;34m)\u001b[0m\u001b[0;34m\u001b[0m\u001b[0;34m\u001b[0m\u001b[0m\n\u001b[1;32m    114\u001b[0m \u001b[0;34m\u001b[0m\u001b[0m\n",
            "\u001b[0;32m/usr/local/lib/python3.7/dist-packages/fastcore/foundation.py\u001b[0m in \u001b[0;36m_get\u001b[0;34m(self, i)\u001b[0m\n\u001b[1;32m    115\u001b[0m     \u001b[0;32mdef\u001b[0m \u001b[0m_get\u001b[0m\u001b[0;34m(\u001b[0m\u001b[0mself\u001b[0m\u001b[0;34m,\u001b[0m \u001b[0mi\u001b[0m\u001b[0;34m)\u001b[0m\u001b[0;34m:\u001b[0m\u001b[0;34m\u001b[0m\u001b[0;34m\u001b[0m\u001b[0m\n\u001b[1;32m    116\u001b[0m         \u001b[0;32mif\u001b[0m \u001b[0mis_indexer\u001b[0m\u001b[0;34m(\u001b[0m\u001b[0mi\u001b[0m\u001b[0;34m)\u001b[0m \u001b[0;32mor\u001b[0m \u001b[0misinstance\u001b[0m\u001b[0;34m(\u001b[0m\u001b[0mi\u001b[0m\u001b[0;34m,\u001b[0m\u001b[0mslice\u001b[0m\u001b[0;34m)\u001b[0m\u001b[0;34m:\u001b[0m \u001b[0;32mreturn\u001b[0m \u001b[0mgetattr\u001b[0m\u001b[0;34m(\u001b[0m\u001b[0mself\u001b[0m\u001b[0;34m.\u001b[0m\u001b[0mitems\u001b[0m\u001b[0;34m,\u001b[0m\u001b[0;34m'iloc'\u001b[0m\u001b[0;34m,\u001b[0m\u001b[0mself\u001b[0m\u001b[0;34m.\u001b[0m\u001b[0mitems\u001b[0m\u001b[0;34m)\u001b[0m\u001b[0;34m[\u001b[0m\u001b[0mi\u001b[0m\u001b[0;34m]\u001b[0m\u001b[0;34m\u001b[0m\u001b[0;34m\u001b[0m\u001b[0m\n\u001b[0;32m--> 117\u001b[0;31m         \u001b[0mi\u001b[0m \u001b[0;34m=\u001b[0m \u001b[0mmask2idxs\u001b[0m\u001b[0;34m(\u001b[0m\u001b[0mi\u001b[0m\u001b[0;34m)\u001b[0m\u001b[0;34m\u001b[0m\u001b[0;34m\u001b[0m\u001b[0m\n\u001b[0m\u001b[1;32m    118\u001b[0m         return (self.items.iloc[list(i)] if hasattr(self.items,'iloc')\n\u001b[1;32m    119\u001b[0m                 \u001b[0;32melse\u001b[0m \u001b[0mself\u001b[0m\u001b[0;34m.\u001b[0m\u001b[0mitems\u001b[0m\u001b[0;34m.\u001b[0m\u001b[0m__array__\u001b[0m\u001b[0;34m(\u001b[0m\u001b[0;34m)\u001b[0m\u001b[0;34m[\u001b[0m\u001b[0;34m(\u001b[0m\u001b[0mi\u001b[0m\u001b[0;34m,\u001b[0m\u001b[0;34m)\u001b[0m\u001b[0;34m]\u001b[0m \u001b[0;32mif\u001b[0m \u001b[0mhasattr\u001b[0m\u001b[0;34m(\u001b[0m\u001b[0mself\u001b[0m\u001b[0;34m.\u001b[0m\u001b[0mitems\u001b[0m\u001b[0;34m,\u001b[0m\u001b[0;34m'__array__'\u001b[0m\u001b[0;34m)\u001b[0m\u001b[0;34m\u001b[0m\u001b[0;34m\u001b[0m\u001b[0m\n",
            "\u001b[0;32m/usr/local/lib/python3.7/dist-packages/fastcore/foundation.py\u001b[0m in \u001b[0;36mmask2idxs\u001b[0;34m(mask)\u001b[0m\n\u001b[1;32m     58\u001b[0m     \u001b[0;34m\"Convert bool mask or index list to index `L`\"\u001b[0m\u001b[0;34m\u001b[0m\u001b[0;34m\u001b[0m\u001b[0m\n\u001b[1;32m     59\u001b[0m     \u001b[0;32mif\u001b[0m \u001b[0misinstance\u001b[0m\u001b[0;34m(\u001b[0m\u001b[0mmask\u001b[0m\u001b[0;34m,\u001b[0m\u001b[0mslice\u001b[0m\u001b[0;34m)\u001b[0m\u001b[0;34m:\u001b[0m \u001b[0;32mreturn\u001b[0m \u001b[0mmask\u001b[0m\u001b[0;34m\u001b[0m\u001b[0;34m\u001b[0m\u001b[0m\n\u001b[0;32m---> 60\u001b[0;31m     \u001b[0mmask\u001b[0m \u001b[0;34m=\u001b[0m \u001b[0mlist\u001b[0m\u001b[0;34m(\u001b[0m\u001b[0mmask\u001b[0m\u001b[0;34m)\u001b[0m\u001b[0;34m\u001b[0m\u001b[0;34m\u001b[0m\u001b[0m\n\u001b[0m\u001b[1;32m     61\u001b[0m     \u001b[0;32mif\u001b[0m \u001b[0mlen\u001b[0m\u001b[0;34m(\u001b[0m\u001b[0mmask\u001b[0m\u001b[0;34m)\u001b[0m\u001b[0;34m==\u001b[0m\u001b[0;36m0\u001b[0m\u001b[0;34m:\u001b[0m \u001b[0;32mreturn\u001b[0m \u001b[0;34m[\u001b[0m\u001b[0;34m]\u001b[0m\u001b[0;34m\u001b[0m\u001b[0;34m\u001b[0m\u001b[0m\n\u001b[1;32m     62\u001b[0m     \u001b[0mit\u001b[0m \u001b[0;34m=\u001b[0m \u001b[0mmask\u001b[0m\u001b[0;34m[\u001b[0m\u001b[0;36m0\u001b[0m\u001b[0;34m]\u001b[0m\u001b[0;34m\u001b[0m\u001b[0;34m\u001b[0m\u001b[0m\n",
            "\u001b[0;31mTypeError\u001b[0m: 'Label' object is not iterable"
          ]
        },
        {
          "output_type": "display_data",
          "data": {
            "text/plain": [
              "<IPython.core.display.HTML object>"
            ],
            "text/html": [
              "\n",
              "<style>\n",
              "    /* Turns off some styling */\n",
              "    progress {\n",
              "        /* gets rid of default border in Firefox and Opera. */\n",
              "        border: none;\n",
              "        /* Needs to be in here for Safari polyfill so background images work as expected. */\n",
              "        background-size: auto;\n",
              "    }\n",
              "    progress:not([value]), progress:not([value])::-webkit-progress-bar {\n",
              "        background: repeating-linear-gradient(45deg, #7e7e7e, #7e7e7e 10px, #5c5c5c 10px, #5c5c5c 20px);\n",
              "    }\n",
              "    .progress-bar-interrupted, .progress-bar-interrupted::-webkit-progress-bar {\n",
              "        background: #F44336;\n",
              "    }\n",
              "</style>\n"
            ]
          },
          "metadata": {}
        },
        {
          "output_type": "display_data",
          "data": {
            "text/plain": [
              "<IPython.core.display.HTML object>"
            ],
            "text/html": []
          },
          "metadata": {}
        },
        {
          "output_type": "error",
          "ename": "TypeError",
          "evalue": "ignored",
          "traceback": [
            "\u001b[0;31m---------------------------------------------------------------------------\u001b[0m",
            "\u001b[0;31mTypeError\u001b[0m                                 Traceback (most recent call last)",
            "\u001b[0;32m<ipython-input-18-f8a1fd42c29a>\u001b[0m in \u001b[0;36mon_click_classify\u001b[0;34m(change)\u001b[0m\n\u001b[1;32m      5\u001b[0m     \u001b[0mpred_class\u001b[0m\u001b[0;34m,\u001b[0m\u001b[0mpred_idx\u001b[0m\u001b[0;34m,\u001b[0m\u001b[0mprobabilities\u001b[0m \u001b[0;34m=\u001b[0m \u001b[0mlearn_inf\u001b[0m\u001b[0;34m.\u001b[0m\u001b[0mpredict\u001b[0m\u001b[0;34m(\u001b[0m\u001b[0mimg\u001b[0m\u001b[0;34m)\u001b[0m\u001b[0;34m\u001b[0m\u001b[0;34m\u001b[0m\u001b[0m\n\u001b[1;32m      6\u001b[0m     \u001b[0;32mfor\u001b[0m \u001b[0mi\u001b[0m \u001b[0;32min\u001b[0m \u001b[0mhi\u001b[0m\u001b[0;34m:\u001b[0m\u001b[0;34m\u001b[0m\u001b[0;34m\u001b[0m\u001b[0m\n\u001b[0;32m----> 7\u001b[0;31m       \u001b[0mi\u001b[0m\u001b[0;34m.\u001b[0m\u001b[0mvalue\u001b[0m \u001b[0;34m=\u001b[0m \u001b[0mnameProbDisplay\u001b[0m\u001b[0;34m(\u001b[0m\u001b[0mpred_class\u001b[0m\u001b[0;34m[\u001b[0m\u001b[0mi\u001b[0m\u001b[0;34m]\u001b[0m\u001b[0;34m,\u001b[0m \u001b[0mprobabilities\u001b[0m\u001b[0;34m[\u001b[0m\u001b[0mi\u001b[0m\u001b[0;34m]\u001b[0m\u001b[0;34m)\u001b[0m\u001b[0;34m\u001b[0m\u001b[0;34m\u001b[0m\u001b[0m\n\u001b[0m\u001b[1;32m      8\u001b[0m \u001b[0;34m\u001b[0m\u001b[0m\n\u001b[1;32m      9\u001b[0m \u001b[0mbtn_run\u001b[0m\u001b[0;34m.\u001b[0m\u001b[0mon_click\u001b[0m\u001b[0;34m(\u001b[0m\u001b[0mon_click_classify\u001b[0m\u001b[0;34m)\u001b[0m\u001b[0;34m\u001b[0m\u001b[0;34m\u001b[0m\u001b[0m\n",
            "\u001b[0;32m/usr/local/lib/python3.7/dist-packages/fastcore/foundation.py\u001b[0m in \u001b[0;36m__getitem__\u001b[0;34m(self, idx)\u001b[0m\n\u001b[1;32m    110\u001b[0m     \u001b[0;32mdef\u001b[0m \u001b[0m_xtra\u001b[0m\u001b[0;34m(\u001b[0m\u001b[0mself\u001b[0m\u001b[0;34m)\u001b[0m\u001b[0;34m:\u001b[0m \u001b[0;32mreturn\u001b[0m \u001b[0;32mNone\u001b[0m\u001b[0;34m\u001b[0m\u001b[0;34m\u001b[0m\u001b[0m\n\u001b[1;32m    111\u001b[0m     \u001b[0;32mdef\u001b[0m \u001b[0m_new\u001b[0m\u001b[0;34m(\u001b[0m\u001b[0mself\u001b[0m\u001b[0;34m,\u001b[0m \u001b[0mitems\u001b[0m\u001b[0;34m,\u001b[0m \u001b[0;34m*\u001b[0m\u001b[0margs\u001b[0m\u001b[0;34m,\u001b[0m \u001b[0;34m**\u001b[0m\u001b[0mkwargs\u001b[0m\u001b[0;34m)\u001b[0m\u001b[0;34m:\u001b[0m \u001b[0;32mreturn\u001b[0m \u001b[0mtype\u001b[0m\u001b[0;34m(\u001b[0m\u001b[0mself\u001b[0m\u001b[0;34m)\u001b[0m\u001b[0;34m(\u001b[0m\u001b[0mitems\u001b[0m\u001b[0;34m,\u001b[0m \u001b[0;34m*\u001b[0m\u001b[0margs\u001b[0m\u001b[0;34m,\u001b[0m \u001b[0muse_list\u001b[0m\u001b[0;34m=\u001b[0m\u001b[0;32mNone\u001b[0m\u001b[0;34m,\u001b[0m \u001b[0;34m**\u001b[0m\u001b[0mkwargs\u001b[0m\u001b[0;34m)\u001b[0m\u001b[0;34m\u001b[0m\u001b[0;34m\u001b[0m\u001b[0m\n\u001b[0;32m--> 112\u001b[0;31m     \u001b[0;32mdef\u001b[0m \u001b[0m__getitem__\u001b[0m\u001b[0;34m(\u001b[0m\u001b[0mself\u001b[0m\u001b[0;34m,\u001b[0m \u001b[0midx\u001b[0m\u001b[0;34m)\u001b[0m\u001b[0;34m:\u001b[0m \u001b[0;32mreturn\u001b[0m \u001b[0mself\u001b[0m\u001b[0;34m.\u001b[0m\u001b[0m_get\u001b[0m\u001b[0;34m(\u001b[0m\u001b[0midx\u001b[0m\u001b[0;34m)\u001b[0m \u001b[0;32mif\u001b[0m \u001b[0mis_indexer\u001b[0m\u001b[0;34m(\u001b[0m\u001b[0midx\u001b[0m\u001b[0;34m)\u001b[0m \u001b[0;32melse\u001b[0m \u001b[0mL\u001b[0m\u001b[0;34m(\u001b[0m\u001b[0mself\u001b[0m\u001b[0;34m.\u001b[0m\u001b[0m_get\u001b[0m\u001b[0;34m(\u001b[0m\u001b[0midx\u001b[0m\u001b[0;34m)\u001b[0m\u001b[0;34m,\u001b[0m \u001b[0muse_list\u001b[0m\u001b[0;34m=\u001b[0m\u001b[0;32mNone\u001b[0m\u001b[0;34m)\u001b[0m\u001b[0;34m\u001b[0m\u001b[0;34m\u001b[0m\u001b[0m\n\u001b[0m\u001b[1;32m    113\u001b[0m     \u001b[0;32mdef\u001b[0m \u001b[0mcopy\u001b[0m\u001b[0;34m(\u001b[0m\u001b[0mself\u001b[0m\u001b[0;34m)\u001b[0m\u001b[0;34m:\u001b[0m \u001b[0;32mreturn\u001b[0m \u001b[0mself\u001b[0m\u001b[0;34m.\u001b[0m\u001b[0m_new\u001b[0m\u001b[0;34m(\u001b[0m\u001b[0mself\u001b[0m\u001b[0;34m.\u001b[0m\u001b[0mitems\u001b[0m\u001b[0;34m.\u001b[0m\u001b[0mcopy\u001b[0m\u001b[0;34m(\u001b[0m\u001b[0;34m)\u001b[0m\u001b[0;34m)\u001b[0m\u001b[0;34m\u001b[0m\u001b[0;34m\u001b[0m\u001b[0m\n\u001b[1;32m    114\u001b[0m \u001b[0;34m\u001b[0m\u001b[0m\n",
            "\u001b[0;32m/usr/local/lib/python3.7/dist-packages/fastcore/foundation.py\u001b[0m in \u001b[0;36m_get\u001b[0;34m(self, i)\u001b[0m\n\u001b[1;32m    115\u001b[0m     \u001b[0;32mdef\u001b[0m \u001b[0m_get\u001b[0m\u001b[0;34m(\u001b[0m\u001b[0mself\u001b[0m\u001b[0;34m,\u001b[0m \u001b[0mi\u001b[0m\u001b[0;34m)\u001b[0m\u001b[0;34m:\u001b[0m\u001b[0;34m\u001b[0m\u001b[0;34m\u001b[0m\u001b[0m\n\u001b[1;32m    116\u001b[0m         \u001b[0;32mif\u001b[0m \u001b[0mis_indexer\u001b[0m\u001b[0;34m(\u001b[0m\u001b[0mi\u001b[0m\u001b[0;34m)\u001b[0m \u001b[0;32mor\u001b[0m \u001b[0misinstance\u001b[0m\u001b[0;34m(\u001b[0m\u001b[0mi\u001b[0m\u001b[0;34m,\u001b[0m\u001b[0mslice\u001b[0m\u001b[0;34m)\u001b[0m\u001b[0;34m:\u001b[0m \u001b[0;32mreturn\u001b[0m \u001b[0mgetattr\u001b[0m\u001b[0;34m(\u001b[0m\u001b[0mself\u001b[0m\u001b[0;34m.\u001b[0m\u001b[0mitems\u001b[0m\u001b[0;34m,\u001b[0m\u001b[0;34m'iloc'\u001b[0m\u001b[0;34m,\u001b[0m\u001b[0mself\u001b[0m\u001b[0;34m.\u001b[0m\u001b[0mitems\u001b[0m\u001b[0;34m)\u001b[0m\u001b[0;34m[\u001b[0m\u001b[0mi\u001b[0m\u001b[0;34m]\u001b[0m\u001b[0;34m\u001b[0m\u001b[0;34m\u001b[0m\u001b[0m\n\u001b[0;32m--> 117\u001b[0;31m         \u001b[0mi\u001b[0m \u001b[0;34m=\u001b[0m \u001b[0mmask2idxs\u001b[0m\u001b[0;34m(\u001b[0m\u001b[0mi\u001b[0m\u001b[0;34m)\u001b[0m\u001b[0;34m\u001b[0m\u001b[0;34m\u001b[0m\u001b[0m\n\u001b[0m\u001b[1;32m    118\u001b[0m         return (self.items.iloc[list(i)] if hasattr(self.items,'iloc')\n\u001b[1;32m    119\u001b[0m                 \u001b[0;32melse\u001b[0m \u001b[0mself\u001b[0m\u001b[0;34m.\u001b[0m\u001b[0mitems\u001b[0m\u001b[0;34m.\u001b[0m\u001b[0m__array__\u001b[0m\u001b[0;34m(\u001b[0m\u001b[0;34m)\u001b[0m\u001b[0;34m[\u001b[0m\u001b[0;34m(\u001b[0m\u001b[0mi\u001b[0m\u001b[0;34m,\u001b[0m\u001b[0;34m)\u001b[0m\u001b[0;34m]\u001b[0m \u001b[0;32mif\u001b[0m \u001b[0mhasattr\u001b[0m\u001b[0;34m(\u001b[0m\u001b[0mself\u001b[0m\u001b[0;34m.\u001b[0m\u001b[0mitems\u001b[0m\u001b[0;34m,\u001b[0m\u001b[0;34m'__array__'\u001b[0m\u001b[0;34m)\u001b[0m\u001b[0;34m\u001b[0m\u001b[0;34m\u001b[0m\u001b[0m\n",
            "\u001b[0;32m/usr/local/lib/python3.7/dist-packages/fastcore/foundation.py\u001b[0m in \u001b[0;36mmask2idxs\u001b[0;34m(mask)\u001b[0m\n\u001b[1;32m     58\u001b[0m     \u001b[0;34m\"Convert bool mask or index list to index `L`\"\u001b[0m\u001b[0;34m\u001b[0m\u001b[0;34m\u001b[0m\u001b[0m\n\u001b[1;32m     59\u001b[0m     \u001b[0;32mif\u001b[0m \u001b[0misinstance\u001b[0m\u001b[0;34m(\u001b[0m\u001b[0mmask\u001b[0m\u001b[0;34m,\u001b[0m\u001b[0mslice\u001b[0m\u001b[0;34m)\u001b[0m\u001b[0;34m:\u001b[0m \u001b[0;32mreturn\u001b[0m \u001b[0mmask\u001b[0m\u001b[0;34m\u001b[0m\u001b[0;34m\u001b[0m\u001b[0m\n\u001b[0;32m---> 60\u001b[0;31m     \u001b[0mmask\u001b[0m \u001b[0;34m=\u001b[0m \u001b[0mlist\u001b[0m\u001b[0;34m(\u001b[0m\u001b[0mmask\u001b[0m\u001b[0;34m)\u001b[0m\u001b[0;34m\u001b[0m\u001b[0;34m\u001b[0m\u001b[0m\n\u001b[0m\u001b[1;32m     61\u001b[0m     \u001b[0;32mif\u001b[0m \u001b[0mlen\u001b[0m\u001b[0;34m(\u001b[0m\u001b[0mmask\u001b[0m\u001b[0;34m)\u001b[0m\u001b[0;34m==\u001b[0m\u001b[0;36m0\u001b[0m\u001b[0;34m:\u001b[0m \u001b[0;32mreturn\u001b[0m \u001b[0;34m[\u001b[0m\u001b[0;34m]\u001b[0m\u001b[0;34m\u001b[0m\u001b[0;34m\u001b[0m\u001b[0m\n\u001b[1;32m     62\u001b[0m     \u001b[0mit\u001b[0m \u001b[0;34m=\u001b[0m \u001b[0mmask\u001b[0m\u001b[0;34m[\u001b[0m\u001b[0;36m0\u001b[0m\u001b[0;34m]\u001b[0m\u001b[0;34m\u001b[0m\u001b[0;34m\u001b[0m\u001b[0m\n",
            "\u001b[0;31mTypeError\u001b[0m: 'Label' object is not iterable"
          ]
        },
        {
          "output_type": "display_data",
          "data": {
            "text/plain": [
              "<IPython.core.display.HTML object>"
            ],
            "text/html": [
              "\n",
              "<style>\n",
              "    /* Turns off some styling */\n",
              "    progress {\n",
              "        /* gets rid of default border in Firefox and Opera. */\n",
              "        border: none;\n",
              "        /* Needs to be in here for Safari polyfill so background images work as expected. */\n",
              "        background-size: auto;\n",
              "    }\n",
              "    progress:not([value]), progress:not([value])::-webkit-progress-bar {\n",
              "        background: repeating-linear-gradient(45deg, #7e7e7e, #7e7e7e 10px, #5c5c5c 10px, #5c5c5c 20px);\n",
              "    }\n",
              "    .progress-bar-interrupted, .progress-bar-interrupted::-webkit-progress-bar {\n",
              "        background: #F44336;\n",
              "    }\n",
              "</style>\n"
            ]
          },
          "metadata": {}
        },
        {
          "output_type": "display_data",
          "data": {
            "text/plain": [
              "<IPython.core.display.HTML object>"
            ],
            "text/html": []
          },
          "metadata": {}
        },
        {
          "output_type": "display_data",
          "data": {
            "text/plain": [
              "<IPython.core.display.HTML object>"
            ],
            "text/html": [
              "\n",
              "<style>\n",
              "    /* Turns off some styling */\n",
              "    progress {\n",
              "        /* gets rid of default border in Firefox and Opera. */\n",
              "        border: none;\n",
              "        /* Needs to be in here for Safari polyfill so background images work as expected. */\n",
              "        background-size: auto;\n",
              "    }\n",
              "    progress:not([value]), progress:not([value])::-webkit-progress-bar {\n",
              "        background: repeating-linear-gradient(45deg, #7e7e7e, #7e7e7e 10px, #5c5c5c 10px, #5c5c5c 20px);\n",
              "    }\n",
              "    .progress-bar-interrupted, .progress-bar-interrupted::-webkit-progress-bar {\n",
              "        background: #F44336;\n",
              "    }\n",
              "</style>\n"
            ]
          },
          "metadata": {}
        },
        {
          "output_type": "display_data",
          "data": {
            "text/plain": [
              "<IPython.core.display.HTML object>"
            ],
            "text/html": []
          },
          "metadata": {}
        },
        {
          "output_type": "error",
          "ename": "TypeError",
          "evalue": "ignored",
          "traceback": [
            "\u001b[0;31m---------------------------------------------------------------------------\u001b[0m",
            "\u001b[0;31mTypeError\u001b[0m                                 Traceback (most recent call last)",
            "\u001b[0;32m<ipython-input-23-f2745e7e80fd>\u001b[0m in \u001b[0;36mon_click_classify\u001b[0;34m(change)\u001b[0m\n\u001b[1;32m      4\u001b[0m     \u001b[0;32mwith\u001b[0m \u001b[0mout_pl\u001b[0m\u001b[0;34m:\u001b[0m \u001b[0mdisplay\u001b[0m\u001b[0;34m(\u001b[0m\u001b[0mimg\u001b[0m\u001b[0;34m.\u001b[0m\u001b[0mto_thumb\u001b[0m\u001b[0;34m(\u001b[0m\u001b[0;36m128\u001b[0m\u001b[0;34m,\u001b[0m\u001b[0;36m128\u001b[0m\u001b[0;34m)\u001b[0m\u001b[0;34m)\u001b[0m\u001b[0;34m\u001b[0m\u001b[0;34m\u001b[0m\u001b[0m\n\u001b[1;32m      5\u001b[0m     \u001b[0mpred_class\u001b[0m\u001b[0;34m,\u001b[0m\u001b[0mpred_idx\u001b[0m\u001b[0;34m,\u001b[0m\u001b[0mprobabilities\u001b[0m \u001b[0;34m=\u001b[0m \u001b[0mlearn_inf\u001b[0m\u001b[0;34m.\u001b[0m\u001b[0mpredict\u001b[0m\u001b[0;34m(\u001b[0m\u001b[0mimg\u001b[0m\u001b[0;34m)\u001b[0m\u001b[0;34m\u001b[0m\u001b[0;34m\u001b[0m\u001b[0m\n\u001b[0;32m----> 6\u001b[0;31m     \u001b[0;32mfor\u001b[0m \u001b[0mi\u001b[0m \u001b[0;32min\u001b[0m \u001b[0mrange\u001b[0m\u001b[0;34m(\u001b[0m\u001b[0mpred_class\u001b[0m\u001b[0;34m)\u001b[0m\u001b[0;34m:\u001b[0m\u001b[0;34m\u001b[0m\u001b[0;34m\u001b[0m\u001b[0m\n\u001b[0m\u001b[1;32m      7\u001b[0m       \u001b[0mhi\u001b[0m\u001b[0;34m[\u001b[0m\u001b[0mi\u001b[0m\u001b[0;34m]\u001b[0m\u001b[0;34m.\u001b[0m\u001b[0mvalue\u001b[0m \u001b[0;34m=\u001b[0m \u001b[0mnameProbDisplay\u001b[0m\u001b[0;34m(\u001b[0m\u001b[0mpred_class\u001b[0m\u001b[0;34m[\u001b[0m\u001b[0mi\u001b[0m\u001b[0;34m]\u001b[0m\u001b[0;34m,\u001b[0m \u001b[0mprobabilities\u001b[0m\u001b[0;34m[\u001b[0m\u001b[0mi\u001b[0m\u001b[0;34m]\u001b[0m\u001b[0;34m)\u001b[0m\u001b[0;34m\u001b[0m\u001b[0;34m\u001b[0m\u001b[0m\n\u001b[1;32m      8\u001b[0m \u001b[0;34m\u001b[0m\u001b[0m\n",
            "\u001b[0;31mTypeError\u001b[0m: 'MultiCategory' object cannot be interpreted as an integer"
          ]
        },
        {
          "output_type": "display_data",
          "data": {
            "text/plain": [
              "<IPython.core.display.HTML object>"
            ],
            "text/html": [
              "\n",
              "<style>\n",
              "    /* Turns off some styling */\n",
              "    progress {\n",
              "        /* gets rid of default border in Firefox and Opera. */\n",
              "        border: none;\n",
              "        /* Needs to be in here for Safari polyfill so background images work as expected. */\n",
              "        background-size: auto;\n",
              "    }\n",
              "    progress:not([value]), progress:not([value])::-webkit-progress-bar {\n",
              "        background: repeating-linear-gradient(45deg, #7e7e7e, #7e7e7e 10px, #5c5c5c 10px, #5c5c5c 20px);\n",
              "    }\n",
              "    .progress-bar-interrupted, .progress-bar-interrupted::-webkit-progress-bar {\n",
              "        background: #F44336;\n",
              "    }\n",
              "</style>\n"
            ]
          },
          "metadata": {}
        },
        {
          "output_type": "display_data",
          "data": {
            "text/plain": [
              "<IPython.core.display.HTML object>"
            ],
            "text/html": []
          },
          "metadata": {}
        }
      ]
    }
  ]
}