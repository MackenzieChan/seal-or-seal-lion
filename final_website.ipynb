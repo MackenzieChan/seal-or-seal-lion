{
  "nbformat": 4,
  "nbformat_minor": 0,
  "metadata": {
    "colab": {
      "provenance": [],
      "collapsed_sections": []
    },
    "kernelspec": {
      "name": "python3",
      "display_name": "Python 3"
    },
    "language_info": {
      "name": "python"
    }
  },
  "cells": [
    {
      "cell_type": "code",
      "source": [
        "from fastai.vision.all import *\n",
        "from fastai.vision.widgets import *\n",
        "def get_x(r): return r['fname']\n",
        "def get_y(r): return r['labels'].split(' ')"
      ],
      "metadata": {
        "id": "jHJhk49WJZUi"
      },
      "execution_count": 5,
      "outputs": []
    },
    {
      "cell_type": "code",
      "source": [
        "learn_inf = load_learner('export.pkl')"
      ],
      "metadata": {
        "id": "GvUP9VQtuMlp"
      },
      "execution_count": null,
      "outputs": []
    },
    {
      "cell_type": "code",
      "source": [
        "btn_upload = widgets.FileUpload()"
      ],
      "metadata": {
        "id": "h9OwONHMMKTE"
      },
      "execution_count": 15,
      "outputs": []
    },
    {
      "cell_type": "code",
      "source": [
        "btn_run = widgets.Button(description='Classify')"
      ],
      "metadata": {
        "id": "qW44mWNAMReC"
      },
      "execution_count": 16,
      "outputs": []
    },
    {
      "cell_type": "code",
      "source": [
        "out_pl = widgets.Output()\n",
        "lbl_pred = widgets.Label()\n",
        "hi = [widgets.Label(), widgets.Label(), widgets.Label()]\n"
      ],
      "metadata": {
        "id": "zbBkGi2YMpxO"
      },
      "execution_count": 17,
      "outputs": []
    },
    {
      "cell_type": "code",
      "source": [
        "def nameProbDisplay(animal, prob):\n",
        "  return f'Prediction: {animal.replace(\"_\", \" \").capitalize()}; Probability: {prob * 10:.4f}%'"
      ],
      "metadata": {
        "id": "DKOJYC4rq18F"
      },
      "execution_count": 18,
      "outputs": []
    },
    {
      "cell_type": "code",
      "source": [
        "def on_click_classify(change):\n",
        "    img = PILImage.create([f.content.tobytes() for f in btn_upload.value][-1])\n",
        "    out_pl.clear_output()\n",
        "    with out_pl: display(img.to_thumb(128,128))\n",
        "    pred_class,pred_idx,probabilities = learn_inf.predict(img)\n",
        "    for i in range(len(pred_class)):\n",
        "      hi[i].value = nameProbDisplay(pred_class[i], probabilities[i])\n",
        "    if len(pred_class) == 0:\n",
        "      hi[0].value = \"No seal or sea lion detected.\"\n",
        "\n",
        "btn_run.on_click(on_click_classify)"
      ],
      "metadata": {
        "id": "1XAMEU2dKjJZ"
      },
      "execution_count": 47,
      "outputs": []
    },
    {
      "cell_type": "code",
      "source": [
        "ack = [widgets.Label('Upload a photo of either a sea lion or a seal!'), \n",
        "      btn_upload, btn_run, out_pl] + hi\n",
        "VBox([widgets.Label('Upload a photo of either a sea lion or a seal!'), \n",
        "      btn_upload, btn_run, out_pl] + hi)"
      ],
      "metadata": {
        "id": "Dp0tR3ipMx6M"
      },
      "execution_count": null,
      "outputs": []
    }
  ]
}